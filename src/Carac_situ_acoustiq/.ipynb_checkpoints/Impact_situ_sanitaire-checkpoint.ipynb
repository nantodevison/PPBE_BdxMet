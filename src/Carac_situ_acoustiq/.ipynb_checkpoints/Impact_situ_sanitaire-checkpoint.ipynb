{
 "cells": [
  {
   "cell_type": "markdown",
   "metadata": {},
   "source": [
    "# IMPACT DE LA SITUATION SANITAIRE SUR L'EMISSION ACOUSTIQUE DE LA ROCADE"
   ]
  },
  {
   "cell_type": "code",
   "execution_count": 73,
   "metadata": {},
   "outputs": [
    {
     "name": "stdout",
     "output_type": "stream",
     "text": [
      "The autoreload extension is already loaded. To reload it, use:\n",
      "  %reload_ext autoreload\n"
     ]
    }
   ],
   "source": [
    "%load_ext autoreload\n",
    "%autoreload 2\n",
    "import pandas as pd\n",
    "import sys, os\n",
    "sys.path.append(r'C:\\Users\\martin.schoreisz\\git\\Outils\\Outils\\Martin_Perso')\n",
    "sys.path.append(r'C:\\Users\\martin.schoreisz\\git\\otv\\otv\\Transfert_Donnees')\n",
    "import Bruit.Emission as be\n",
    "import Import_trafics as it\n",
    "import altair as alt"
   ]
  },
  {
   "cell_type": "markdown",
   "metadata": {},
   "source": [
    "## Méthode Générale\n",
    "Importer les données de la DIRA, calculer le niveau d'émission horaire, visualiser  : \n",
    "- les ecarts entre les differents jour\n",
    "- les ecarts entre les différentes situations"
   ]
  },
  {
   "cell_type": "markdown",
   "metadata": {},
   "source": [
    "> ### Import des données DIRA\n",
    "la DIRA nous a fourni des données sur les stations SE43 et SE24 \n",
    "**ATTENTION** : les données de la station SE24 et sur les bretelles ne fournissent pas de vitesse ni de distinction VL / PL, donc on va partir sur une estimation. \n",
    "> - Dans un premier temps on traite d'abord les données de débit de la station S43, on les visualise et on analyse : on voit bien avec des valeurs fofaitaire de vitesse la différence du au trafic entre les jours ouvrés et le WE\n",
    "> - il faut pas faire la somme des sens au début, mais on fera la somme energétiques des niveaux de bruit des deux sens pour chaque heure à la fin (comme ça si un sens est vraiment sup on ne le minore pas avec une vitesse moyenne)\n",
    "> - ensuite on cherche a merger avec les données de vitesse, mais là pas de scripts tout prets dans les données de OTV. En plus les données de vitesses sont fournies uniquement par moyenne sur les jours ouvrés, **donc il faudra voir avec la DIRA comment récupérer des vitesses moyennes horaires par jour et par sens. est-ce possible ?**"
   ]
  },
  {
   "cell_type": "markdown",
   "metadata": {},
   "source": [
    ">> #### Données de trafic"
   ]
  },
  {
   "cell_type": "code",
   "execution_count": 227,
   "metadata": {},
   "outputs": [],
   "source": [
    "dossier=r'C:\\Users\\martin.schoreisz\\Box\\Dossier_Personnel_de_Martin_SCHOREISZ\\PPBE BdxM\\Bruit_ressenti\\donnees_sources\\DIRA\\Comparaison_trafic_confinement-courvre-feu\\Cerema_ech_24'\n",
    "nomFichier='S43_debit_VL_PL_23_11_29_11.xls'\n",
    "dfFichier=pd.read_excel(os.path.join(dossier, nomFichier),sheet_name=None)"
   ]
  },
  {
   "cell_type": "code",
   "execution_count": 249,
   "metadata": {},
   "outputs": [],
   "source": [
    "#fonction utile pour pus tard jointure avec vitesses\n",
    "def typeJour(date):\n",
    "    if date.weekday() in range(5) : \n",
    "        return 'JO'\n",
    "    elif date.weekday()==5 :\n",
    "        return 'Samedi'\n",
    "    else : \n",
    "        return 'Dimanche'\n",
    "#utilisation des codes OTV\n",
    "dira=it.Comptage_Dira(r'Q:\\DAIT\\TI\\DREAL33\\2020\\OTV\\Doc_travail\\Donnees_source\\DIRA\\0_tmja_dira_par_section_20200106.ods',\n",
    "                      r'C:\\Users\\martin.schoreisz\\Box\\Dossier_Personnel_de_Martin_SCHOREISZ\\PPBE BdxM\\Bruit_ressenti\\donnees_sources\\DIRA\\Comparaison_trafic_confinement-courvre-feu\\Cerema_ech_24',\n",
    "                     '2019','local_otv_gti', 'na_2010_2019_p')\n",
    "#Creer les données horaires format OTV, puis la passer pour un format de calcul\n",
    "dfHoraireOtv=dira.miseEnFormeFichier(nomFichier,6)\n",
    "dfHoraireOtv['typeJour']=dfHoraireOtv.jour.apply(lambda x : typeJour(x)) \n",
    "dfHoraireOtv['sens']=dfHoraireOtv.voie.apply(lambda x : x.lower().replace(' ',''))\n",
    "dfHoraireOtv.set_index(['jour', 'type_veh','sens','typeJour'],inplace=True)\n",
    "dfHoraireStack=dfHoraireOtv[[c for c in dfHoraireOtv.columns if c[0]=='h']].stack().reset_index().rename(columns={'level_4':'heure',0:'nbVeh'})\n",
    "dfHoraireGroup=dfHoraireStack.groupby(['jour','heure','type_veh']).nbVeh.sum().reset_index()\n",
    "dfHoraireEmission=dfHoraireGroup.loc[dfHoraireGroup.type_veh=='VL'].merge(dfHoraireGroup.loc[dfHoraireGroup.type_veh=='PL'][['jour','heure','nbVeh']], on=['jour','heure'],suffixes=('VL','PL'))\n",
    "#mettre en forme les données\n",
    "dfHoraireEmission['emission']=dfHoraireEmission.apply(lambda x : be.Route(x.nbVehVL, x.nbVehPL, 90, 80).lwm, axis=1)\n",
    "dfHoraireEmission['dateHeure']=dfHoraireEmission.apply(lambda x : pd.to_datetime(f\"{x.jour.strftime('%Y-%m-%d')} {x.heure.split('_')[0][1:]}:00:00\"), axis=1)"
   ]
  },
  {
   "cell_type": "code",
   "execution_count": 216,
   "metadata": {},
   "outputs": [
    {
     "data": {
      "text/html": [
       "\n",
       "<div id=\"altair-viz-5969b90ecd4b438cab2fd76c2bcdf6b2\"></div>\n",
       "<script type=\"text/javascript\">\n",
       "  (function(spec, embedOpt){\n",
       "    let outputDiv = document.currentScript.previousElementSibling;\n",
       "    if (outputDiv.id !== \"altair-viz-5969b90ecd4b438cab2fd76c2bcdf6b2\") {\n",
       "      outputDiv = document.getElementById(\"altair-viz-5969b90ecd4b438cab2fd76c2bcdf6b2\");\n",
       "    }\n",
       "    const paths = {\n",
       "      \"vega\": \"https://cdn.jsdelivr.net/npm//vega@5?noext\",\n",
       "      \"vega-lib\": \"https://cdn.jsdelivr.net/npm//vega-lib?noext\",\n",
       "      \"vega-lite\": \"https://cdn.jsdelivr.net/npm//vega-lite@4.8.1?noext\",\n",
       "      \"vega-embed\": \"https://cdn.jsdelivr.net/npm//vega-embed@6?noext\",\n",
       "    };\n",
       "\n",
       "    function loadScript(lib) {\n",
       "      return new Promise(function(resolve, reject) {\n",
       "        var s = document.createElement('script');\n",
       "        s.src = paths[lib];\n",
       "        s.async = true;\n",
       "        s.onload = () => resolve(paths[lib]);\n",
       "        s.onerror = () => reject(`Error loading script: ${paths[lib]}`);\n",
       "        document.getElementsByTagName(\"head\")[0].appendChild(s);\n",
       "      });\n",
       "    }\n",
       "\n",
       "    function showError(err) {\n",
       "      outputDiv.innerHTML = `<div class=\"error\" style=\"color:red;\">${err}</div>`;\n",
       "      throw err;\n",
       "    }\n",
       "\n",
       "    function displayChart(vegaEmbed) {\n",
       "      vegaEmbed(outputDiv, spec, embedOpt)\n",
       "        .catch(err => showError(`Javascript Error: ${err.message}<br>This usually means there's a typo in your chart specification. See the javascript console for the full traceback.`));\n",
       "    }\n",
       "\n",
       "    if(typeof define === \"function\" && define.amd) {\n",
       "      requirejs.config({paths});\n",
       "      require([\"vega-embed\"], displayChart, err => showError(`Error loading script: ${err.message}`));\n",
       "    } else if (typeof vegaEmbed === \"function\") {\n",
       "      displayChart(vegaEmbed);\n",
       "    } else {\n",
       "      loadScript(\"vega\")\n",
       "        .then(() => loadScript(\"vega-lite\"))\n",
       "        .then(() => loadScript(\"vega-embed\"))\n",
       "        .catch(showError)\n",
       "        .then(() => displayChart(vegaEmbed));\n",
       "    }\n",
       "  })({\"config\": {\"view\": {\"continuousWidth\": 400, \"continuousHeight\": 300}}, \"data\": {\"name\": \"data-1e5223056c17e1e1f4165a19347826fa\"}, \"mark\": \"line\", \"encoding\": {\"color\": {\"type\": \"temporal\", \"field\": \"dateHeure\", \"scale\": {\"scheme\": \"tableau10\"}, \"sort\": [0, 1, 2], \"timeUnit\": \"day\"}, \"x\": {\"type\": \"temporal\", \"field\": \"dateHeure\", \"timeUnit\": \"hours\"}, \"y\": {\"type\": \"quantitative\", \"field\": \"emission\", \"scale\": {\"zero\": false}}}, \"$schema\": \"https://vega.github.io/schema/vega-lite/v4.8.1.json\", \"datasets\": {\"data-1e5223056c17e1e1f4165a19347826fa\": [{\"jour\": \"2020-11-23T00:00:00\", \"heure\": \"h0_1\", \"type_veh\": \"VL\", \"nbVehVL\": 214, \"nbVehPL\": 489, \"emission\": 90.79670925595804, \"dateHeure\": \"2020-11-23T00:00:00\"}, {\"jour\": \"2020-11-23T00:00:00\", \"heure\": \"h10_11\", \"type_veh\": \"VL\", \"nbVehVL\": 4278, \"nbVehPL\": 1595, \"emission\": 97.17841144557453, \"dateHeure\": \"2020-11-23T10:00:00\"}, {\"jour\": \"2020-11-23T00:00:00\", \"heure\": \"h11_12\", \"type_veh\": \"VL\", \"nbVehVL\": 4232, \"nbVehPL\": 1600, \"emission\": 97.17403287431844, \"dateHeure\": \"2020-11-23T11:00:00\"}, {\"jour\": \"2020-11-23T00:00:00\", \"heure\": \"h12_13\", \"type_veh\": \"VL\", \"nbVehVL\": 4409, \"nbVehPL\": 1414, \"emission\": 96.86092557438928, \"dateHeure\": \"2020-11-23T12:00:00\"}, {\"jour\": \"2020-11-23T00:00:00\", \"heure\": \"h13_14\", \"type_veh\": \"VL\", \"nbVehVL\": 4567, \"nbVehPL\": 1374, \"emission\": 96.83006772707651, \"dateHeure\": \"2020-11-23T13:00:00\"}, {\"jour\": \"2020-11-23T00:00:00\", \"heure\": \"h14_15\", \"type_veh\": \"VL\", \"nbVehVL\": 4629, \"nbVehPL\": 1418, \"emission\": 96.9400943610625, \"dateHeure\": \"2020-11-23T14:00:00\"}, {\"jour\": \"2020-11-23T00:00:00\", \"heure\": \"h15_16\", \"type_veh\": \"VL\", \"nbVehVL\": 4900, \"nbVehPL\": 1546, \"emission\": 97.27212386873744, \"dateHeure\": \"2020-11-23T15:00:00\"}, {\"jour\": \"2020-11-23T00:00:00\", \"heure\": \"h16_17\", \"type_veh\": \"VL\", \"nbVehVL\": 6411, \"nbVehPL\": 1517, \"emission\": 97.64886455012837, \"dateHeure\": \"2020-11-23T16:00:00\"}, {\"jour\": \"2020-11-23T00:00:00\", \"heure\": \"h17_18\", \"type_veh\": \"VL\", \"nbVehVL\": 6976, \"nbVehPL\": 1364, \"emission\": 97.53868797708239, \"dateHeure\": \"2020-11-23T17:00:00\"}, {\"jour\": \"2020-11-23T00:00:00\", \"heure\": \"h18_19\", \"type_veh\": \"VL\", \"nbVehVL\": 5716, \"nbVehPL\": 948, \"emission\": 96.29330550828946, \"dateHeure\": \"2020-11-23T18:00:00\"}, {\"jour\": \"2020-11-23T00:00:00\", \"heure\": \"h19_20\", \"type_veh\": \"VL\", \"nbVehVL\": 3262, \"nbVehPL\": 838, \"emission\": 94.93175184100694, \"dateHeure\": \"2020-11-23T19:00:00\"}, {\"jour\": \"2020-11-23T00:00:00\", \"heure\": \"h1_2\", \"type_veh\": \"VL\", \"nbVehVL\": 143, \"nbVehPL\": 389, \"emission\": 89.75781262686355, \"dateHeure\": \"2020-11-23T01:00:00\"}, {\"jour\": \"2020-11-23T00:00:00\", \"heure\": \"h20_21\", \"type_veh\": \"VL\", \"nbVehVL\": 1643, \"nbVehPL\": 665, \"emission\": 93.27566935716611, \"dateHeure\": \"2020-11-23T20:00:00\"}, {\"jour\": \"2020-11-23T00:00:00\", \"heure\": \"h21_22\", \"type_veh\": \"VL\", \"nbVehVL\": 830, \"nbVehPL\": 395, \"emission\": 90.82674831162177, \"dateHeure\": \"2020-11-23T21:00:00\"}, {\"jour\": \"2020-11-23T00:00:00\", \"heure\": \"h22_23\", \"type_veh\": \"VL\", \"nbVehVL\": 546, \"nbVehPL\": 331, \"emission\": 89.81931463192609, \"dateHeure\": \"2020-11-23T22:00:00\"}, {\"jour\": \"2020-11-23T00:00:00\", \"heure\": \"h23_24\", \"type_veh\": \"VL\", \"nbVehVL\": 319, \"nbVehPL\": 293, \"emission\": 88.97238585133624, \"dateHeure\": \"2020-11-23T23:00:00\"}, {\"jour\": \"2020-11-23T00:00:00\", \"heure\": \"h2_3\", \"type_veh\": \"VL\", \"nbVehVL\": 142, \"nbVehPL\": 323, \"emission\": 88.99693346134876, \"dateHeure\": \"2020-11-23T02:00:00\"}, {\"jour\": \"2020-11-23T00:00:00\", \"heure\": \"h3_4\", \"type_veh\": \"VL\", \"nbVehVL\": 245, \"nbVehPL\": 325, \"emission\": 89.2213676894109, \"dateHeure\": \"2020-11-23T03:00:00\"}, {\"jour\": \"2020-11-23T00:00:00\", \"heure\": \"h4_5\", \"type_veh\": \"VL\", \"nbVehVL\": 556, \"nbVehPL\": 420, \"emission\": 90.67204743896221, \"dateHeure\": \"2020-11-23T04:00:00\"}, {\"jour\": \"2020-11-23T00:00:00\", \"heure\": \"h5_6\", \"type_veh\": \"VL\", \"nbVehVL\": 1291, \"nbVehPL\": 729, \"emission\": 93.31403762384627, \"dateHeure\": \"2020-11-23T05:00:00\"}, {\"jour\": \"2020-11-23T00:00:00\", \"heure\": \"h6_7\", \"type_veh\": \"VL\", \"nbVehVL\": 3957, \"nbVehPL\": 1220, \"emission\": 96.27738740799586, \"dateHeure\": \"2020-11-23T06:00:00\"}, {\"jour\": \"2020-11-23T00:00:00\", \"heure\": \"h7_8\", \"type_veh\": \"VL\", \"nbVehVL\": 6600, \"nbVehPL\": 1430, \"emission\": 97.5499421781221, \"dateHeure\": \"2020-11-23T07:00:00\"}, {\"jour\": \"2020-11-23T00:00:00\", \"heure\": \"h8_9\", \"type_veh\": \"VL\", \"nbVehVL\": 6177, \"nbVehPL\": 1192, \"emission\": 96.97895929859862, \"dateHeure\": \"2020-11-23T08:00:00\"}, {\"jour\": \"2020-11-23T00:00:00\", \"heure\": \"h9_10\", \"type_veh\": \"VL\", \"nbVehVL\": 4736, \"nbVehPL\": 1560, \"emission\": 97.24964188887506, \"dateHeure\": \"2020-11-23T09:00:00\"}, {\"jour\": \"2020-11-24T00:00:00\", \"heure\": \"h0_1\", \"type_veh\": \"VL\", \"nbVehVL\": 204, \"nbVehPL\": 252, \"emission\": 88.15063868590872, \"dateHeure\": \"2020-11-24T00:00:00\"}, {\"jour\": \"2020-11-24T00:00:00\", \"heure\": \"h10_11\", \"type_veh\": \"VL\", \"nbVehVL\": 4109, \"nbVehPL\": 1682, \"emission\": 97.2919644007014, \"dateHeure\": \"2020-11-24T10:00:00\"}, {\"jour\": \"2020-11-24T00:00:00\", \"heure\": \"h11_12\", \"type_veh\": \"VL\", \"nbVehVL\": 4138, \"nbVehPL\": 1704, \"emission\": 97.34118899548892, \"dateHeure\": \"2020-11-24T11:00:00\"}, {\"jour\": \"2020-11-24T00:00:00\", \"heure\": \"h12_13\", \"type_veh\": \"VL\", \"nbVehVL\": 4379, \"nbVehPL\": 1629, \"emission\": 97.27292234874989, \"dateHeure\": \"2020-11-24T12:00:00\"}, {\"jour\": \"2020-11-24T00:00:00\", \"heure\": \"h13_14\", \"type_veh\": \"VL\", \"nbVehVL\": 4451, \"nbVehPL\": 1616, \"emission\": 97.26995109465153, \"dateHeure\": \"2020-11-24T13:00:00\"}, {\"jour\": \"2020-11-24T00:00:00\", \"heure\": \"h14_15\", \"type_veh\": \"VL\", \"nbVehVL\": 4374, \"nbVehPL\": 1765, \"emission\": 97.51861319598417, \"dateHeure\": \"2020-11-24T14:00:00\"}, {\"jour\": \"2020-11-24T00:00:00\", \"heure\": \"h15_16\", \"type_veh\": \"VL\", \"nbVehVL\": 4932, \"nbVehPL\": 1769, \"emission\": 97.67892560754231, \"dateHeure\": \"2020-11-24T15:00:00\"}, {\"jour\": \"2020-11-24T00:00:00\", \"heure\": \"h16_17\", \"type_veh\": \"VL\", \"nbVehVL\": 6313, \"nbVehPL\": 1774, \"emission\": 98.04429873165988, \"dateHeure\": \"2020-11-24T16:00:00\"}, {\"jour\": \"2020-11-24T00:00:00\", \"heure\": \"h17_18\", \"type_veh\": \"VL\", \"nbVehVL\": 6950, \"nbVehPL\": 1496, \"emission\": 97.75794086677976, \"dateHeure\": \"2020-11-24T17:00:00\"}, {\"jour\": \"2020-11-24T00:00:00\", \"heure\": \"h18_19\", \"type_veh\": \"VL\", \"nbVehVL\": 5884, \"nbVehPL\": 1167, \"emission\": 96.8336486237055, \"dateHeure\": \"2020-11-24T18:00:00\"}, {\"jour\": \"2020-11-24T00:00:00\", \"heure\": \"h19_20\", \"type_veh\": \"VL\", \"nbVehVL\": 3554, \"nbVehPL\": 999, \"emission\": 95.54994784352908, \"dateHeure\": \"2020-11-24T19:00:00\"}, {\"jour\": \"2020-11-24T00:00:00\", \"heure\": \"h1_2\", \"type_veh\": \"VL\", \"nbVehVL\": 179, \"nbVehPL\": 234, \"emission\": 87.80151895475251, \"dateHeure\": \"2020-11-24T01:00:00\"}, {\"jour\": \"2020-11-24T00:00:00\", \"heure\": \"h20_21\", \"type_veh\": \"VL\", \"nbVehVL\": 1805, \"nbVehPL\": 760, \"emission\": 93.80800486509759, \"dateHeure\": \"2020-11-24T20:00:00\"}, {\"jour\": \"2020-11-24T00:00:00\", \"heure\": \"h21_22\", \"type_veh\": \"VL\", \"nbVehVL\": 1018, \"nbVehPL\": 653, \"emission\": 92.72045303914715, \"dateHeure\": \"2020-11-24T21:00:00\"}, {\"jour\": \"2020-11-24T00:00:00\", \"heure\": \"h22_23\", \"type_veh\": \"VL\", \"nbVehVL\": 724, \"nbVehPL\": 594, \"emission\": 92.11729186453957, \"dateHeure\": \"2020-11-24T22:00:00\"}, {\"jour\": \"2020-11-24T00:00:00\", \"heure\": \"h23_24\", \"type_veh\": \"VL\", \"nbVehVL\": 444, \"nbVehPL\": 504, \"emission\": 91.2042958880852, \"dateHeure\": \"2020-11-24T23:00:00\"}, {\"jour\": \"2020-11-24T00:00:00\", \"heure\": \"h2_3\", \"type_veh\": \"VL\", \"nbVehVL\": 191, \"nbVehPL\": 230, \"emission\": 87.76664950144573, \"dateHeure\": \"2020-11-24T02:00:00\"}, {\"jour\": \"2020-11-24T00:00:00\", \"heure\": \"h3_4\", \"type_veh\": \"VL\", \"nbVehVL\": 274, \"nbVehPL\": 303, \"emission\": 89.0084897330661, \"dateHeure\": \"2020-11-24T03:00:00\"}, {\"jour\": \"2020-11-24T00:00:00\", \"heure\": \"h4_5\", \"type_veh\": \"VL\", \"nbVehVL\": 563, \"nbVehPL\": 535, \"emission\": 91.56582681501631, \"dateHeure\": \"2020-11-24T04:00:00\"}, {\"jour\": \"2020-11-24T00:00:00\", \"heure\": \"h5_6\", \"type_veh\": \"VL\", \"nbVehVL\": 1153, \"nbVehPL\": 818, \"emission\": 93.61558873356725, \"dateHeure\": \"2020-11-24T05:00:00\"}, {\"jour\": \"2020-11-24T00:00:00\", \"heure\": \"h6_7\", \"type_veh\": \"VL\", \"nbVehVL\": 3529, \"nbVehPL\": 1267, \"emission\": 96.22812615477255, \"dateHeure\": \"2020-11-24T06:00:00\"}, {\"jour\": \"2020-11-24T00:00:00\", \"heure\": \"h7_8\", \"type_veh\": \"VL\", \"nbVehVL\": 6419, \"nbVehPL\": 1531, \"emission\": 97.67496274177346, \"dateHeure\": \"2020-11-24T07:00:00\"}, {\"jour\": \"2020-11-24T00:00:00\", \"heure\": \"h8_9\", \"type_veh\": \"VL\", \"nbVehVL\": 6276, \"nbVehPL\": 1478, \"emission\": 97.54406136692398, \"dateHeure\": \"2020-11-24T08:00:00\"}, {\"jour\": \"2020-11-24T00:00:00\", \"heure\": \"h9_10\", \"type_veh\": \"VL\", \"nbVehVL\": 4321, \"nbVehPL\": 1620, \"emission\": 97.23877742578904, \"dateHeure\": \"2020-11-24T09:00:00\"}, {\"jour\": \"2020-11-25T00:00:00\", \"heure\": \"h0_1\", \"type_veh\": \"VL\", \"nbVehVL\": 274, \"nbVehPL\": 405, \"emission\": 90.12929258371601, \"dateHeure\": \"2020-11-25T00:00:00\"}, {\"jour\": \"2020-11-25T00:00:00\", \"heure\": \"h10_11\", \"type_veh\": \"VL\", \"nbVehVL\": 3787, \"nbVehPL\": 1757, \"emission\": 97.33634659673463, \"dateHeure\": \"2020-11-25T10:00:00\"}, {\"jour\": \"2020-11-25T00:00:00\", \"heure\": \"h11_12\", \"type_veh\": \"VL\", \"nbVehVL\": 4125, \"nbVehPL\": 1808, \"emission\": 97.52485601956018, \"dateHeure\": \"2020-11-25T11:00:00\"}, {\"jour\": \"2020-11-25T00:00:00\", \"heure\": \"h12_13\", \"type_veh\": \"VL\", \"nbVehVL\": 4620, \"nbVehPL\": 1658, \"emission\": 97.39676396916562, \"dateHeure\": \"2020-11-25T12:00:00\"}, {\"jour\": \"2020-11-25T00:00:00\", \"heure\": \"h13_14\", \"type_veh\": \"VL\", \"nbVehVL\": 4552, \"nbVehPL\": 1601, \"emission\": 97.27183537054194, \"dateHeure\": \"2020-11-25T13:00:00\"}, {\"jour\": \"2020-11-25T00:00:00\", \"heure\": \"h14_15\", \"type_veh\": \"VL\", \"nbVehVL\": 4588, \"nbVehPL\": 1692, \"emission\": 97.44901019533009, \"dateHeure\": \"2020-11-25T14:00:00\"}, {\"jour\": \"2020-11-25T00:00:00\", \"heure\": \"h15_16\", \"type_veh\": \"VL\", \"nbVehVL\": 4970, \"nbVehPL\": 1715, \"emission\": 97.5964579281991, \"dateHeure\": \"2020-11-25T15:00:00\"}, {\"jour\": \"2020-11-25T00:00:00\", \"heure\": \"h16_17\", \"type_veh\": \"VL\", \"nbVehVL\": 6315, \"nbVehPL\": 1745, \"emission\": 97.99916800579643, \"dateHeure\": \"2020-11-25T16:00:00\"}, {\"jour\": \"2020-11-25T00:00:00\", \"heure\": \"h17_18\", \"type_veh\": \"VL\", \"nbVehVL\": 6861, \"nbVehPL\": 1478, \"emission\": 97.70392683003315, \"dateHeure\": \"2020-11-25T17:00:00\"}, {\"jour\": \"2020-11-25T00:00:00\", \"heure\": \"h18_19\", \"type_veh\": \"VL\", \"nbVehVL\": 5830, \"nbVehPL\": 1117, \"emission\": 96.71079859935935, \"dateHeure\": \"2020-11-25T18:00:00\"}, {\"jour\": \"2020-11-25T00:00:00\", \"heure\": \"h19_20\", \"type_veh\": \"VL\", \"nbVehVL\": 3583, \"nbVehPL\": 913, \"emission\": 95.3175452492558, \"dateHeure\": \"2020-11-25T19:00:00\"}, {\"jour\": \"2020-11-25T00:00:00\", \"heure\": \"h1_2\", \"type_veh\": \"VL\", \"nbVehVL\": 196, \"nbVehPL\": 436, \"emission\": 90.30614709402933, \"dateHeure\": \"2020-11-25T01:00:00\"}, {\"jour\": \"2020-11-25T00:00:00\", \"heure\": \"h20_21\", \"type_veh\": \"VL\", \"nbVehVL\": 2010, \"nbVehPL\": 747, \"emission\": 93.88817750509318, \"dateHeure\": \"2020-11-25T20:00:00\"}, {\"jour\": \"2020-11-25T00:00:00\", \"heure\": \"h21_22\", \"type_veh\": \"VL\", \"nbVehVL\": 1119, \"nbVehPL\": 608, \"emission\": 92.56301400164786, \"dateHeure\": \"2020-11-25T21:00:00\"}, {\"jour\": \"2020-11-25T00:00:00\", \"heure\": \"h22_23\", \"type_veh\": \"VL\", \"nbVehVL\": 741, \"nbVehPL\": 514, \"emission\": 91.61570894451259, \"dateHeure\": \"2020-11-25T22:00:00\"}, {\"jour\": \"2020-11-25T00:00:00\", \"heure\": \"h23_24\", \"type_veh\": \"VL\", \"nbVehVL\": 413, \"nbVehPL\": 440, \"emission\": 90.64921834444506, \"dateHeure\": \"2020-11-25T23:00:00\"}, {\"jour\": \"2020-11-25T00:00:00\", \"heure\": \"h2_3\", \"type_veh\": \"VL\", \"nbVehVL\": 264, \"nbVehPL\": 437, \"emission\": 90.41429894525281, \"dateHeure\": \"2020-11-25T02:00:00\"}, {\"jour\": \"2020-11-25T00:00:00\", \"heure\": \"h3_4\", \"type_veh\": \"VL\", \"nbVehVL\": 287, \"nbVehPL\": 458, \"emission\": 90.63226175815878, \"dateHeure\": \"2020-11-25T03:00:00\"}, {\"jour\": \"2020-11-25T00:00:00\", \"heure\": \"h4_5\", \"type_veh\": \"VL\", \"nbVehVL\": 578, \"nbVehPL\": 584, \"emission\": 91.90932431070827, \"dateHeure\": \"2020-11-25T04:00:00\"}, {\"jour\": \"2020-11-25T00:00:00\", \"heure\": \"h5_6\", \"type_veh\": \"VL\", \"nbVehVL\": 1107, \"nbVehPL\": 875, \"emission\": 93.82612826657821, \"dateHeure\": \"2020-11-25T05:00:00\"}, {\"jour\": \"2020-11-25T00:00:00\", \"heure\": \"h6_7\", \"type_veh\": \"VL\", \"nbVehVL\": 3526, \"nbVehPL\": 1487, \"emission\": 96.72108653669036, \"dateHeure\": \"2020-11-25T06:00:00\"}, {\"jour\": \"2020-11-25T00:00:00\", \"heure\": \"h7_8\", \"type_veh\": \"VL\", \"nbVehVL\": 6188, \"nbVehPL\": 1626, \"emission\": 97.77334769836465, \"dateHeure\": \"2020-11-25T07:00:00\"}, {\"jour\": \"2020-11-25T00:00:00\", \"heure\": \"h8_9\", \"type_veh\": \"VL\", \"nbVehVL\": 5681, \"nbVehPL\": 1544, \"emission\": 97.4940673671086, \"dateHeure\": \"2020-11-25T08:00:00\"}, {\"jour\": \"2020-11-25T00:00:00\", \"heure\": \"h9_10\", \"type_veh\": \"VL\", \"nbVehVL\": 4065, \"nbVehPL\": 1752, \"emission\": 97.40772173945146, \"dateHeure\": \"2020-11-25T09:00:00\"}, {\"jour\": \"2020-11-26T00:00:00\", \"heure\": \"h0_1\", \"type_veh\": \"VL\", \"nbVehVL\": 295, \"nbVehPL\": 448, \"emission\": 90.55628022509782, \"dateHeure\": \"2020-11-26T00:00:00\"}, {\"jour\": \"2020-11-26T00:00:00\", \"heure\": \"h10_11\", \"type_veh\": \"VL\", \"nbVehVL\": 4067, \"nbVehPL\": 1642, \"emission\": 97.20424054377324, \"dateHeure\": \"2020-11-26T10:00:00\"}, {\"jour\": \"2020-11-26T00:00:00\", \"heure\": \"h11_12\", \"type_veh\": \"VL\", \"nbVehVL\": 4051, \"nbVehPL\": 1555, \"emission\": 97.03076411721035, \"dateHeure\": \"2020-11-26T11:00:00\"}, {\"jour\": \"2020-11-26T00:00:00\", \"heure\": \"h12_13\", \"type_veh\": \"VL\", \"nbVehVL\": 3800, \"nbVehPL\": 1432, \"emission\": 96.6964473619883, \"dateHeure\": \"2020-11-26T12:00:00\"}, {\"jour\": \"2020-11-26T00:00:00\", \"heure\": \"h13_14\", \"type_veh\": \"VL\", \"nbVehVL\": 4288, \"nbVehPL\": 1432, \"emission\": 96.85850507909444, \"dateHeure\": \"2020-11-26T13:00:00\"}, {\"jour\": \"2020-11-26T00:00:00\", \"heure\": \"h14_15\", \"type_veh\": \"VL\", \"nbVehVL\": 4351, \"nbVehPL\": 1571, \"emission\": 97.15459633067772, \"dateHeure\": \"2020-11-26T14:00:00\"}, {\"jour\": \"2020-11-26T00:00:00\", \"heure\": \"h15_16\", \"type_veh\": \"VL\", \"nbVehVL\": 5051, \"nbVehPL\": 1669, \"emission\": 97.53852629407916, \"dateHeure\": \"2020-11-26T15:00:00\"}, {\"jour\": \"2020-11-26T00:00:00\", \"heure\": \"h16_17\", \"type_veh\": \"VL\", \"nbVehVL\": 6659, \"nbVehPL\": 1528, \"emission\": 97.73426758303982, \"dateHeure\": \"2020-11-26T16:00:00\"}, {\"jour\": \"2020-11-26T00:00:00\", \"heure\": \"h17_18\", \"type_veh\": \"VL\", \"nbVehVL\": 7199, \"nbVehPL\": 1333, \"emission\": 97.54631884549242, \"dateHeure\": \"2020-11-26T17:00:00\"}, {\"jour\": \"2020-11-26T00:00:00\", \"heure\": \"h18_19\", \"type_veh\": \"VL\", \"nbVehVL\": 6017, \"nbVehPL\": 1055, \"emission\": 96.6413839732084, \"dateHeure\": \"2020-11-26T18:00:00\"}, {\"jour\": \"2020-11-26T00:00:00\", \"heure\": \"h19_20\", \"type_veh\": \"VL\", \"nbVehVL\": 3779, \"nbVehPL\": 831, \"emission\": 95.16553525145882, \"dateHeure\": \"2020-11-26T19:00:00\"}, {\"jour\": \"2020-11-26T00:00:00\", \"heure\": \"h1_2\", \"type_veh\": \"VL\", \"nbVehVL\": 219, \"nbVehPL\": 450, \"emission\": 90.46719629801224, \"dateHeure\": \"2020-11-26T01:00:00\"}, {\"jour\": \"2020-11-26T00:00:00\", \"heure\": \"h20_21\", \"type_veh\": \"VL\", \"nbVehVL\": 1962, \"nbVehPL\": 591, \"emission\": 93.16423775202682, \"dateHeure\": \"2020-11-26T20:00:00\"}, {\"jour\": \"2020-11-26T00:00:00\", \"heure\": \"h21_22\", \"type_veh\": \"VL\", \"nbVehVL\": 1176, \"nbVehPL\": 537, \"emission\": 92.20606964060336, \"dateHeure\": \"2020-11-26T21:00:00\"}, {\"jour\": \"2020-11-26T00:00:00\", \"heure\": \"h22_23\", \"type_veh\": \"VL\", \"nbVehVL\": 780, \"nbVehPL\": 420, \"emission\": 90.96535161499297, \"dateHeure\": \"2020-11-26T22:00:00\"}, {\"jour\": \"2020-11-26T00:00:00\", \"heure\": \"h23_24\", \"type_veh\": \"VL\", \"nbVehVL\": 486, \"nbVehPL\": 395, \"emission\": 90.35204147299523, \"dateHeure\": \"2020-11-26T23:00:00\"}, {\"jour\": \"2020-11-26T00:00:00\", \"heure\": \"h2_3\", \"type_veh\": \"VL\", \"nbVehVL\": 261, \"nbVehPL\": 470, \"emission\": 90.69970006621324, \"dateHeure\": \"2020-11-26T02:00:00\"}, {\"jour\": \"2020-11-26T00:00:00\", \"heure\": \"h3_4\", \"type_veh\": \"VL\", \"nbVehVL\": 321, \"nbVehPL\": 460, \"emission\": 90.69553113397299, \"dateHeure\": \"2020-11-26T03:00:00\"}, {\"jour\": \"2020-11-26T00:00:00\", \"heure\": \"h4_5\", \"type_veh\": \"VL\", \"nbVehVL\": 568, \"nbVehPL\": 631, \"emission\": 92.19186877979153, \"dateHeure\": \"2020-11-26T04:00:00\"}, {\"jour\": \"2020-11-26T00:00:00\", \"heure\": \"h5_6\", \"type_veh\": \"VL\", \"nbVehVL\": 1214, \"nbVehPL\": 890, \"emission\": 93.95628606361718, \"dateHeure\": \"2020-11-26T05:00:00\"}, {\"jour\": \"2020-11-26T00:00:00\", \"heure\": \"h6_7\", \"type_veh\": \"VL\", \"nbVehVL\": 3624, \"nbVehPL\": 1407, \"emission\": 96.58202953215776, \"dateHeure\": \"2020-11-26T06:00:00\"}, {\"jour\": \"2020-11-26T00:00:00\", \"heure\": \"h7_8\", \"type_veh\": \"VL\", \"nbVehVL\": 6221, \"nbVehPL\": 1568, \"emission\": 97.68452842447964, \"dateHeure\": \"2020-11-26T07:00:00\"}, {\"jour\": \"2020-11-26T00:00:00\", \"heure\": \"h8_9\", \"type_veh\": \"VL\", \"nbVehVL\": 6051, \"nbVehPL\": 1393, \"emission\": 97.32679203771283, \"dateHeure\": \"2020-11-26T08:00:00\"}, {\"jour\": \"2020-11-26T00:00:00\", \"heure\": \"h9_10\", \"type_veh\": \"VL\", \"nbVehVL\": 4499, \"nbVehPL\": 1693, \"emission\": 97.42541867290142, \"dateHeure\": \"2020-11-26T09:00:00\"}, {\"jour\": \"2020-11-27T00:00:00\", \"heure\": \"h0_1\", \"type_veh\": \"VL\", \"nbVehVL\": 337, \"nbVehPL\": 380, \"emission\": 89.9813823184404, \"dateHeure\": \"2020-11-27T00:00:00\"}, {\"jour\": \"2020-11-27T00:00:00\", \"heure\": \"h10_11\", \"type_veh\": \"VL\", \"nbVehVL\": 4369, \"nbVehPL\": 1540, \"emission\": 97.10018165404014, \"dateHeure\": \"2020-11-27T10:00:00\"}, {\"jour\": \"2020-11-27T00:00:00\", \"heure\": \"h11_12\", \"type_veh\": \"VL\", \"nbVehVL\": 4780, \"nbVehPL\": 1533, \"emission\": 97.21183666469825, \"dateHeure\": \"2020-11-27T11:00:00\"}, {\"jour\": \"2020-11-27T00:00:00\", \"heure\": \"h12_13\", \"type_veh\": \"VL\", \"nbVehVL\": 5605, \"nbVehPL\": 1353, \"emission\": 97.1174471652745, \"dateHeure\": \"2020-11-27T12:00:00\"}, {\"jour\": \"2020-11-27T00:00:00\", \"heure\": \"h13_14\", \"type_veh\": \"VL\", \"nbVehVL\": 5257, \"nbVehPL\": 1458, \"emission\": 97.21297299030564, \"dateHeure\": \"2020-11-27T13:00:00\"}, {\"jour\": \"2020-11-27T00:00:00\", \"heure\": \"h14_15\", \"type_veh\": \"VL\", \"nbVehVL\": 5481, \"nbVehPL\": 1484, \"emission\": 97.32801254893215, \"dateHeure\": \"2020-11-27T14:00:00\"}, {\"jour\": \"2020-11-27T00:00:00\", \"heure\": \"h15_16\", \"type_veh\": \"VL\", \"nbVehVL\": 6225, \"nbVehPL\": 1443, \"emission\": 97.4677246801805, \"dateHeure\": \"2020-11-27T15:00:00\"}, {\"jour\": \"2020-11-27T00:00:00\", \"heure\": \"h16_17\", \"type_veh\": \"VL\", \"nbVehVL\": 5822, \"nbVehPL\": 1132, \"emission\": 96.73992068217565, \"dateHeure\": \"2020-11-27T16:00:00\"}, {\"jour\": \"2020-11-27T00:00:00\", \"heure\": \"h17_18\", \"type_veh\": \"VL\", \"nbVehVL\": 7004, \"nbVehPL\": 1072, \"emission\": 97.00104929289493, \"dateHeure\": \"2020-11-27T17:00:00\"}, {\"jour\": \"2020-11-27T00:00:00\", \"heure\": \"h18_19\", \"type_veh\": \"VL\", \"nbVehVL\": 6244, \"nbVehPL\": 783, \"emission\": 96.09850937706035, \"dateHeure\": \"2020-11-27T18:00:00\"}, {\"jour\": \"2020-11-27T00:00:00\", \"heure\": \"h19_20\", \"type_veh\": \"VL\", \"nbVehVL\": 4306, \"nbVehPL\": 704, \"emission\": 95.03144182931092, \"dateHeure\": \"2020-11-27T19:00:00\"}, {\"jour\": \"2020-11-27T00:00:00\", \"heure\": \"h1_2\", \"type_veh\": \"VL\", \"nbVehVL\": 255, \"nbVehPL\": 388, \"emission\": 89.93102843536448, \"dateHeure\": \"2020-11-27T01:00:00\"}, {\"jour\": \"2020-11-27T00:00:00\", \"heure\": \"h20_21\", \"type_veh\": \"VL\", \"nbVehVL\": 2455, \"nbVehPL\": 598, \"emission\": 93.55595716715754, \"dateHeure\": \"2020-11-27T20:00:00\"}, {\"jour\": \"2020-11-27T00:00:00\", \"heure\": \"h21_22\", \"type_veh\": \"VL\", \"nbVehVL\": 1325, \"nbVehPL\": 506, \"emission\": 92.16150422190218, \"dateHeure\": \"2020-11-27T21:00:00\"}, {\"jour\": \"2020-11-27T00:00:00\", \"heure\": \"h22_23\", \"type_veh\": \"VL\", \"nbVehVL\": 817, \"nbVehPL\": 415, \"emission\": 90.97224939026404, \"dateHeure\": \"2020-11-27T22:00:00\"}, {\"jour\": \"2020-11-27T00:00:00\", \"heure\": \"h23_24\", \"type_veh\": \"VL\", \"nbVehVL\": 549, \"nbVehPL\": 375, \"emission\": 90.25890375778843, \"dateHeure\": \"2020-11-27T23:00:00\"}, {\"jour\": \"2020-11-27T00:00:00\", \"heure\": \"h2_3\", \"type_veh\": \"VL\", \"nbVehVL\": 267, \"nbVehPL\": 428, \"emission\": 90.33628754060794, \"dateHeure\": \"2020-11-27T02:00:00\"}, {\"jour\": \"2020-11-27T00:00:00\", \"heure\": \"h3_4\", \"type_veh\": \"VL\", \"nbVehVL\": 313, \"nbVehPL\": 439, \"emission\": 90.50198225971754, \"dateHeure\": \"2020-11-27T03:00:00\"}, {\"jour\": \"2020-11-27T00:00:00\", \"heure\": \"h4_5\", \"type_veh\": \"VL\", \"nbVehVL\": 574, \"nbVehPL\": 528, \"emission\": 91.52910015402182, \"dateHeure\": \"2020-11-27T04:00:00\"}, {\"jour\": \"2020-11-27T00:00:00\", \"heure\": \"h5_6\", \"type_veh\": \"VL\", \"nbVehVL\": 1157, \"nbVehPL\": 794, \"emission\": 93.51298358267569, \"dateHeure\": \"2020-11-27T05:00:00\"}, {\"jour\": \"2020-11-27T00:00:00\", \"heure\": \"h6_7\", \"type_veh\": \"VL\", \"nbVehVL\": 3547, \"nbVehPL\": 1239, \"emission\": 96.16791085035052, \"dateHeure\": \"2020-11-27T06:00:00\"}, {\"jour\": \"2020-11-27T00:00:00\", \"heure\": \"h7_8\", \"type_veh\": \"VL\", \"nbVehVL\": 5945, \"nbVehPL\": 1445, \"emission\": 97.39130664823803, \"dateHeure\": \"2020-11-27T07:00:00\"}, {\"jour\": \"2020-11-27T00:00:00\", \"heure\": \"h8_9\", \"type_veh\": \"VL\", \"nbVehVL\": 5725, \"nbVehPL\": 1368, \"emission\": 97.18286870489793, \"dateHeure\": \"2020-11-27T08:00:00\"}, {\"jour\": \"2020-11-27T00:00:00\", \"heure\": \"h9_10\", \"type_veh\": \"VL\", \"nbVehVL\": 4537, \"nbVehPL\": 1521, \"emission\": 97.11499224266862, \"dateHeure\": \"2020-11-27T09:00:00\"}, {\"jour\": \"2020-11-28T00:00:00\", \"heure\": \"h0_1\", \"type_veh\": \"VL\", \"nbVehVL\": 391, \"nbVehPL\": 380, \"emission\": 90.06630528829497, \"dateHeure\": \"2020-11-28T00:00:00\"}, {\"jour\": \"2020-11-28T00:00:00\", \"heure\": \"h10_11\", \"type_veh\": \"VL\", \"nbVehVL\": 4257, \"nbVehPL\": 758, \"emission\": 95.1739033806968, \"dateHeure\": \"2020-11-28T10:00:00\"}, {\"jour\": \"2020-11-28T00:00:00\", \"heure\": \"h11_12\", \"type_veh\": \"VL\", \"nbVehVL\": 4541, \"nbVehPL\": 773, \"emission\": 95.35210934352996, \"dateHeure\": \"2020-11-28T11:00:00\"}, {\"jour\": \"2020-11-28T00:00:00\", \"heure\": \"h12_13\", \"type_veh\": \"VL\", \"nbVehVL\": 4526, \"nbVehPL\": 822, \"emission\": 95.48568064173237, \"dateHeure\": \"2020-11-28T12:00:00\"}, {\"jour\": \"2020-11-28T00:00:00\", \"heure\": \"h13_14\", \"type_veh\": \"VL\", \"nbVehVL\": 4073, \"nbVehPL\": 810, \"emission\": 95.24258667109959, \"dateHeure\": \"2020-11-28T13:00:00\"}, {\"jour\": \"2020-11-28T00:00:00\", \"heure\": \"h14_15\", \"type_veh\": \"VL\", \"nbVehVL\": 4518, \"nbVehPL\": 764, \"emission\": 95.3151618131673, \"dateHeure\": \"2020-11-28T14:00:00\"}, {\"jour\": \"2020-11-28T00:00:00\", \"heure\": \"h15_16\", \"type_veh\": \"VL\", \"nbVehVL\": 4612, \"nbVehPL\": 748, \"emission\": 95.31192698340178, \"dateHeure\": \"2020-11-28T15:00:00\"}, {\"jour\": \"2020-11-28T00:00:00\", \"heure\": \"h16_17\", \"type_veh\": \"VL\", \"nbVehVL\": 4777, \"nbVehPL\": 734, \"emission\": 95.34746185127017, \"dateHeure\": \"2020-11-28T16:00:00\"}, {\"jour\": \"2020-11-28T00:00:00\", \"heure\": \"h17_18\", \"type_veh\": \"VL\", \"nbVehVL\": 4761, \"nbVehPL\": 623, \"emission\": 95.0035133708667, \"dateHeure\": \"2020-11-28T17:00:00\"}, {\"jour\": \"2020-11-28T00:00:00\", \"heure\": \"h18_19\", \"type_veh\": \"VL\", \"nbVehVL\": 4447, \"nbVehPL\": 603, \"emission\": 94.77780399993337, \"dateHeure\": \"2020-11-28T18:00:00\"}, {\"jour\": \"2020-11-28T00:00:00\", \"heure\": \"h19_20\", \"type_veh\": \"VL\", \"nbVehVL\": 3241, \"nbVehPL\": 479, \"emission\": 93.58040623043017, \"dateHeure\": \"2020-11-28T19:00:00\"}, {\"jour\": \"2020-11-28T00:00:00\", \"heure\": \"h1_2\", \"type_veh\": \"VL\", \"nbVehVL\": 303, \"nbVehPL\": 361, \"emission\": 89.72985349903537, \"dateHeure\": \"2020-11-28T01:00:00\"}, {\"jour\": \"2020-11-28T00:00:00\", \"heure\": \"h20_21\", \"type_veh\": \"VL\", \"nbVehVL\": 2053, \"nbVehPL\": 363, \"emission\": 91.99065745225869, \"dateHeure\": \"2020-11-28T20:00:00\"}, {\"jour\": \"2020-11-28T00:00:00\", \"heure\": \"h21_22\", \"type_veh\": \"VL\", \"nbVehVL\": 1028, \"nbVehPL\": 279, \"emission\": 90.06588957806711, \"dateHeure\": \"2020-11-28T21:00:00\"}, {\"jour\": \"2020-11-28T00:00:00\", \"heure\": \"h22_23\", \"type_veh\": \"VL\", \"nbVehVL\": 708, \"nbVehPL\": 221, \"emission\": 88.83956999409503, \"dateHeure\": \"2020-11-28T22:00:00\"}, {\"jour\": \"2020-11-28T00:00:00\", \"heure\": \"h23_24\", \"type_veh\": \"VL\", \"nbVehVL\": 591, \"nbVehPL\": 200, \"emission\": 88.29093826108135, \"dateHeure\": \"2020-11-28T23:00:00\"}, {\"jour\": \"2020-11-28T00:00:00\", \"heure\": \"h2_3\", \"type_veh\": \"VL\", \"nbVehVL\": 288, \"nbVehPL\": 346, \"emission\": 89.5413090399706, \"dateHeure\": \"2020-11-28T02:00:00\"}, {\"jour\": \"2020-11-28T00:00:00\", \"heure\": \"h3_4\", \"type_veh\": \"VL\", \"nbVehVL\": 270, \"nbVehPL\": 357, \"emission\": 89.63072627598962, \"dateHeure\": \"2020-11-28T03:00:00\"}, {\"jour\": \"2020-11-28T00:00:00\", \"heure\": \"h4_5\", \"type_veh\": \"VL\", \"nbVehVL\": 339, \"nbVehPL\": 453, \"emission\": 90.6601320093603, \"dateHeure\": \"2020-11-28T04:00:00\"}, {\"jour\": \"2020-11-28T00:00:00\", \"heure\": \"h5_6\", \"type_veh\": \"VL\", \"nbVehVL\": 565, \"nbVehPL\": 508, \"emission\": 91.37610083703372, \"dateHeure\": \"2020-11-28T05:00:00\"}, {\"jour\": \"2020-11-28T00:00:00\", \"heure\": \"h6_7\", \"type_veh\": \"VL\", \"nbVehVL\": 987, \"nbVehPL\": 582, \"emission\": 92.29547121479595, \"dateHeure\": \"2020-11-28T06:00:00\"}, {\"jour\": \"2020-11-28T00:00:00\", \"heure\": \"h7_8\", \"type_veh\": \"VL\", \"nbVehVL\": 1582, \"nbVehPL\": 667, \"emission\": 93.23953379421071, \"dateHeure\": \"2020-11-28T07:00:00\"}, {\"jour\": \"2020-11-28T00:00:00\", \"heure\": \"h8_9\", \"type_veh\": \"VL\", \"nbVehVL\": 2359, \"nbVehPL\": 758, \"emission\": 94.15037369949013, \"dateHeure\": \"2020-11-28T08:00:00\"}, {\"jour\": \"2020-11-28T00:00:00\", \"heure\": \"h9_10\", \"type_veh\": \"VL\", \"nbVehVL\": 3334, \"nbVehPL\": 787, \"emission\": 94.80297358804665, \"dateHeure\": \"2020-11-28T09:00:00\"}, {\"jour\": \"2020-11-29T00:00:00\", \"heure\": \"h0_1\", \"type_veh\": \"VL\", \"nbVehVL\": 458, \"nbVehPL\": 195, \"emission\": 87.88705211116606, \"dateHeure\": \"2020-11-29T00:00:00\"}, {\"jour\": \"2020-11-29T00:00:00\", \"heure\": \"h10_11\", \"type_veh\": \"VL\", \"nbVehVL\": 2543, \"nbVehPL\": 219, \"emission\": 91.55055554828179, \"dateHeure\": \"2020-11-29T10:00:00\"}, {\"jour\": \"2020-11-29T00:00:00\", \"heure\": \"h11_12\", \"type_veh\": \"VL\", \"nbVehVL\": 3127, \"nbVehPL\": 268, \"emission\": 92.44102104250106, \"dateHeure\": \"2020-11-29T11:00:00\"}, {\"jour\": \"2020-11-29T00:00:00\", \"heure\": \"h12_13\", \"type_veh\": \"VL\", \"nbVehVL\": 3116, \"nbVehPL\": 223, \"emission\": 92.16668338620468, \"dateHeure\": \"2020-11-29T12:00:00\"}, {\"jour\": \"2020-11-29T00:00:00\", \"heure\": \"h13_14\", \"type_veh\": \"VL\", \"nbVehVL\": 2430, \"nbVehPL\": 247, \"emission\": 91.62044148146103, \"dateHeure\": \"2020-11-29T13:00:00\"}, {\"jour\": \"2020-11-29T00:00:00\", \"heure\": \"h14_15\", \"type_veh\": \"VL\", \"nbVehVL\": 3071, \"nbVehPL\": 234, \"emission\": 92.19005397274921, \"dateHeure\": \"2020-11-29T14:00:00\"}, {\"jour\": \"2020-11-29T00:00:00\", \"heure\": \"h15_16\", \"type_veh\": \"VL\", \"nbVehVL\": 3592, \"nbVehPL\": 262, \"emission\": 92.80992857008549, \"dateHeure\": \"2020-11-29T15:00:00\"}, {\"jour\": \"2020-11-29T00:00:00\", \"heure\": \"h16_17\", \"type_veh\": \"VL\", \"nbVehVL\": 3997, \"nbVehPL\": 255, \"emission\": 93.09886942305214, \"dateHeure\": \"2020-11-29T16:00:00\"}, {\"jour\": \"2020-11-29T00:00:00\", \"heure\": \"h17_18\", \"type_veh\": \"VL\", \"nbVehVL\": 4654, \"nbVehPL\": 271, \"emission\": 93.64961366675759, \"dateHeure\": \"2020-11-29T17:00:00\"}, {\"jour\": \"2020-11-29T00:00:00\", \"heure\": \"h18_19\", \"type_veh\": \"VL\", \"nbVehVL\": 4428, \"nbVehPL\": 245, \"emission\": 93.37492387845376, \"dateHeure\": \"2020-11-29T18:00:00\"}, {\"jour\": \"2020-11-29T00:00:00\", \"heure\": \"h19_20\", \"type_veh\": \"VL\", \"nbVehVL\": 2879, \"nbVehPL\": 225, \"emission\": 91.94570894473719, \"dateHeure\": \"2020-11-29T19:00:00\"}, {\"jour\": \"2020-11-29T00:00:00\", \"heure\": \"h1_2\", \"type_veh\": \"VL\", \"nbVehVL\": 320, \"nbVehPL\": 128, \"emission\": 86.13403252158787, \"dateHeure\": \"2020-11-29T01:00:00\"}, {\"jour\": \"2020-11-29T00:00:00\", \"heure\": \"h20_21\", \"type_veh\": \"VL\", \"nbVehVL\": 1859, \"nbVehPL\": 250, \"emission\": 90.97341273261102, \"dateHeure\": \"2020-11-29T20:00:00\"}, {\"jour\": \"2020-11-29T00:00:00\", \"heure\": \"h21_22\", \"type_veh\": \"VL\", \"nbVehVL\": 1238, \"nbVehPL\": 239, \"emission\": 89.99937045378049, \"dateHeure\": \"2020-11-29T21:00:00\"}, {\"jour\": \"2020-11-29T00:00:00\", \"heure\": \"h22_23\", \"type_veh\": \"VL\", \"nbVehVL\": 656, \"nbVehPL\": 404, \"emission\": 90.67075605546195, \"dateHeure\": \"2020-11-29T22:00:00\"}, {\"jour\": \"2020-11-29T00:00:00\", \"heure\": \"h23_24\", \"type_veh\": \"VL\", \"nbVehVL\": 412, \"nbVehPL\": 436, \"emission\": 90.61334026907056, \"dateHeure\": \"2020-11-29T23:00:00\"}, {\"jour\": \"2020-11-29T00:00:00\", \"heure\": \"h2_3\", \"type_veh\": \"VL\", \"nbVehVL\": 219, \"nbVehPL\": 133, \"emission\": 85.85795187991577, \"dateHeure\": \"2020-11-29T02:00:00\"}, {\"jour\": \"2020-11-29T00:00:00\", \"heure\": \"h3_4\", \"type_veh\": \"VL\", \"nbVehVL\": 166, \"nbVehPL\": 152, \"emission\": 86.12412219174111, \"dateHeure\": \"2020-11-29T03:00:00\"}, {\"jour\": \"2020-11-29T00:00:00\", \"heure\": \"h4_5\", \"type_veh\": \"VL\", \"nbVehVL\": 177, \"nbVehPL\": 101, \"emission\": 84.72005192528682, \"dateHeure\": \"2020-11-29T04:00:00\"}, {\"jour\": \"2020-11-29T00:00:00\", \"heure\": \"h5_6\", \"type_veh\": \"VL\", \"nbVehVL\": 235, \"nbVehPL\": 118, \"emission\": 85.52255995686903, \"dateHeure\": \"2020-11-29T05:00:00\"}, {\"jour\": \"2020-11-29T00:00:00\", \"heure\": \"h6_7\", \"type_veh\": \"VL\", \"nbVehVL\": 439, \"nbVehPL\": 140, \"emission\": 86.82581629905627, \"dateHeure\": \"2020-11-29T06:00:00\"}, {\"jour\": \"2020-11-29T00:00:00\", \"heure\": \"h7_8\", \"type_veh\": \"VL\", \"nbVehVL\": 565, \"nbVehPL\": 138, \"emission\": 87.18308495632884, \"dateHeure\": \"2020-11-29T07:00:00\"}, {\"jour\": \"2020-11-29T00:00:00\", \"heure\": \"h8_9\", \"type_veh\": \"VL\", \"nbVehVL\": 756, \"nbVehPL\": 204, \"emission\": 88.71539287916362, \"dateHeure\": \"2020-11-29T08:00:00\"}, {\"jour\": \"2020-11-29T00:00:00\", \"heure\": \"h9_10\", \"type_veh\": \"VL\", \"nbVehVL\": 1604, \"nbVehPL\": 210, \"emission\": 90.27959319113334, \"dateHeure\": \"2020-11-29T09:00:00\"}]}}, {\"mode\": \"vega-lite\"});\n",
       "</script>"
      ],
      "text/plain": [
       "alt.Chart(...)"
      ]
     },
     "execution_count": 216,
     "metadata": {},
     "output_type": "execute_result"
    }
   ],
   "source": [
    "#visualisation d'une semaine pour vérifier les niveaux  : on distingue bien le samedi et le dimanche, pour lesquels les niveaux sont \n",
    "alt.Chart(dfHoraireEmission).mark_line().encode(\n",
    "    x='hours(dateHeure):T',\n",
    "    y=alt.Y('emission:Q',scale=alt.Scale(zero=False)),\n",
    "    color=alt.Color('day(dateHeure):T', scale=alt.Scale(scheme='tableau10'),sort=[0,1,2]),\n",
    "    )"
   ]
  },
  {
   "cell_type": "markdown",
   "metadata": {},
   "source": [
    ">> #### Données de vitesse"
   ]
  },
  {
   "cell_type": "code",
   "execution_count": 189,
   "metadata": {},
   "outputs": [],
   "source": [
    "fichierVts='S43_vitesses_23_11_29_11.xls'\n",
    "dfVts=pd.read_excel(os.path.join(dossier, fichierVts),sheet_name=None, skiprows=8, nrows=24)"
   ]
  },
  {
   "cell_type": "code",
   "execution_count": 190,
   "metadata": {},
   "outputs": [],
   "source": [
    "listDfVts=[]\n",
    "for i,s in ((0,'sensexter'),(1,'sensinter')) : \n",
    "    dFSensComplet=[dfVts[k] for k in dfVts.keys() if not 'Voie' in k and k[:2]!=\"xx\"][i]\n",
    "    listDfVts.append(pd.concat([dFSensComplet.iloc[:,[0,12,15]].rename(columns={'vitesse moyenne':'vMoy'}).assign(typeJour='JO', sens=s), \n",
    "           dFSensComplet.iloc[:,[0,28,31]].rename(columns={'vitesse moyenne.1':'vMoy','V85.1':'V85'}).assign(typeJour='Samedi', sens=s),\n",
    "           dFSensComplet.iloc[:,[0,44,47]].rename(columns={'vitesse moyenne.2':'vMoy','V85.2':'V85'}).assign(typeJour='Dimanche', sens=s)]))\n",
    "dFVtsFinale=pd.concat(listDfVts)\n",
    "dFVtsFinale['sequence']=dFVtsFinale.sequence.apply(lambda x : 'h'+x.replace('-','_')[:-1])\n",
    "dFVtsFinale.rename(columns={'sequence':'heure'}, inplace=True)"
   ]
  },
  {
   "cell_type": "markdown",
   "metadata": {},
   "source": [
    ">> #### Jointure des trafic et vitesses"
   ]
  },
  {
   "cell_type": "code",
   "execution_count": 295,
   "metadata": {},
   "outputs": [],
   "source": [
    "#joindre puis calcule de l'emission comme précédemment, mais pour chaque sens en moyennant au préalable le trafic par type de jour\n",
    "dfHoraireStack.nbVeh.fillna(0, inplace=True)\n",
    "dfGroupTypeJour=dfHoraireStack.groupby(['typeJour','heure','type_veh', 'sens']).nbVeh.mean().reset_index()\n",
    "dFSensHeureJour=dfGroupTypeJour.loc[dfGroupTypeJour.type_veh=='VL'].merge(dfGroupTypeJour.loc[dfGroupTypeJour.type_veh=='PL'][['typeJour','heure','nbVeh','sens']], \n",
    "                                                        on=['typeJour','heure','sens'],suffixes=('VL','PL')).merge(dFVtsFinale, on=['typeJour','heure','sens']).drop('type_veh', axis=1)\n",
    "dFSensHeureJour['emission']=dFSensHeureJour.apply(lambda x : be.Route(x.nbVehVL, x.nbVehPL, x.vMoy,x.vMoy-5).lwm, axis=1)\n",
    "dfEmissionSensHeureJour=dFSensHeureJour.loc[dFSensHeureJour.sens=='sensexter'][['heure','typeJour','emission']].merge(dFSensHeureJour.loc[dFSensHeureJour.sens=='sensinter'][['heure','typeJour','emission']],\n",
    "    on=['heure','typeJour'],suffixes=('Exter','Inter'))\n",
    "dfEmissionSensHeureJour['emission_tot']=dfEmissionSensHeureJour.apply(lambda x : be.sommeEnergetique(x.emissionExter,x.emissionInter), axis=1) "
   ]
  },
  {
   "cell_type": "code",
   "execution_count": 321,
   "metadata": {},
   "outputs": [
    {
     "data": {
      "text/html": [
       "\n",
       "<div id=\"altair-viz-7ec8c67d6e4d4b2385f722207fab241a\"></div>\n",
       "<script type=\"text/javascript\">\n",
       "  (function(spec, embedOpt){\n",
       "    let outputDiv = document.currentScript.previousElementSibling;\n",
       "    if (outputDiv.id !== \"altair-viz-7ec8c67d6e4d4b2385f722207fab241a\") {\n",
       "      outputDiv = document.getElementById(\"altair-viz-7ec8c67d6e4d4b2385f722207fab241a\");\n",
       "    }\n",
       "    const paths = {\n",
       "      \"vega\": \"https://cdn.jsdelivr.net/npm//vega@5?noext\",\n",
       "      \"vega-lib\": \"https://cdn.jsdelivr.net/npm//vega-lib?noext\",\n",
       "      \"vega-lite\": \"https://cdn.jsdelivr.net/npm//vega-lite@4.8.1?noext\",\n",
       "      \"vega-embed\": \"https://cdn.jsdelivr.net/npm//vega-embed@6?noext\",\n",
       "    };\n",
       "\n",
       "    function loadScript(lib) {\n",
       "      return new Promise(function(resolve, reject) {\n",
       "        var s = document.createElement('script');\n",
       "        s.src = paths[lib];\n",
       "        s.async = true;\n",
       "        s.onload = () => resolve(paths[lib]);\n",
       "        s.onerror = () => reject(`Error loading script: ${paths[lib]}`);\n",
       "        document.getElementsByTagName(\"head\")[0].appendChild(s);\n",
       "      });\n",
       "    }\n",
       "\n",
       "    function showError(err) {\n",
       "      outputDiv.innerHTML = `<div class=\"error\" style=\"color:red;\">${err}</div>`;\n",
       "      throw err;\n",
       "    }\n",
       "\n",
       "    function displayChart(vegaEmbed) {\n",
       "      vegaEmbed(outputDiv, spec, embedOpt)\n",
       "        .catch(err => showError(`Javascript Error: ${err.message}<br>This usually means there's a typo in your chart specification. See the javascript console for the full traceback.`));\n",
       "    }\n",
       "\n",
       "    if(typeof define === \"function\" && define.amd) {\n",
       "      requirejs.config({paths});\n",
       "      require([\"vega-embed\"], displayChart, err => showError(`Error loading script: ${err.message}`));\n",
       "    } else if (typeof vegaEmbed === \"function\") {\n",
       "      displayChart(vegaEmbed);\n",
       "    } else {\n",
       "      loadScript(\"vega\")\n",
       "        .then(() => loadScript(\"vega-lite\"))\n",
       "        .then(() => loadScript(\"vega-embed\"))\n",
       "        .catch(showError)\n",
       "        .then(() => displayChart(vegaEmbed));\n",
       "    }\n",
       "  })({\"config\": {\"view\": {\"continuousWidth\": 400, \"continuousHeight\": 300}}, \"data\": {\"name\": \"data-a8821bb0ff21055fab0cb6649c70a75d\"}, \"mark\": \"line\", \"encoding\": {\"color\": {\"type\": \"nominal\", \"field\": \"typeJour\"}, \"x\": {\"type\": \"quantitative\", \"field\": \"heure\", \"scale\": {\"domain\": [0, 23]}, \"sort\": \"ascending\"}, \"y\": {\"type\": \"quantitative\", \"field\": \"emission_tot\", \"scale\": {\"zero\": false}}}, \"$schema\": \"https://vega.github.io/schema/vega-lite/v4.8.1.json\", \"datasets\": {\"data-a8821bb0ff21055fab0cb6649c70a75d\": [{\"heure\": 0, \"typeJour\": \"Dimanche\", \"emissionExter\": 84.78506393358371, \"emissionInter\": 85.37455595883601, \"emission_tot\": 88.10010411250042}, {\"heure\": 10, \"typeJour\": \"Dimanche\", \"emissionExter\": 88.31848501586981, \"emissionInter\": 88.84638356991135, \"emission_tot\": 91.60075028189439}, {\"heure\": 11, \"typeJour\": \"Dimanche\", \"emissionExter\": 89.51837318000344, \"emissionInter\": 89.70583725227611, \"emission_tot\": 92.62341658473319}, {\"heure\": 12, \"typeJour\": \"Dimanche\", \"emissionExter\": 89.62294836742271, \"emissionInter\": 89.12493785741606, \"emission_tot\": 92.39137759158885}, {\"heure\": 13, \"typeJour\": \"Dimanche\", \"emissionExter\": 89.0330520120472, \"emissionInter\": 88.76240417184663, \"emission_tot\": 91.91013601927969}, {\"heure\": 14, \"typeJour\": \"Dimanche\", \"emissionExter\": 89.55406942512496, \"emissionInter\": 89.10168074314355, \"emission_tot\": 92.34406283892395}, {\"heure\": 15, \"typeJour\": \"Dimanche\", \"emissionExter\": 90.12610244405704, \"emissionInter\": 89.66870352584928, \"emission_tot\": 92.91372181692644}, {\"heure\": 16, \"typeJour\": \"Dimanche\", \"emissionExter\": 90.22669047295827, \"emissionInter\": 90.206699735012, \"emission_tot\": 93.22700656287938}, {\"heure\": 17, \"typeJour\": \"Dimanche\", \"emissionExter\": 90.72574178581013, \"emissionInter\": 90.79481945208192, \"emission_tot\": 93.77071791539434}, {\"heure\": 18, \"typeJour\": \"Dimanche\", \"emissionExter\": 90.27975160064385, \"emissionInter\": 90.56517842857652, \"emission_tot\": 93.43510940053454}, {\"heure\": 19, \"typeJour\": \"Dimanche\", \"emissionExter\": 89.09590611240458, \"emissionInter\": 89.2260403284753, \"emission_tot\": 92.17176058485771}, {\"heure\": 1, \"typeJour\": \"Dimanche\", \"emissionExter\": 83.00023913721226, \"emissionInter\": 83.57981664759444, \"emission_tot\": 86.30998895263343}, {\"heure\": 20, \"typeJour\": \"Dimanche\", \"emissionExter\": 87.83691528875366, \"emissionInter\": 88.55205875473926, \"emission_tot\": 91.21949052115093}, {\"heure\": 21, \"typeJour\": \"Dimanche\", \"emissionExter\": 87.35257635519807, \"emissionInter\": 86.93504048557355, \"emission_tot\": 90.1591242449698}, {\"heure\": 22, \"typeJour\": \"Dimanche\", \"emissionExter\": 88.2473059923759, \"emissionInter\": 87.23457204637577, \"emission_tot\": 90.7806923383766}, {\"heure\": 23, \"typeJour\": \"Dimanche\", \"emissionExter\": 88.41347178291127, \"emissionInter\": 86.55219957205622, \"emission_tot\": 90.59209329790343}, {\"heure\": 2, \"typeJour\": \"Dimanche\", \"emissionExter\": 82.63168448108448, \"emissionInter\": 83.66246387001428, \"emission_tot\": 86.18788400498195}, {\"heure\": 3, \"typeJour\": \"Dimanche\", \"emissionExter\": 82.86316928730578, \"emissionInter\": 83.58376362777838, \"emission_tot\": 86.24869469661823}, {\"heure\": 4, \"typeJour\": \"Dimanche\", \"emissionExter\": 81.16241978762729, \"emissionInter\": 82.58907397893654, \"emission_tot\": 84.9443671735778}, {\"heure\": 5, \"typeJour\": \"Dimanche\", \"emissionExter\": 82.84717958663097, \"emissionInter\": 82.47809349584537, \"emission_tot\": 85.6768561760232}, {\"heure\": 6, \"typeJour\": \"Dimanche\", \"emissionExter\": 83.73414701403632, \"emissionInter\": 84.01042572813054, \"emission_tot\": 86.88478290929365}, {\"heure\": 7, \"typeJour\": \"Dimanche\", \"emissionExter\": 84.02840646150752, \"emissionInter\": 84.47783684093103, \"emission_tot\": 87.26923268791424}, {\"heure\": 8, \"typeJour\": \"Dimanche\", \"emissionExter\": 86.24065023167466, \"emissionInter\": 85.55065567196012, \"emission_tot\": 88.91964156397209}, {\"heure\": 9, \"typeJour\": \"Dimanche\", \"emissionExter\": 87.48297442215504, \"emissionInter\": 87.3748928082027, \"emission_tot\": 90.43956978763293}, {\"heure\": 0, \"typeJour\": \"JO\", \"emissionExter\": 87.21204457729725, \"emissionInter\": 86.8976262321717, \"emission_tot\": 90.06798012792845}, {\"heure\": 10, \"typeJour\": \"JO\", \"emissionExter\": 93.84152919633542, \"emissionInter\": 94.08180466179388, \"emission_tot\": 96.97362834296898}, {\"heure\": 11, \"typeJour\": \"JO\", \"emissionExter\": 94.05692261935393, \"emissionInter\": 94.03416462776086, \"emission_tot\": 97.05585848729396}, {\"heure\": 12, \"typeJour\": \"JO\", \"emissionExter\": 94.07202824036573, \"emissionInter\": 93.52490814446548, \"emission_tot\": 96.81737816694458}, {\"heure\": 13, \"typeJour\": \"JO\", \"emissionExter\": 94.0115508182445, \"emissionInter\": 93.93692384503163, \"emission_tot\": 96.9846975803391}, {\"heure\": 14, \"typeJour\": \"JO\", \"emissionExter\": 93.54786325801524, \"emissionInter\": 94.0610571548941, \"emission_tot\": 96.82233609654672}, {\"heure\": 15, \"typeJour\": \"JO\", \"emissionExter\": 94.44055157772493, \"emissionInter\": 94.15541527590305, \"emission_tot\": 97.3106230433965}, {\"heure\": 16, \"typeJour\": \"JO\", \"emissionExter\": 93.98332687201787, \"emissionInter\": 94.25129919055655, \"emission_tot\": 97.12967949400506}, {\"heure\": 17, \"typeJour\": \"JO\", \"emissionExter\": 94.1811329054378, \"emissionInter\": 93.99858362696108, \"emission_tot\": 97.10111730093911}, {\"heure\": 18, \"typeJour\": \"JO\", \"emissionExter\": 93.30217432146509, \"emissionInter\": 93.30242677906385, \"emission_tot\": 96.31260050873871}, {\"heure\": 19, \"typeJour\": \"JO\", \"emissionExter\": 92.30432329712204, \"emissionInter\": 92.17996751520127, \"emission_tot\": 95.25289044767091}, {\"heure\": 1, \"typeJour\": \"JO\", \"emissionExter\": 86.5829951900558, \"emissionInter\": 86.87994908364894, \"emission_tot\": 89.7443096701194}, {\"heure\": 20, \"typeJour\": \"JO\", \"emissionExter\": 90.61685193174645, \"emissionInter\": 90.78409203449942, \"emission_tot\": 93.71157690981053}, {\"heure\": 21, \"typeJour\": \"JO\", \"emissionExter\": 89.52344502491245, \"emissionInter\": 89.04704838913221, \"emission_tot\": 92.30207564536829}, {\"heure\": 22, \"typeJour\": \"JO\", \"emissionExter\": 88.72986278116474, \"emissionInter\": 87.88620478975605, \"emission_tot\": 91.33878767658229}, {\"heure\": 23, \"typeJour\": \"JO\", \"emissionExter\": 87.54071363604533, \"emissionInter\": 87.2805029726565, \"emission_tot\": 90.42285680819373}, {\"heure\": 2, \"typeJour\": \"JO\", \"emissionExter\": 85.98183777537768, \"emissionInter\": 87.56055119444068, \"emission_tot\": 89.85283811926529}, {\"heure\": 3, \"typeJour\": \"JO\", \"emissionExter\": 86.01622756824682, \"emissionInter\": 88.02160086288923, \"emission_tot\": 90.14394894937126}, {\"heure\": 4, \"typeJour\": \"JO\", \"emissionExter\": 87.24610826995499, \"emissionInter\": 89.88359909551914, \"emission_tot\": 91.77237043716248}, {\"heure\": 5, \"typeJour\": \"JO\", \"emissionExter\": 89.42998923400279, \"emissionInter\": 91.70500423979499, \"emission_tot\": 93.72509237794928}, {\"heure\": 6, \"typeJour\": \"JO\", \"emissionExter\": 91.80735262173923, \"emissionInter\": 94.52498669375106, \"emission_tot\": 96.38566208326132}, {\"heure\": 7, \"typeJour\": \"JO\", \"emissionExter\": 93.84607586352496, \"emissionInter\": 94.75055911516202, \"emission_tot\": 97.33212153550716}, {\"heure\": 8, \"typeJour\": \"JO\", \"emissionExter\": 94.18828224237234, \"emissionInter\": 94.08668705107145, \"emission_tot\": 97.14808167562445}, {\"heure\": 9, \"typeJour\": \"JO\", \"emissionExter\": 93.95266101683606, \"emissionInter\": 94.19361038348504, \"emission_tot\": 97.08510644572442}, {\"heure\": 0, \"typeJour\": \"Samedi\", \"emissionExter\": 86.67930683544552, \"emissionInter\": 87.77838275841796, \"emission_tot\": 90.27382047786404}, {\"heure\": 10, \"typeJour\": \"Samedi\", \"emissionExter\": 91.66720941296477, \"emissionInter\": 92.83624734930851, \"emission_tot\": 95.30124549125492}, {\"heure\": 11, \"typeJour\": \"Samedi\", \"emissionExter\": 91.96559095227474, \"emissionInter\": 92.81978222798227, \"emission_tot\": 95.42395358928844}, {\"heure\": 12, \"typeJour\": \"Samedi\", \"emissionExter\": 91.97708223437516, \"emissionInter\": 93.31479441989416, \"emission_tot\": 95.70754115243028}, {\"heure\": 13, \"typeJour\": \"Samedi\", \"emissionExter\": 92.0344902970009, \"emissionInter\": 92.73608480720927, \"emission_tot\": 95.40973978751497}, {\"heure\": 14, \"typeJour\": \"Samedi\", \"emissionExter\": 92.02646322548362, \"emissionInter\": 92.63291262384443, \"emission_tot\": 95.35056487639856}, {\"heure\": 15, \"typeJour\": \"Samedi\", \"emissionExter\": 91.82955245998423, \"emissionInter\": 92.79525029631105, \"emission_tot\": 95.34948780697027}, {\"heure\": 16, \"typeJour\": \"Samedi\", \"emissionExter\": 92.06803843831473, \"emissionInter\": 92.82519964919976, \"emission_tot\": 95.47339884671231}, {\"heure\": 17, \"typeJour\": \"Samedi\", \"emissionExter\": 91.89744748151057, \"emissionInter\": 92.2613416196274, \"emission_tot\": 95.0935047163783}, {\"heure\": 18, \"typeJour\": \"Samedi\", \"emissionExter\": 91.74630057763473, \"emissionInter\": 91.94352498460789, \"emission_tot\": 94.85633220065878}, {\"heure\": 19, \"typeJour\": \"Samedi\", \"emissionExter\": 90.80567886552191, \"emissionInter\": 90.67721292926414, \"emission_tot\": 93.75222084553667}, {\"heure\": 1, \"typeJour\": \"Samedi\", \"emissionExter\": 85.82501788923936, \"emissionInter\": 87.73018868105038, \"emission_tot\": 89.89154661364012}, {\"heure\": 20, \"typeJour\": \"Samedi\", \"emissionExter\": 89.1174662889563, \"emissionInter\": 89.25280675645061, \"emission_tot\": 92.19596366486371}, {\"heure\": 21, \"typeJour\": \"Samedi\", \"emissionExter\": 87.12058586496943, \"emissionInter\": 87.2604513968873, \"emission_tot\": 90.20138161342076}, {\"heure\": 22, \"typeJour\": \"Samedi\", \"emissionExter\": 85.9131159473468, \"emissionInter\": 86.33377235850733, \"emission_tot\": 89.13883520256016}, {\"heure\": 23, \"typeJour\": \"Samedi\", \"emissionExter\": 85.5006082524953, \"emissionInter\": 85.74785423903285, \"emission_tot\": 88.63629044431252}, {\"heure\": 2, \"typeJour\": \"Samedi\", \"emissionExter\": 85.10548674609916, \"emissionInter\": 87.99640478122141, \"emission_tot\": 89.79747707982467}, {\"heure\": 3, \"typeJour\": \"Samedi\", \"emissionExter\": 85.84838958111865, \"emissionInter\": 87.58154959175991, \"emission_tot\": 89.81115941049387}, {\"heure\": 4, \"typeJour\": \"Samedi\", \"emissionExter\": 85.89540649633607, \"emissionInter\": 89.08607254288724, \"emission_tot\": 90.78769152931974}, {\"heure\": 5, \"typeJour\": \"Samedi\", \"emissionExter\": 87.10627491528827, \"emissionInter\": 89.45481187553864, \"emission_tot\": 91.44769836735188}, {\"heure\": 6, \"typeJour\": \"Samedi\", \"emissionExter\": 88.00196555644408, \"emissionInter\": 90.44965163365973, \"emission_tot\": 92.40631311894126}, {\"heure\": 7, \"typeJour\": \"Samedi\", \"emissionExter\": 89.15693546805137, \"emissionInter\": 91.15181067540837, \"emission_tot\": 93.27822001421464}, {\"heure\": 8, \"typeJour\": \"Samedi\", \"emissionExter\": 90.5051226832193, \"emissionInter\": 92.03884204439943, \"emission_tot\": 94.34963788584325}, {\"heure\": 9, \"typeJour\": \"Samedi\", \"emissionExter\": 91.35516742073213, \"emissionInter\": 92.40757407960048, \"emission_tot\": 94.92347114624562}]}}, {\"mode\": \"vega-lite\"});\n",
       "</script>"
      ],
      "text/plain": [
       "alt.Chart(...)"
      ]
     },
     "execution_count": 321,
     "metadata": {},
     "output_type": "execute_result"
    }
   ],
   "source": [
    "alt.Chart(dfEmissionSensHeureJour.assign(heure=dfEmissionSensHeureJour.heure.apply(lambda x : int(x.split('_')[0][1:])))).mark_line().encode(\n",
    "    x=alt.X('heure', sort='ascending', scale=alt.Scale(domain=(0,23))),\n",
    "    y=alt.Y('emission_tot:Q',scale=alt.Scale(zero=False)),\n",
    "    color='typeJour')"
   ]
  }
 ],
 "metadata": {
  "kernelspec": {
   "display_name": "Python 3",
   "language": "python",
   "name": "python3"
  },
  "language_info": {
   "codemirror_mode": {
    "name": "ipython",
    "version": 3
   },
   "file_extension": ".py",
   "mimetype": "text/x-python",
   "name": "python",
   "nbconvert_exporter": "python",
   "pygments_lexer": "ipython3",
   "version": "3.8.7"
  }
 },
 "nbformat": 4,
 "nbformat_minor": 4
}
