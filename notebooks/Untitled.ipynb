{
 "cells": [
  {
   "cell_type": "code",
   "execution_count": 1,
   "id": "31b79aa0-c30e-4878-8561-590ccd7f2f9a",
   "metadata": {},
   "outputs": [],
   "source": [
    "%load_ext autoreload\n",
    "%autoreload 2"
   ]
  },
  {
   "cell_type": "code",
   "execution_count": 2,
   "id": "4b0a3a92-9cb7-45be-9635-9d4f1426dbdd",
   "metadata": {},
   "outputs": [],
   "source": [
    "import sys\n",
    "sys.path.append(r'C:\\Users\\martin.schoreisz\\git\\otv\\otv\\Transfert_Donnees')\n",
    "sys.path.append(r'C:\\Users\\\\martin.schoreisz\\git\\Outils\\Outils\\Martin_Perso')\n",
    "sys.path.append(r'C:\\Users\\martin.schoreisz\\git\\PPBE_BdxMet\\src\\Carac_situ_acoustiq')\n",
    "sys.path.append(r'C:\\Users\\martin.schoreisz\\git\\PPBE_BdxMet\\src')\n",
    "\n",
    "import pandas as pd\n",
    "import altair as alt\n",
    "from Import_stockage_donnees.Import_export_bdd import ResultatsEnquete\n",
    "from Import_stockage_donnees.Params import bdd, startDateMesure, endDateMesure\n",
    "import Connexion_Transfert as ct\n",
    "from Bruit.Niveaux import niveau2Pression, pression2Niveau, moyenneQuadratiquePression\n",
    "\n",
    "pd.set_option('display.max_rows', 100)\n",
    "pd.set_option('display.max_columns', 50)\n",
    "pd.set_option('display.max_colwidth', 100)\n",
    "# alt.data_transformers.disable_max_rows()\n",
    "# alt.data_transformers.enable('json')"
   ]
  },
  {
   "cell_type": "code",
   "execution_count": null,
   "id": "0ffbc3a1-531e-4bfd-9233-d8f7e3af5e55",
   "metadata": {},
   "outputs": [],
   "source": [
    "with ct.ConnexionBdd(bdd) as c : \n",
    "    dfDonneesBrutes = pd.read_sql(\n",
    "        f\"SELECT * FROM mesures_physiques.niveau_bruit WHERE id_materiel = 1 ORDER BY date_heure\", \n",
    "        c.sqlAlchemyConn)"
   ]
  },
  {
   "cell_type": "code",
   "execution_count": null,
   "id": "4081d566-b6bc-4eeb-9928-79f4c824174a",
   "metadata": {},
   "outputs": [],
   "source": []
  }
 ],
 "metadata": {
  "kernelspec": {
   "display_name": "Python 3 (ipykernel)",
   "language": "python",
   "name": "python3"
  },
  "language_info": {
   "codemirror_mode": {
    "name": "ipython",
    "version": 3
   },
   "file_extension": ".py",
   "mimetype": "text/x-python",
   "name": "python",
   "nbconvert_exporter": "python",
   "pygments_lexer": "ipython3",
   "version": "3.9.6"
  }
 },
 "nbformat": 4,
 "nbformat_minor": 5
}
