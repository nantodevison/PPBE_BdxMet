{
 "cells": [
  {
   "cell_type": "markdown",
   "id": "cae1c377-6c75-4f50-80b5-d07e842fb30d",
   "metadata": {},
   "source": [
    "***IMPORT DES DONNEES DE TRAFIC, BRUIT, METEO ET SONDAGE***"
   ]
  },
  {
   "cell_type": "code",
   "execution_count": 1,
   "id": "df4708c3-4965-4f3b-b74e-14da1d848db0",
   "metadata": {},
   "outputs": [],
   "source": [
    "%load_ext autoreload\n",
    "%autoreload 2"
   ]
  },
  {
   "cell_type": "code",
   "execution_count": 10,
   "id": "9c66970b-150b-4c04-ba1e-1e0aafe707ef",
   "metadata": {},
   "outputs": [],
   "source": [
    "import sys\n",
    "sys.path.append(r'C:\\Users\\martin.schoreisz\\git\\otv\\otv\\Transfert_Donnees')\n",
    "sys.path.append(r'C:\\Users\\\\martin.schoreisz\\git\\Outils\\Outils\\Martin_Perso')\n",
    "sys.path.append(r'C:\\Users\\martin.schoreisz\\git\\PPBE_BdxMet\\src\\Carac_situ_acoustiq')\n",
    "sys.path.append(r'C:\\Users\\martin.schoreisz\\git\\PPBE_BdxMet\\src')\n",
    "\n",
    "import os, re\n",
    "import pandas as pd\n",
    "import numpy as np\n",
    "import altair as alt\n",
    "from math import pi\n",
    "from IPython.display import Image, FileLink, FileLinks\n",
    "from IPython.core.display import HTML \n",
    "from Import_stockage_donnees.Import_export_bdd import FichierMesureBruitCsv, FichierCsvEnquete, FichiersMeteo\n",
    "\n",
    "pd.set_option('display.max_rows', 100)\n",
    "pd.set_option('display.max_columns', 50)\n",
    "# alt.data_transformers.disable_max_rows()\n",
    "# alt.data_transformers.enable('json')"
   ]
  },
  {
   "cell_type": "markdown",
   "id": "58f22b36-d663-4edd-9c7e-5364d99684b2",
   "metadata": {
    "jp-MarkdownHeadingCollapsed": true,
    "tags": []
   },
   "source": [
    "# DONNEES BRUIT"
   ]
  },
  {
   "cell_type": "markdown",
   "id": "936232c1-c322-45dc-a7d0-ba370601de8c",
   "metadata": {},
   "source": [
    "> ## Lecture des fichiers ods"
   ]
  },
  {
   "cell_type": "code",
   "execution_count": 36,
   "id": "a2704a05-061d-4b35-96d6-135d5d92fec5",
   "metadata": {},
   "outputs": [],
   "source": [
    "# exemple de lecture \n",
    "test = FichierMesureBruitCsv(r'C:\\Users\\martin.schoreisz\\Documents\\temp\\BruitRessenti\\mesures\\CSV\\sono1_10RuePierreRonsard\\sono1_02-04-2022.csv')\n",
    "# test.dfNiveauSpectre.head(10)"
   ]
  },
  {
   "cell_type": "code",
   "execution_count": null,
   "id": "0a2a85c6-d8fa-4c73-974f-955948864874",
   "metadata": {},
   "outputs": [],
   "source": [
    "# transfert vers Bdd par dossier\n",
    "dossierSrc = r'C:\\Users\\martin.schoreisz\\Documents\\temp\\BruitRessenti\\mesures\\CSV\\sono4_26RueFrancoisVillon'\n",
    "transfertFichierMesure2Bdd(dossierSrc)"
   ]
  },
  {
   "cell_type": "markdown",
   "id": "4918f688-e406-4683-8e1d-05f1342658f0",
   "metadata": {
    "jp-MarkdownHeadingCollapsed": true,
    "tags": []
   },
   "source": [
    "# DONNEES RESSENTI"
   ]
  },
  {
   "cell_type": "markdown",
   "id": "a4e87229-3da9-4d08-8eaa-19160e4f1e33",
   "metadata": {
    "tags": []
   },
   "source": [
    "## Import des données brutes  \n",
    "Il s'agit de lire le fichier, de le nettoyer puis de le rendre plus compréhensible.  \n",
    "Comme le fichier mélange des données fournies par les riverains directement par LimeSurvey et d'autre issus du transfert depuis des questionnaires papiers, il faut également s'assurer de la présence d'un identifiant unique par riverains, en créant des adresses mail factice pour les réoponses issues de questionaire papier."
   ]
  },
  {
   "cell_type": "code",
   "execution_count": 3,
   "id": "2b994588-ae3d-4c01-b83c-2465a202b8e6",
   "metadata": {},
   "outputs": [],
   "source": [
    "ressenti = FichierCsvEnquete(r'C:\\Users\\martin.schoreisz\\Box\\Cerema\\3E-Prod_Env_Risq\\E6-Nuisances\\E61-Acoustique\\60-Etudes_Locales\\2022-BruitRessentiBdxMet\\4-Travaux_en_cours\\Enquete_LimeSurvey\\resultats_LimeSurvey_Bruts\\resultats_complets_enquete_avec_papier.csv')"
   ]
  },
  {
   "cell_type": "markdown",
   "id": "be101c2b-066c-467f-ac85-a6baba4d115b",
   "metadata": {
    "tags": []
   },
   "source": [
    "## Analyse des données de participants et déclarations  \n",
    "Il s'agit de fournir des indicateurs de répartition des différentes valeurs de contexte et de déclaration fournies par les participants. Attention, les formulaires papiers ne permettaient pas de remplir tout les informations de contexte"
   ]
  },
  {
   "cell_type": "markdown",
   "id": "a6ccac3f-5a77-466a-8e61-404fe468e6a6",
   "metadata": {
    "tags": []
   },
   "source": [
    "<div class=\"alert alert-block alert-warning\"><b>Attention:</b> Il n'y a pas d'analyse des commentaires réalisée pour le moment.</div>"
   ]
  },
  {
   "cell_type": "code",
   "execution_count": 16,
   "id": "e53db6ba-5cc2-4dc5-ba4c-6cb3c3f5d2ea",
   "metadata": {},
   "outputs": [],
   "source": [
    "#creation des donnees\n",
    "dicoCharts = ressenti.creationDfAnalyseRetour()\n",
    "# creation des charts, avec ou sans export\n",
    "ressenti.creationCharts(dicoCharts, export=False)"
   ]
  },
  {
   "cell_type": "code",
   "execution_count": null,
   "id": "b28c671d-3342-4358-94b7-19a2c2c37420",
   "metadata": {},
   "outputs": [],
   "source": [
    "# exemple\n",
    "dicoCharts['sensibilite']['data']\n",
    "dicoCharts['sensibilite']['chart']"
   ]
  },
  {
   "cell_type": "markdown",
   "id": "7f898f11-80d4-4ed2-8f24-26e81faddcae",
   "metadata": {},
   "source": [
    "# DONNEES MÉTÉO\n",
    "L'objectif est double : \n",
    "1. fournir des rose des vents selon une période de temps définie\n",
    "1. fournir le statut de propagation acoustique (favorable / défavorable) selon l'angle et une période de temps définie"
   ]
  },
  {
   "cell_type": "markdown",
   "id": "01448ae7-382e-417b-8241-d1bd4ad08f52",
   "metadata": {
    "tags": []
   },
   "source": [
    "## Import des données brutes  \n",
    "Les données sont réparties sur 2 fichiers dans le dossier suivant C:\\Users\\martin.schoreisz\\Box\\Cerema\\3E-Prod_Env_Risq\\E6-Nuisances\\E61-Acoustique\\60-Etudes_Locales\\2022-BruitRessentiBdxMet\\4-Travaux_en_cours\\mesures\\station_meteo\\datas"
   ]
  },
  {
   "cell_type": "code",
   "execution_count": 3,
   "id": "a98c1c41-e780-4e36-aca0-cbf7f65cb3ba",
   "metadata": {},
   "outputs": [],
   "source": [
    "fichierMeteo = FichiersMeteo(r'C:\\Users\\martin.schoreisz\\Box\\Cerema\\3E-Prod_Env_Risq\\E6-Nuisances\\E61-Acoustique\\60-Etudes_Locales\\2022-BruitRessentiBdxMet\\4-Travaux_en_cours\\mesures\\station_meteo\\datas',\n",
    "                             ['Mesures_Ech24_21-03-2022_04-04-2022.csv', 'Mesures_Ech24_04-04-2022_19-04-2022.csv'])"
   ]
  },
  {
   "cell_type": "code",
   "execution_count": 6,
   "id": "3e5db56c-5e7a-43c2-b019-48b7b47fe023",
   "metadata": {},
   "outputs": [],
   "source": [
    "imageCompDirVent = r'C:\\Users\\martin.schoreisz\\Box\\Cerema\\3E-Prod_Env_Risq\\E6-Nuisances\\E61-Acoustique\\60-Etudes_Locales\\2022-BruitRessentiBdxMet\\4-Travaux_en_cours\\Illustrations\\meteo\\ecart_dirVent_HautBas.svg'"
   ]
  },
  {
   "cell_type": "code",
   "execution_count": 4,
   "id": "8ab83a5a-2653-4c02-8bfd-1398f6ce5adb",
   "metadata": {},
   "outputs": [],
   "source": [
    "dfDirVentComp = fichierMeteo.analyseDirVents(fichierMeteo.dfBrutes)"
   ]
  },
  {
   "cell_type": "code",
   "execution_count": 16,
   "id": "ed402930-dcc4-4840-b114-991b1abe6dbb",
   "metadata": {},
   "outputs": [],
   "source": [
    "test = FileLink(imageCompDirVent)"
   ]
  },
  {
   "cell_type": "markdown",
   "id": "b3dee2c4-cd26-40aa-adb9-d7c7f4838d40",
   "metadata": {},
   "source": [
    "[test](C:/Users\\martin.schoreisz\\Box\\Cerema\\3E-Prod_Env_Risq\\E6-Nuisances\\E61-Acoustique\\60-Etudes_Locales\\2022-BruitRessentiBdxMet\\4-Travaux_en_cours\\Illustrations\\meteo\\ecart_dirVent_HautBas.svg)"
   ]
  },
  {
   "cell_type": "code",
   "execution_count": null,
   "id": "9e858b19-c5fc-4446-a667-56330c3fcaa0",
   "metadata": {},
   "outputs": [],
   "source": []
  }
 ],
 "metadata": {
  "kernelspec": {
   "display_name": "Python 3 (ipykernel)",
   "language": "python",
   "name": "python3"
  },
  "language_info": {
   "codemirror_mode": {
    "name": "ipython",
    "version": 3
   },
   "file_extension": ".py",
   "mimetype": "text/x-python",
   "name": "python",
   "nbconvert_exporter": "python",
   "pygments_lexer": "ipython3",
   "version": "3.9.6"
  },
  "toc-autonumbering": true
 },
 "nbformat": 4,
 "nbformat_minor": 5
}
