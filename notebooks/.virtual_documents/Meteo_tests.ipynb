get_ipython().run_line_magic("load_ext", " autoreload")
get_ipython().run_line_magic("autoreload", " 2")


import sys
sys.path.append(r'C:\Users\martin.schoreisz\git\otv\otv\Transfert_Donnees')
sys.path.append(r'C:\Users\\martin.schoreisz\git\Outils\Outils\Martin_Perso')
import pandas as pd
import altair as alt
from math import pi


# donnees generiques
path = r'C:\Users\martin.schoreisz\Box\Cerema\3E-Prod_Env_Risq\E6-Nuisances\E61-Acoustique\60-Etudes_Locales\2022-BruitRessentiBdxMet\4-Travaux_en_cours\mesures\station_meteo\testMateriel\test_synchro_vitDir_0.csv'


# import et mise en forme du fichier
dfBrute = pd.read_csv(path, skiprows=2, names=['rowNum', 'dateHeure', 'vitVent1', 'vitRafale1', 'rayonnement', 'temp1', 'hygo1', 'voltage', 'mA', 'dirVent1', 
                                               'dirVent2', 'vitVent2', 'vitRafale2', 'pluie', 'temp2', 'hygo2'],
                     parse_dates=[1], dayfirst=True)

dfBrute['dirVent1_rad'] = abs((dfBrute.dirVent1*pi/180)-pi)
dfBrute['dirVent2_rad'] = abs((dfBrute.dirVent2*pi/180)-pi)


base = alt.Chart(dfBrute, width=10000, height=400).mark_line().encode(
    x='dateHeure:T',
    y='value:Q',
    color='key:N')
vent = base.transform_fold(
    ['vitVent1', 'vitVent2'],).properties(title = 'comp vit vent')
temp = base.transform_fold(
    ['temp1', 'temp2'],).properties(title = 'comp temp')
oriVent = base.transform_fold(
    ['dirVent1', 'dirVent2'],).properties(title = 'comp ori vent')
hygro = base.transform_fold(
    ['hygo1', 'hygo2'],).properties(title = 'comp hygro')
pluie = base.transform_fold(
    ['pluie'],).properties(title = 'pluie')


alt.vconcat(vent, temp, oriVent, hygro, pluie)


# import et mise en forme du fichier
dfBrute = pd.read_csv(path, skiprows=2, parse_dates=[1], dayfirst=True, 
                      names=['rowNum', 'dateHeure', 'vitVentMilieu', 'vitRafaleMilieu', 'vitVentBatiDir', 'vitRafaleBatiDir', 'tension', 'ampere',
                             'vitVentBatiRoute', 'vitRafaleBatiRoute'])
dfBrute = dfBrute.assign(dif_milieu_BatiRoute=abs(dfBrute.vitVentMilieu - dfBrute.vitVentBatiRoute),
                         dif_milieu_BatiDir=abs(dfBrute.vitVentMilieu - dfBrute.vitVentBatiDir),
                         dif_BatiDir_BatiRoute=abs(dfBrute.vitVentBatiDir - dfBrute.vitVentBatiRoute))


base = alt.Chart(dfBrute, width=16000, height=400).mark_line().encode(
    x='dateHeure:T',
    y='value:Q',
    color='key:N')
vent = base.transform_fold(
    ['vitVentMilieu', 'vitVentBatiDir', 'vitVentBatiRoute'],).properties(title = 'comp vit vent')
comp = base.transform_fold(
    ['dif_milieu_BatiRoute', 'dif_milieu_BatiDir', 'dif_BatiDir_BatiRoute'],).properties(title = 'comp vit vent')


vent


alt.vconcat(vent, comp)


dfBrute.dif_milieu_BatiRoute.mean(), dfBrute.dif_milieu_BatiDir.mean(), dfBrute.dif_BatiDir_BatiRoute.mean()
# ['dif_milieu_BatiRoute', 'dif_milieu_BatiDir', 'dif_BatiDir_BatiRoute'])


dfBrute.dif_milieu_BatiRoute.median(), dfBrute.dif_milieu_BatiDir.median(), dfBrute.dif_BatiDir_BatiRoute.median()


dfBrute.dif_milieu_BatiRoute.quantile(0.1), dfBrute.dif_milieu_BatiDir.quantile(0.1), dfBrute.dif_BatiDir_BatiRoute.quantile(0.1)



