get_ipython().run_line_magic("load_ext", " autoreload")
get_ipython().run_line_magic("autoreload", " 2")
import pandas as pd
import sys, os
sys.path.append(r'C:\Users\martin.schoreisz\git\Outils\Outils\Martin_Perso')
sys.path.append(r'C:\Users\martin.schoreisz\git\otv\otv\Transfert_Donnees')
import Bruit.Emission as be
import Import_trafics as it
import Analyse_emission as ae
import Graphs_emission as ge
import altair as alt
import Outils as O


#données sources
dossier=r'C:\Users\martin.schoreisz\Box\Dossier_Personnel_de_Martin_SCHOREISZ\PPBE BdxM\Bruit_ressenti\donnees_sources\DIRA\Comparaison_trafic_confinement-courvre-feu\Cerema_ech_24'
nomFichier='S43_debit_VL_PL_27_01_02_02.xls'
dfFichier=pd.read_excel(os.path.join(dossier, nomFichier),sheet_name=None)


#import et mise en forme des données DIRA
dfHoraireStack, dfHoraireEmission=ae.importFichierTraficDIRA('totoFake', dossier, '2019', 'local_otv_gti', 'na_2010_2019_p', nomFichier)
#visualisation d'une semaine pour vérifier les niveaux  : on distingue bien le samedi et le dimanche, pour lesquels les niveaux sont vraiment plus faible en journee
chartHoraireVtsForfait=ge.horaireParJourVtsForfait(dfHoraireEmission)


chartHoraireVtsForfait


fichierVts='S43_Vitesses_27_01_02_02.xls'


dFVtsFinale=ae.importFichierVtsGroupe(dossier, fichierVts)
chartCompSens=ge.compSensJO(dFVtsFinale)


chartCompSens


#joindre puis calcule de l'emission comme précédemment, mais pour chaque sens en moyennant au préalable le trafic par type de jour
dfEmissionSensHeureJour=ae.emissionSensVts(dfHoraireStack,dFVtsFinale)
chartHoraireTypeJournee=ge.emissionTypeJour(dfEmissionSensHeureJour)


chartHoraireTypeJournee


#analyse des émissions
tupleFichiers=(('S43_debit_VL_PL_23_11_29_11.xls','S43_vitesses_23_11_29_11.xls','confinement 2 - Nov2020'), 
                     ('S43_debit_VL_PL_25_01_31_01.xls','S43_Vitesses_25_01_31_01.xls', 'couvre feu 18h - Janv2021'), 
                     ('S43_debit_VL_PL_27_01_02_02.xls','S43_Vitesses_27_01_02_02.xls','normale - JanvFevr2020'))
dfEmissionToutePeriode, dfVtsToutePeriode, dfTraficToutePeriode=ae.compEmission(dossier, tupleFichiers)


chartCompEmission=ge.compEmission(dfEmissionToutePeriode)


chartCompEmission


ge.compParamsEmission(ge.compEmissionTraf(dfTraficToutePeriode) , ge.compEmissionVts(dfVtsToutePeriode))



