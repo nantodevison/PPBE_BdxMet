get_ipython().run_line_magic("load_ext", " autoreload")
get_ipython().run_line_magic("autoreload", " 2")


import sys
sys.path.append(r'C:\Users\martin.schoreisz\git\otv\otv\Transfert_Donnees')
sys.path.append(r'C:\Users\martin.schoreisz\git\Outils\Outils\src')
sys.path.append(r'C:\Users\martin.schoreisz\Box\Cerema\3E-Prod_Env_Risq\E6-Nuisances\E61-Acoustique\60-Etudes_Locales\2022-BruitRessentiBdxMet\4-Travaux_en_cours\donnees_produites\Codes\src\Carac_situ_acoustiq')
sys.path.append(r'C:\Users\martin.schoreisz\Box\Cerema\3E-Prod_Env_Risq\E6-Nuisances\E61-Acoustique\60-Etudes_Locales\2022-BruitRessentiBdxMet\4-Travaux_en_cours\donnees_produites\Codes\src')

import pandas as pd
import altair as alt
import numpy as np
from Import_stockage_donnees.Import_export_bdd import ResultatsEnquete
from Import_stockage_donnees.Params import dicoInstruSite
from Expoitation_mesures.Meteo import (recupDonneesMeteoBase, creerGraphMeteo, recupDonneesMeteofranceBase, 
                                       creerGraphCompVentSiteMeteoFrance, concatMeteoFranceEtSite, creerGraphCompConditionsPropa)
from Expoitation_mesures.Trafic import *
from Expoitation_mesures.Acoustique import recupDonneesAgregees, recupFractileAgregees
from Expoitation_mesures.Analyses_croises import (graphCroiseBruitMeteo1Jour, graphCroiseBruitMeteoPlusieursJour, graphCroiseBruitTrafic6min,
                                                  graphCroiseBruitMeteoTrafic, fusionnerDfSources, creerCorrelation)
from Bruit.Meteo import (DonneesMeteo, calculConditionPropagationMeteoFranceQualitatif, dicoSecteurAngulaire, conditionPropagation, calculGradientVitesseSon,
                         graphCompTempMesureeHautBas, calculCategorieVentQualitatif, secteurAngulaireQuantitatif, dfAngle)
from Bruit.Emission import Route
from Bruit.Niveaux import sommeEnergetique, niveau2Pression, sommeEnergetique, calculLden, calculTNI
from Trafic.Trafic_Routier import graphDebitVitesse1jour, graphDebitVitesseplusieursjour
from datetime import datetime, time
import locale
from Outils.Outils import dateTexteDepuisDayOfYear
from math import log10, pow, radians, pi, cos, sin, degrees

locale.setlocale(locale.LC_ALL, 'fr_FR')
pd.set_option('display.max_rows', 100)
pd.set_option('display.max_columns', 50)
pd.set_option('display.max_colwidth', 100)
alt.data_transformers.disable_max_rows()
# alt.data_transformers.enable('json')


tableMesuresBruitParSite = 'mesures_physiques.niveau_bruit_site'
attributSite = 'id_site'


resultats = ResultatsEnquete()
resultats.creationCharts(export=False)
# si export = True, alors les données sont excportées dans le dossier dossierExportChartsRessenti du module Params


# exemple
resultats.dicoCharts['localisation_gene']['chart']


# récupérer les données
dfReglementaireMoyen = pd.concat([recupDonneesAgregees(i, 'reg_lden_jour_moyen').drop_duplicates('leq_a').assign(
    periode=['Jour Ouvrés 6h-18h', 'Jour Ouvrés 18h-22h', 'Jour Ouvrés 22h-6h',
             'Samedi 6h-18h', 'Samedi 18h-22h', 'Samedi 22h-6h',
             'Dimanche 6h-18h', 'Dimanche 18h-22h', 'Dimanche 22h-6h']) for i in range(1, 5)]).replace({'id_instru_site': dicoInstruSite})


alt.Chart(dfReglementaireMoyen, title=['Niveaux reglementaires moyens', '']).mark_bar().encode(
    x=alt.X('id_instru_site:N', title=None, sort=['Ladoumègue', 'Noyers', 'Villon', 'Ronsard']),
    y=alt.Y('leq_a:Q', title='Niveau de bruit', axis=alt.Axis(labelFontSize=15, titleFontSize=15)),
    color=alt.Color('id_instru_site:N', title='Sites', sort=['Ladoumègue', 'Noyers', 'Villon', 'Ronsard'], legend=alt.Legend(labelFontSize=12, titleFontSize=14)), 
    column=alt.Column('periode:N', spacing=40, sort=['Jour Ouvrés 6h-18h'], title=None, header=alt.Header(labelFontSize=12))).properties(width=75).configure_title(
        align='center', anchor='middle', fontSize=20).configure_axisX(disable=True)


dfLden = dfReglementaireMoyen.pivot(index=['id_instru_site'], columns=['periode'], values='leq_a').reset_index()
dfLden['Jours ouvrés'] = dfLden.apply(lambda x: calculLden(x['Jour Ouvrés 6h-18h'], x['Jour Ouvrés 18h-22h'], x['Jour Ouvrés 22h-6h']), axis=1)
dfLden['Samedi'] = dfLden.apply(lambda x: calculLden(x['Samedi 6h-18h'], x['Samedi 18h-22h'], x['Samedi 22h-6h']), axis=1)
dfLden['Dimanche'] = dfLden.apply(lambda x: calculLden(x['Dimanche 6h-18h'], x['Dimanche 18h-22h'], x['Dimanche 22h-6h']), axis=1)
alt.Chart(dfLden.melt(id_vars='id_instru_site', value_vars=['Jours ouvrés', 'Samedi', 'Dimanche'], value_name='Niveau de bruit'),
          title=['Indicateur Lden moyen', '']).mark_bar().encode(
                        x=alt.X('id_instru_site', title=None, sort=['Ladoumègue', 'Noyers', 'Villon', 'Ronsard']),
                        y=alt.Y('Niveau de bruit', axis=alt.Axis(labelFontSize=15, titleFontSize=15)),
                        color=alt.Color('id_instru_site', sort=['Ladoumègue', 'Noyers', 'Villon', 'Ronsard'], title='Sites',
                                        legend=alt.Legend(labelFontSize=12, titleFontSize=14)),
                        column=alt.Column('periode', sort=['Jours ouvrés', 'Samedi', 'Dimanche'], spacing=40, title=None, header=alt.Header(labelFontSize=12))).properties(width=100).configure_title(
        align='center', anchor='middle', fontSize=20).configure_axisX(disable=True)


dfReglementaireParJour = pd.concat([recupDonneesAgregees(i, 'reglementaire_lden').set_index('date_heure').resample('60T').asfreq().bfill().reset_index()
                                    for i in range(1, 5)]).replace({'id_instru_site': dicoInstruSite})
dfReglementaireMoyen = pd.concat([recupDonneesAgregees(i, 'reg_lden_jour_moyen').set_index('date_heure').resample('60T').asfreq().bfill().reset_index() 
                                  for i in range(1, 5)]).replace({'id_instru_site': dicoInstruSite})
dfCompJourMoyRgelementaire = dfReglementaireParJour.merge(dfReglementaireMoyen, on=['date_heure', 'id_instru_site'], suffixes=['_jour', '_moy']
                             )
dfCompJourMoyRgelementaire['écart'] = dfCompJourMoyRgelementaire.leq_a_moy - dfCompJourMoyRgelementaire.leq_a_jour


chartEvolutionNiveau = alt.Chart(dfReglementaireParJour, title=['Évolution des niveaux reglementaires', 'selon la journée']).mark_line().encode(
    x=alt.X('date_heure:T', title='jour', axis=alt.Axis(labelAngle=320)),
    y=alt.Y('leq_a:Q', title='niveau de bruit équivalent', scale=alt.Scale(domain=(35, 70)), axis=alt.Axis(labelFontSize=15, titleFontSize=15)),
    color=alt.Color('id_instru_site:N', sort=['Ladoumègue', 'Noyers', 'Villon', 'Ronsard'], title='Sites',
                    legend=alt.Legend(labelFontSize=12, titleFontSize=14))).properties(width=800)
chartEcart = alt.Chart(dfCompJourMoyRgelementaire, title=['Écart entre les moyennes des niveaux et', 'les niveaux réglementaire par jour']).mark_line().encode(
    x=alt.X('date_heure:T', title='jour', axis=alt.Axis(labelAngle=320)),
    y=alt.Y('écart:Q', title='écart de niveau', scale=alt.Scale(domain=(-8, 8), clamp=True), axis=alt.Axis(labelFontSize=15, titleFontSize=15)),
    color=alt.Color('id_instru_site:N', sort=['Ladoumègue', 'Noyers', 'Villon', 'Ronsard'], title='Sites',
                    legend=alt.Legend(labelFontSize=12, titleFontSize=14))).properties(width=800)
alt.vconcat(chartEvolutionNiveau, chartEcart).configure_title(
        align='center', anchor='middle', fontSize=20)


((alt.Chart(dfCompJourMoyRgelementaire.loc[(dfCompJourMoyRgelementaire.id_instru_site == 'Ronsard') &
                                          (dfCompJourMoyRgelementaire.date_heure.dt.dayofweek.isin(range(5))) &
                                          (dfCompJourMoyRgelementaire.date_heure.dt.hour.isin(range(6,19)))], title='Ronsard').transform_density(
    'écart', as_=['écart', 'density']).mark_area().encode(
    x="écart:Q",
    y='density:Q',) | 
 alt.Chart(dfCompJourMoyRgelementaire.loc[(dfCompJourMoyRgelementaire.id_instru_site == 'Villon') & 
                                          (dfCompJourMoyRgelementaire.date_heure.dt.dayofweek.isin(range(5))) &
                                          (dfCompJourMoyRgelementaire.date_heure.dt.hour.isin(range(6,19)))], title='Villon').transform_density(
    'écart', as_=['écart', 'density']).mark_area().encode(
    x="écart:Q",
    y='density:Q',)) & (
 alt.Chart(dfCompJourMoyRgelementaire.loc[(dfCompJourMoyRgelementaire.id_instru_site == 'Ladoumègue') & 
                                          (dfCompJourMoyRgelementaire.date_heure.dt.dayofweek.isin(range(5))) &
                                          (dfCompJourMoyRgelementaire.date_heure.dt.hour.isin(range(6,19)))], title='Ladoumègue').transform_density(
    'écart', as_=['écart', 'density']).mark_area().encode(
    x="écart:Q",
    y='density:Q',) | 
 alt.Chart(dfCompJourMoyRgelementaire.loc[(dfCompJourMoyRgelementaire.id_instru_site == 'Noyers') & 
                                          (dfCompJourMoyRgelementaire.date_heure.dt.dayofweek.isin(range(5))) &
                                          (dfCompJourMoyRgelementaire.date_heure.dt.hour.isin(range(6,19)))], title='Noyers').transform_density(
    'écart', as_=['écart', 'density']).mark_area().encode(
    x="écart:Q",
    y=alt.Y('density:Q')))).properties(title=['Répartition des écarts entre niveaux journalier et', 'niveaux moyens']).configure_title(align='center', anchor='middle', fontSize=20)


dfHoraire = recupDonneesAgregees(3, '30 min')
dfHoraire = dfHoraire.assign(heure_minute=dfHoraire.date_heure.apply(lambda x: f"{x.strftime('%H:%M')}"),
                        jour=dfHoraire.date_heure.apply(lambda x: x.strftime('%A %d %B %Y')),
                        jour_sort=dfHoraire.date_heure.dt.dayofyear)


alt.Chart(dfHoraire, title=['Évolution du niveau de bruit', 'par pas de 30 minutes ; rue des Noyers']).mark_rect().encode(
    alt.X('heure_minute', title='Heure'),
    alt.Y('jour', sort=alt.EncodingSortField('jour_sort'), title='Jour'),
    color=alt.Color('leq_a:Q', legend=alt.Legend(title='Niveau de bruit'), scale=alt.Scale(bins=[c for c in range(50, 67, 2)],
                                                                                           domain=(50, 65)))).configure_title(
        align='center', anchor='middle', fontSize=20)


df6Min = recupDonneesAgregees(3, '6 min')
df6Min['jour'] = df6Min.date_heure.dt.strftime('%Y-%m-%d _ %A')
dfReglementaireParJour = recupDonneesAgregees(3, 'reglementaire_lden').set_index('date_heure').resample('6T').asfreq().bfill().reset_index(
    ).replace({'periode_agreg': {'6 min': '6 minutes', 'reglementaire_lden': 'periode reglementaire'}})
dfReglementaireParJour['jour'] = dfReglementaireParJour.date_heure.dt.strftime('%Y-%m-%d _ %A')


listJour = (88, 102, 101)
alt.Chart(pd.concat([df6Min.loc[df6Min.date_heure.dt.dayofyear.isin(listJour)],
           dfReglementaireParJour.loc[dfReglementaireParJour.date_heure.dt.dayofyear.isin(listJour)]]),
          title=["Évolution du niveau sonore selon la durée d'agrégation", "rue des Noyers"]).mark_line().encode(
    x=alt.X('hoursminutes(date_heure):T'), 
    y=alt.Y('leq_a', scale=alt.Scale(domain=[49,66]), axis=alt.Axis(labelFontSize=13, titleFontSize=12, title='Niveau de bruit')),
    color=alt.Color('periode_agreg:N', legend=alt.Legend(title="Durée d'agrégation")),
    row=alt.Row('jour', header=alt.Header(labelFontSize=12), title=None)).properties(width=600, height=150).configure_title(
        align='center', anchor='middle', fontSize=20)


# dico des  datas
dicoChartsEcart={'6h-18h': {'bounds': range(7, 18)}, 
                 '18h-22h': {'bounds': range(19, 21)}, 
                 '22h-6h':{'bounds': [c for c in range(0,6)] + [23,] }}
# exmple de variation de niveau sur la période 6-18h, pour chaque jour de mesure
for k in dicoChartsEcart.keys():
    dicoChartsEcart[k]['df'] = df6Min.loc[(df6Min.date_heure.dt.hour.isin(dicoChartsEcart[k]['bounds']))].groupby(
        df6Min.date_heure.dt.dayofyear)['leq_a'].agg([min, max]).reset_index(
        ).merge(dfReglementaireParJour.loc[(dfReglementaireParJour.date_heure.dt.hour.isin(dicoChartsEcart[k]['bounds']))].groupby(
            dfReglementaireParJour.date_heure.dt.dayofyear)['leq_a'].agg(['mean']).reset_index().rename(columns={'mean': 'leq_reg'}), on='date_heure'
               ).sort_values('date_heure')
    dicoChartsEcart[k]['df']['écart Min-Max'] = dicoChartsEcart[k]['df']['max'] - dicoChartsEcart[k]['df']['min']
    dicoChartsEcart[k]['df']['jour'] = dicoChartsEcart[k]['df'].date_heure.apply(lambda x: datetime.strptime('2022' + "-" + str(x).rjust(3, '0'), "%Y-%j").strftime('%a %d %b'))
    base = alt.Chart(dicoChartsEcart[k]['df'], title=["Évolution de l'écart entre le minimum et le maximum", 
                                                      f"des niveauxde bruit agrégés par période de 6 minute ; rue des Noyers, {k}"]).encode(
        alt.X('jour', sort=alt.EncodingSortField('date_heure'),
              axis=alt.Axis(labelFontSize=13, titleFontSize=12, labelAngle=320)))
    dicoChartsEcart[k]['chartEcart'] = base.mark_line(color='green').encode(
        y=alt.Y('écart Min-Max',
                axis=alt.Axis(labelFontSize=13, titleFontSize=12, title='Écart min - max (db(A))', titleColor='green'),
                scale=alt.Scale(domain=(0, 20))))
    dicoChartsEcart[k]['chartReg'] = base.mark_line().encode(
        y=alt.Y('leq_reg',
                axis=alt.Axis(labelFontSize=13, titleFontSize=12, title=['Niveau sur la', 'période réglementaire'], titleColor='blue'),
                scale=alt.Scale(domain=(40, 70))))
    dicoChartsEcart[k]['chart'] = (dicoChartsEcart[k]['chartEcart'] + dicoChartsEcart[k]['chartReg']).resolve_scale(y='independent').properties(height=100)


dicoChartsEcart['6h-18h']['chart'] & dicoChartsEcart['18h-22h']['chart'] & dicoChartsEcart['22h-6h']['chart']


# recup des donnees
dfPeriodeRegl = recupDonneesAgregees(3, 'reglementaire_lden')
df6Min = recupDonneesAgregees(3, '6 min')
df6Min['jour'] = df6Min.date_heure.dt.strftime('%Y-%m-%d _ %A')
dfPeriodeRegl['jour'] = dfPeriodeRegl.date_heure.dt.strftime('%Y-%m-%d _ %A')


# visu
dfCompare6minRegl = pd.concat([pd.concat([dfPeriodeRegl.set_index('date_heure').resample('6T').asfreq().bfill().reset_index(), 
                               df6Min.reset_index()]).rename(
    columns={'day': 'jour', 'quantile': 'periode_agreg', 'value': 'leq_a'})])


alt.Chart(dfCompare6minRegl).mark_line().encode(
    x=alt.X('hoursminutes(date_heure):T'), 
    y=alt.Y('leq_a', scale=alt.Scale(domain=[40,75])),
    color='periode_agreg:N').properties(width=300, height=250).facet('jour:N', columns=3).configure_axis(labelFontSize=13, titleFontSize=12)


dfFractileReg = recupFractileAgregees(3, 'reglementaire_lden')
dfFractileRegWide = dfFractileReg.pivot('date_heure', 'indicateur', 'valeur').reset_index()
dfFractileRegWide['diffL10L90'] = dfFractileRegWide.L10 - dfFractileRegWide.L90


# variation des indicateurs fractile selon la journée et la période
df = (dfFractileReg.set_index(['date_heure', 'indicateur'])
                 .unstack(level=1).resample('60T')
                 .bfill()
                 .reset_index()
                 .drop(['id', 'periode_agreg', 'id_instru_site'], axis=1, level=0)
                 .T.reset_index(drop=True).T
                 .rename(columns={0: 'date_heure', 1: 'L10', 2: 'L50', 3: 'L90'}).merge(
                     dfReglementaireParJour.loc[dfReglementaireParJour.replace({'id_instru_site': dicoInstruSite}).id_instru_site == 'Noyers'], on='date_heure').melt(
                     id_vars='date_heure', value_vars=['L10', 'L50', 'L90', 'leq_a'], value_name='Niveau'))
base = alt.Chart(df,
                 title=["Évolutions des indicateurs L90 et L10 par période réglementaire ;", "rue des Noyers"], width=600).encode(
        x=alt.X('date_heure:T', axis=alt.Axis(labelFontSize=13, titleFontSize=12, title='Jour')),
        color=alt.Color('variable', title='Indicateurs'))
evolRegFractile = base.mark_line().encode(
    y=alt.Y('Niveau',
            scale=alt.Scale(zero=False),
            axis=alt.Axis(labelFontSize=13, titleFontSize=12, title='Niveau de bruit'))).transform_filter(
    "(datum.variable == 'L10') | (datum.variable == 'L90')").properties(width=800)
evolLeqReg = alt.Chart(df.loc[(df.variable == 'leq_a')]).mark_bar(width=0.5, color='grey').encode(
    x=alt.X('date_heure:T', axis=alt.Axis(labelFontSize=13, titleFontSize=12, title='Jour')),
    y=alt.Y('Niveau', scale=alt.Scale(zero=False), axis=alt.Axis(labelFontSize=13, titleFontSize=12, title='Niveau de bruit')))
chartEcart = alt.Chart(dfFractileRegWide, height=100, width=800, title="Différence L10 - L90").mark_line(color='green').encode(
    x=alt.X('date_heure:T', axis=alt.Axis(labelFontSize=13, titleFontSize=12, title='Jour')),
    y=alt.Y('diffL10L90',
            scale=alt.Scale(),
            axis=alt.Axis(labelFontSize=13, titleFontSize=12, title='Écart L10 - L90')))
((evolRegFractile + evolLeqReg) & chartEcart).configure_title(
        align='center', anchor='middle', fontSize=20)


# répartition de l'écart entre L10 et L90
alt.hconcat(*[alt.Chart(dfFractileRegWide.loc[dfFractileRegWide.date_heure.dt.hour == hd],
                        title=["Répartition de l'écart entre les bruits majeurs", "et le bruit de fond ; rue des Noyers ;", f"période {hd}h-{hf}h"]).transform_density(
    'diffL10L90', as_=['diffL10L90', 'density']).mark_area().encode(
    x=alt.X("diffL10L90:Q", title='Écart L10 - L90'),
    y=alt.Y('density:Q', title='densité')).properties(width=300, height=200) for hd, hf in ((6, 18), (18, 22), (22, 6))])


dfFractileHoraire = recupFractileAgregees(3, '1 h')
dfFractileHoraireWide = dfFractileHoraire.pivot('date_heure', 'indicateur', 'valeur').reset_index()
dfFractileHoraireWide['diffL10L90'] = dfFractileHoraireWide.L10 - dfFractileHoraireWide.L90


df = dfFractileHoraireWide.merge(
                     dfReglementaireParJour.loc[dfReglementaireParJour.replace({'id_instru_site': dicoInstruSite}).id_instru_site == 'Noyers'], on='date_heure').melt(
                     id_vars='date_heure', value_vars=['L10', 'L50', 'L90', 'leq_a'], value_name='Niveau')
base = alt.Chart(df,
                 title=["Évolutions des indicateurs L90 et L10 par période de 1 heure ;", "rue des Noyers"], width=600).encode(
        x=alt.X('date_heure:T', axis=alt.Axis(labelFontSize=13, titleFontSize=12, title='Jour')),
        color=alt.Color('variable', title='Indicateurs'))
evolRegFractile = base.mark_line().encode(
    y=alt.Y('Niveau',
            scale=alt.Scale(zero=False),
            axis=alt.Axis(labelFontSize=13, titleFontSize=12, title='Niveau de bruit'))).transform_filter(
    "(datum.variable == 'L10') | (datum.variable == 'L90')").properties(width=800)
evolLeqReg = alt.Chart(df.loc[(df.variable == 'leq_a')]).mark_bar(width=0.5, color='grey').encode(
    x=alt.X('date_heure:T', axis=alt.Axis(labelFontSize=13, titleFontSize=12, title='Jour')),
    y=alt.Y('Niveau', scale=alt.Scale(zero=False), axis=alt.Axis(labelFontSize=13, titleFontSize=12, title='Niveau de bruit')))
chartEcart = alt.Chart(dfFractileHoraireWide, height=100, width=800, title="Différence L10 - L90").mark_line(color='green').encode(
    x=alt.X('date_heure:T', axis=alt.Axis(labelFontSize=13, titleFontSize=12, title='Jour')),
    y=alt.Y('diffL10L90',
            scale=alt.Scale(),
            axis=alt.Axis(labelFontSize=13, titleFontSize=12, title='Écart L10 - L90')))
((evolRegFractile + evolLeqReg) & chartEcart).configure_title(
        align='center', anchor='middle', fontSize=20)


# répartition de l'écart entre L10 et L90
alt.hconcat(*[alt.Chart(dfFractileHoraireWide.loc[dfFractileHoraireWide.date_heure.dt.hour == hd],
                        title=["Répartition de l'écart entre les bruits majeurs", "et le bruit de fond ; rue des Noyers ;", f"période {hd}h-{hf}h"]).transform_density(
    'diffL10L90', as_=['diffL10L90', 'density']).mark_area().encode(
    x=alt.X("diffL10L90:Q", title='Écart L10 - L90'),
    y=alt.Y('density:Q', title='densité')).properties(width=300, height=200) for hd, hf in ((6, 18), (18, 22), (22, 6))])


dfFractile30Min = recupFractileAgregees(3, '30 min')
dfFractile30MinWide = dfFractile30Min.pivot('date_heure', 'indicateur', 'valeur').reset_index()
dfFractile30MinWide['diffL10L90'] = dfFractile30MinWide.L10 - dfFractile30MinWide.L90


df = dfFractile30MinWide.merge(
    dfReglementaireParJour.loc[dfReglementaireParJour.replace({'id_instru_site': dicoInstruSite}).id_instru_site == 'Noyers'].set_index('date_heure').resample('30T').bfill().reset_index(), on='date_heure').melt(
    id_vars='date_heure', value_vars=['L10', 'L50', 'L90', 'leq_a', 'diffL10L90'], value_name='Niveau')


base = alt.Chart(df,
                 title=["Évolutions des indicateurs L90 et L10 par périodes de 30 minutes ;", "rue des Noyers"], width=600).encode(
        x=alt.X('date_heure:T', axis=alt.Axis(labelFontSize=13, titleFontSize=12, title='Jour')),
        color=alt.Color('variable', title='Indicateurs'))
evolRegFractile = base.mark_line().encode(
    y=alt.Y('Niveau',
            scale=alt.Scale(zero=False),
            axis=alt.Axis(labelFontSize=13, titleFontSize=12, title='Niveau de bruit'))).transform_filter(
    "(datum.variable == 'L10') | (datum.variable == 'L90')").properties(width=800)
evolLeqReg = alt.Chart(df.loc[(df.variable == 'leq_a')]).mark_bar(width=0.5, color='grey').encode(
    x=alt.X('date_heure:T', axis=alt.Axis(labelFontSize=13, titleFontSize=12, title='Jour')),
    y=alt.Y('Niveau', scale=alt.Scale(zero=False), axis=alt.Axis(labelFontSize=13, titleFontSize=12, title='Niveau de bruit')))
chartEcart = alt.Chart(dfFractile30MinWide, height=100, width=800, title="Différence L10 - L90").mark_line(color='green').encode(
    x=alt.X('date_heure:T', axis=alt.Axis(labelFontSize=13, titleFontSize=12, title='Jour')),
    y=alt.Y('diffL10L90',
            scale=alt.Scale(),
            axis=alt.Axis(labelFontSize=13, titleFontSize=12, title='Écart L10 - L90')))
((evolRegFractile + evolLeqReg) & chartEcart).configure_title(
        align='center', anchor='middle', fontSize=20)


# répartition de l'écart entre L10 et L90
alt.hconcat(*[alt.Chart(dfFractile30MinWide.loc[dfFractile30MinWide.date_heure.dt.hour == hd],
                        title=["Répartition de l'écart entre les bruits majeurs", "et le bruit de fond ; rue des Noyers ;", f"période {hd}h-{hf}h"]).transform_density(
    'diffL10L90', as_=['diffL10L90', 'density']).mark_area().encode(
    x=alt.X("diffL10L90:Q", title='Écart L10 - L90'),
    y=alt.Y('density:Q', title='densité')).properties(width=300, height=200) for hd, hf in ((6, 18), (18, 22), (22, 6))])


dfChart = df.pivot('date_heure', 'variable', 'Niveau').reset_index().assign(heure_minute=df.date_heure.apply(lambda x: f"{x.strftime('%H:%M')}"),
                        jour=df.date_heure.apply(lambda x: x.strftime('%A %d %B %Y')),
                        jour_sort=df.date_heure.dt.dayofyear)
for c in ['L90', 'L10', 'diffL10L90']:
    dfChart[c] = dfChart[c].astype(int)
base = alt.Chart(dfChart).mark_rect().encode(
    alt.X('heure_minute:N', title='Heure'),
    alt.Y('jour', sort=alt.EncodingSortField('jour_sort'), title='Jour'),
    color=alt.Color('L90:Q', legend=alt.Legend(title=['Niveau de bruit', 'de fond']), scale=alt.Scale(bins=[c for c in range(50, 67, 2)],
                                                                                           domain=(50, 65))))
text = base.mark_text(baseline='middle').encode(
    text='diffL10L90:Q',
    color=alt.condition(
        alt.datum.diffL10L90 >= 10,
        alt.value('red'),
        alt.value('black')))
(base + text).properties(width=1000, title=['Niveaux de bruit de fond et différence bruit de fond - bruit forts ;', 'par jour et par 30 minutes, pour les riverains de la rue Jules Ladoumegue']).configure_title(
        align='center', anchor='middle', fontSize=20)


dfFractile6Min = recupFractileAgregees(3, '6 min')
dfFractile6MinWide = dfFractile6Min.pivot('date_heure', 'indicateur', 'valeur').reset_index()
dfFractile6MinWide['diffL10L90'] = dfFractile6MinWide.L10 - dfFractile6MinWide.L90


df = dfFractile6MinWide.merge(
    dfReglementaireParJour.loc[dfReglementaireParJour.replace({'id_instru_site': dicoInstruSite}).id_instru_site == 'Noyers'].set_index('date_heure').resample('6T').bfill().reset_index(), on='date_heure').melt(
    id_vars='date_heure', value_vars=['L10', 'L50', 'L90', 'leq_a', 'diffL10L90'], value_name='Niveau')


base = alt.Chart(df,
                 title=["Évolutions des indicateurs L90 et L10 par périodes de 30 minutes ;", "rue des Noyers"], width=600).encode(
        x=alt.X('date_heure:T', axis=alt.Axis(labelFontSize=13, titleFontSize=12, title='Jour')),
        color=alt.Color('variable', title='Indicateurs'))
evolRegFractile = base.mark_line().encode(
    y=alt.Y('Niveau',
            scale=alt.Scale(domain=(35,75), clamp=True),
            axis=alt.Axis(labelFontSize=13, titleFontSize=12, title='Niveau de bruit'))).transform_filter(
    "(datum.variable == 'L10') | (datum.variable == 'L90')").properties(width=1500)
evolLeqReg = alt.Chart(df.loc[(df.variable == 'leq_a')]).mark_bar(width=0.1, color='grey').encode(
    x=alt.X('date_heure:T', axis=alt.Axis(labelFontSize=13, titleFontSize=12, title='Jour')),
    y=alt.Y('Niveau', scale=alt.Scale(zero=False), axis=alt.Axis(labelFontSize=13, titleFontSize=12, title='Niveau de bruit')))
chartEcart = alt.Chart(dfFractile6MinWide, height=100, width=1500, title="Différence L10 - L90").mark_line(color='green').encode(
    x=alt.X('date_heure:T', axis=alt.Axis(labelFontSize=13, titleFontSize=12, title='Jour')),
    y=alt.Y('diffL10L90',
            scale=alt.Scale(),
            axis=alt.Axis(labelFontSize=13, titleFontSize=12, title='Écart L10 - L90')))
((evolRegFractile + evolLeqReg) & chartEcart).configure_title(
        align='center', anchor='middle', fontSize=20)


# répartition de l'écart entre L10 et L90
alt.hconcat(*[alt.Chart(dfFractile6MinWide.loc[dfFractile6MinWide.date_heure.dt.hour == hd],
                        title=["Répartition de l'écart entre les bruits majeurs", "et le bruit de fond ; rue des Noyers ;", f"période {hd}h-{hf}h"]).transform_density(
    'diffL10L90', as_=['diffL10L90', 'density']).mark_area().encode(
    x=alt.X("diffL10L90:Q", title='Écart L10 - L90'),
    y=alt.Y('density:Q', title='densité')).properties(width=300, height=200) for hd, hf in ((6, 18), (18, 22), (22, 6))])


dfFractileRegWide['TNI'] = dfFractileRegWide.apply(lambda x: calculTNI(x.L10, x.L90), axis=1)


df = (dfFractileRegWide.merge(dfReglementaireParJour.loc[dfReglementaireParJour.replace({'id_instru_site': dicoInstruSite}).id_instru_site == 'Noyers'], on='date_heure')
          .set_index('date_heure')
          .resample('60T')
          .bfill()
          .reset_index()
          .melt(id_vars='date_heure', value_vars=['L10', 'L50', 'L90', 'leq_a', 'TNI'], value_name='Niveau'))
baseTNI = alt.Chart(df,
                    title=["Évolutions des indicateurs TNI et Laeq par période réglementaire ;", "rue Jules Ladoumègue"], width=600).encode(
        x=alt.X('date_heure:T', axis=alt.Axis(labelFontSize=13, titleFontSize=12, title='Jour')),
        color=alt.Color('variable', title='Indicateurs', legend=alt.Legend(labelFontSize=12, titleFontSize=14)))
evolRegTNI = baseTNI.mark_line().encode(
    y=alt.Y('Niveau',
            scale=alt.Scale(zero=False),
            axis=alt.Axis(labelFontSize=13, titleFontSize=12, title='Niveau de bruit'))).transform_filter(
    "(datum.variable == 'TNI') | (datum.variable == 'leq_a')").properties(width=800).configure_title(
        align='center', anchor='middle', fontSize=20)


evolRegTNI


# exempe des données 6 minutes
# import des données 
df6MinSite = recupDonneesAgregees(3, '6 min')


def depassementSeuilReglementaire(horodate, niveau, typeReglementation='france'):
    """
    renvoyer un booleen si un niveau depasse un seuil reglementaire, en fonoction du type de reglementation
    in : 
        horodate : datetime. moment dans une journée.
        niveau : numeric. niveaude bruit, peu importe l'indicateur
        typeReglementation : string. 'france' ou 'europe'.
    """
    if typeReglementation == 'france':
        if (time(6, 0, 0) <= horodate.time() <= time(22, 0, 0)) and niveau >= 70:
            return True
        elif (horodate.time() <= time(6, 0, 0) or horodate.time() > time(22, 0, 0)) and niveau >= 65:
            return True
        else:
            return False
df6MinSite['depassement_reglementaire'] = df6MinSite.apply(lambda x: depassementSeuilReglementaire(x.date_heure, x.leq_a), axis=1)


df6MinSite.loc[df6MinSite.depassement_reglementaire == True]


dfMeteoFranceBx = recupDonneesMeteofranceBase().set_index('date_3heures').resample('30T').bfill().reset_index()
dfMeteoFranceBx = dfMeteoFranceBx.loc[dfMeteoFranceBx.date_3heures.isin(pd.date_range('2022-03-21', '2022-04-19', freq='30T'))].copy()
dfMeteoFranceBx = calculConditionPropagationMeteoFranceQualitatif(dfMeteoFranceBx, 90, (7, 30), (20, 30)).rename(columns={'date_3heures': 'date_heure'})


# récupération des données sources
dfMeteoBase = recupDonneesMeteoBase()
# intialisation de l'objet
meteo = DonneesMeteo(dfMeteoBase, 1, 3, 30, '2022-03-21 13:30:00', 3)
# analyse selon les angles source recepteur# dans le cas du site id_instru_site = 3 : la liaison émetteeur - recepteur est à 0 pour la partie visible au nord, ou 90
angleEmmeteurRecepteur1, angleEmmeteurRecepteur2 = 0, 90
dfMeteo, dfAnglesOrienteRecepteurs = meteo.propagationSourceRecepteurRiverain(meteo.dfAngleGradient, angleEmmeteurRecepteur1, angleEmmeteurRecepteur2)


dfMeteo.loc[dfMeteo.date_heure.dt.dayofyear == 101]


# graphs conditions météo (posiblede générer pour un jour ou plusieurs)
creerGraphMeteo(dfMeteo, jour=101)


# pour info, graph de variation de température
graphCompTempMesureeHautBas(dfMeteo, 300, 150)


# pour info
dfMeteoCompRiverain = concatMeteoFranceEtSite(dfMeteo, dfMeteoFranceBx)
creerGraphCompConditionsPropa(dfMeteo, dfMeteoFranceBx, 1200)


creerGraphCompVentSiteMeteoFrance(dfMeteoCompRiverain, jour=None, largeur=800, hauteur=150)


# récupération des données
# bruit
dfBruit = recupDonneesAgregees(2, '30 min')
# meteo
dfMeteoBase = recupDonneesMeteoBase()
meteo = DonneesMeteo(dfMeteoBase, 1, 3, 30, '2022-03-21 13:00:00', 3)
angleEmmeteurRecepteur1 = 120
dfMeteo, dfAnglesOrienteRecepteurs = meteo.propagationSourceRecepteurRiverain(meteo.dfAngleGradient, angleEmmeteurRecepteur1)


dfBruitMeteo = (dfBruit[['date_heure', 'leq_a']]
                .assign(heure_minute=dfBruit.date_heure.apply(lambda x: f"{x.strftime('%H:%M')}"),
                        jour=dfBruit.date_heure.apply(lambda x: x.strftime('%A %d %B %Y')),
                        jour_sort=dfBruit.date_heure.dt.dayofyear)
                .merge(dfMeteo[['date_heure', 'ConditionPropagation', 'grad_moy', 'temp_haut', 'dir_vent_haut',
                                'forcePropagation_txt', 'forcePropagation_num', 'vts_vent_haut', 'pluie', 'rayonnement']], on='date_heure')) 


# graph de relation bruit / météo
# paramètres
domainBruit = (43, 68)
largeur = 450
hauteur = 200
rangeMin = dfBruitMeteo.forcePropagation_num.min() * 8000
rangeMax = dfBruitMeteo.forcePropagation_num.max() * 20
domainMax = dfBruitMeteo.forcePropagation_num.max()


# graphs sur 1 jour
graphCroiseBruitMeteo1Jour(dfBruitMeteo, 102, domainBruit, rangeMin, rangeMax, domainMax,
                                   largeur, hauteur, configure=True)


# graphs de comparaison (si besoin de 1 seul jour utilisé graphCroiseBruitMeteo1Jour()) sur des jousr choisis
jour1, jour2 = 104, 105
graphCroiseBruitMeteoPlusieursJour(dfBruitMeteo, [jour1, jour2], domainBruit, rangeMin, rangeMax, domainMax,
                                   largeur, hauteur, configure=True)


# graphs de comparaison (si besoin de 1 seul jour utilisé graphCroiseBruitMeteo1Jour()) sur l'ensemble des jours
graphCroiseBruitMeteoPlusieursJour(dfBruitMeteo, [e for e in range(80,108)], domainBruit, rangeMin, rangeMax, domainMax,
                                   400, 200, configure=True)


# Rose des vents
# paramètres
dureePériode = 6  # durée ejn minute de regrouepement et moyennage de la météo
angleSourRecepteur = 0
# récupération des données
# initialisation de la météo
dfMeteoBase = recupDonneesMeteoBase()
meteo = DonneesMeteo(dfMeteoBase, 1, 3, 6, '2022-03-21 13:00:00', 3)


# prahique d'occurence de la provenance du vent
dfOrientVent, chartOrientVent = meteo.graphOccurenceOrientationVent(400, 300)
chartOrientVent


# pourcentage d'occurence favorable et défavorable pour les direction de provenance du vent
dfTxOccurenceConditions, chartOccurenceConditionsSecteur = meteo.graphOccurenceConditionParSecteur(400, 400)
chartOccurenceConditionsSecteur


dfTxOccurenceConditions.head(5)


meteo.dfAngleGradient


# récupération d'un site instrumenté et mise en forme des données
voie = ['section courante']
dfDebitVitesseVoiesBdd = recupDonneesTraficBase(6, voie=voie, indicateur=['PL', 'VL', 'Vmoy_VL', 'Vmoy_PL'])
dfDebitVitesseVoiesBddWide = dfDebitVitesseVoiesBdd.pivot(index=['date_heure', 'voie', 'sens'], columns='indicateur', values='valeur').reset_index()
# cas si on a pas de TV mais du VL / PL
dfDebitVitesseVoiesBddWide = dfDebitVitesseVoiesBddWide.assign(TV=dfDebitVitesseVoiesBddWide.PL + dfDebitVitesseVoiesBddWide.VL, 
                                  Vmoy_TV=dfDebitVitesseVoiesBddWide.Vmoy_VL)


# analyse d'une journée
graphDebitVitesse1jour(dfDebitVitesseVoiesBddWide, 83, voie, 'vers bordeaux', largeur=620, hauteur=300)


# analyse de l'ensemble des journée
graphDebitVitesseplusieursjour(dfDebitVitesseVoiesBddWide, [j for j in range(80, 109)], voie, 'vers bordeaux', largeur=300, hauteur=150)


# récupération des données 6 minutes de trafic
df6MinParSens = recupTraficEtVitesse6MinParSens(6, "section courante")


# graph de visu des volumes et vitesses
graphTraficVitesseEmission2SensSepares(df6MinParSens, titre="Section courante Rocade Nord", 
                                       domaintraficMax=250, domainVitesseMax=130,
                                       emission_bruit=False, listSens=('vers bordeaux', 'vers libourne'))


# analyse de la répartition des trafics
# Donnees générales
df6MinTVParSens = recupDonneesTraficBase(6, voie=['section courante'], indicateur=['VL'], periodeAgreg=['6 min'])
df6MinTVParSens = (df6MinTVParSens
                   .assign(jour_semaine=df6MinTVParSens.date_heure.dt.dayofweek,
                           heure_minute=df6MinTVParSens.date_heure.apply(lambda x: f"{x.strftime('%H:%M')}"),
                           jour=df6MinTVParSens.date_heure.apply(lambda x: x.strftime("%A %d %B %Y")),
                           jour_sort=df6MinTVParSens.date_heure.dt.dayofyear)).sort_values('jour_sort')
df6MinTVParSens = df6MinTVParSens.loc[~df6MinTVParSens.jour_sort.isin((108, 109, 110))]
# limitation aux jours ouvres, samedi ou dimanche
df6MinTVParSensJoursOuvres = df6MinTVParSens.loc[df6MinTVParSens.jour_semaine.isin(range(5))] 
df6MinTVParSensSamedi = df6MinTVParSens.loc[df6MinTVParSens.jour_semaine == 5]
df6MinTVParSensDimanche = df6MinTVParSens.loc[df6MinTVParSens.jour_semaine == 6]
# graphs
graphTVTousJO = graphTVTousJours(df6MinTVParSensJoursOuvres, ['Trafic véhicules légers par pas de 6 minutes', 'tous jours ouvrés'], largeur=800, domaintraficMax=250)
graphTVTousSamedi = graphTVTousJours(df6MinTVParSensSamedi, ['Trafic véhicules légers par pas de 6 minutes', 'tous Samedi'], largeur=800, domaintraficMax=250)
graphTVTousDimanche = graphTVTousJours(df6MinTVParSensDimanche, ['Trafic véhicules légers par pas de 6 minutes', 'tous Dimanche'], largeur=800, domaintraficMax=250)


graphTVTousDimanche


# filtredes jours avant le WE de Pâques
dfJoursOuvresAvantPaque = df6MinTVParSensJoursOuvres.loc[~df6MinTVParSensJoursOuvres.jour_sort.isin((105, 106, 107))]

graphTVEcartJoursOuvres = graphStatTVTousJours(dfJoursOuvresAvantPaque,
                                             f"Statistiques et trafic par jour et période de 6 minutes ; jours ouvrés hors période de Pâques")
graphTVEcartSamedi = graphStatTVTousJours(df6MinTVParSensSamedi,
                                        f"Statistiques et trafic par jour et période de 6 minutes ; Samedi")
graphTVEcartDimanche = graphStatTVTousJours(df6MinTVParSensDimanche,
                                          f"Statistiques et trafic par jour et période de 6 minutes ; Dimanche")


graphTVEcartJoursOuvres


# analyse de la répartition des vitesses
df6MinVitessesParSens = df6MinParSens.loc[df6MinParSens.indicateur.isin(('vitesseVL', 'vitessePL')) & (~df6MinParSens.jour_sort.isin((108, 109, 110)))].copy()


df6MinVitessesParSens = (df6MinVitessesParSens
                         .assign(jour_semaine=df6MinVitessesParSens.date_heure.dt.dayofweek,
                                 heure_minute=df6MinVitessesParSens.date_heure.apply(lambda x: f"{x.strftime('%H:%M')}"),
                                 jour=df6MinVitessesParSens.date_heure.apply(lambda x: x.strftime("%A %d %B %Y")),
                                 jour_sort=df6MinVitessesParSens.date_heure.dt.dayofyear)).sort_values('jour_sort')
# limitation aux jours ouvres, samedi ou dimanche

df6MinVitessesParSensJoursOuvres = df6MinVitessesParSens.loc[df6MinVitessesParSens.jour_semaine.isin(range(5))] 
df6MinVitessesParSensSamedi = df6MinVitessesParSens.loc[df6MinVitessesParSens.jour_semaine == 5]
df6MinVitessesParSensDimanche = df6MinVitessesParSens.loc[df6MinVitessesParSens.jour_semaine == 6]


graphVitessesTousJours(df6MinVitessesParSensJoursOuvres,
                       ['Vitesses tous véhicules par pas de 6 minutes', 'tous JO'])


# filtredes jours avant le WE de Pâques
dfVitesseJoursOuvresAvantPaque = df6MinVitessesParSensJoursOuvres.loc[~df6MinVitessesParSensJoursOuvres.jour_sort.isin((105, 106, 107))]
graphStatVitesseTousJours(dfVitesseJoursOuvresAvantPaque, 'Vitesses : Moyenne et évolution selon un écart type ou 10 km/h', largeur=600)


# PARAMS
# attention, 
# la declivité dépend du site et du sens de mesure
# l'age dépend du site et du sens de mesure
dfEmissionTheorique = df6MinParSens.pivot(index = ['date_heure', 'sens', 'heure_minute', 'jour', 'jour_sort'], columns='indicateur', values='valeur').reset_index()
dfEmissionTheorique['declivite'] = dfEmissionTheorique.apply(lambda x: -3 if x.sens == 'sens inter' else 3, axis=1)
dfEmissionTheorique['age_rvt'] = dfEmissionTheorique.apply(lambda x: 6 if x.sens == 'sens inter' else 5, axis=1)
dfEmissionTheorique['emission_bruit'] = dfEmissionTheorique.apply(
    lambda x : Route(x.VL, x.PL, x.vitesseVL, x.vitessePL, 'r3', x.age_rvt, 's', x.declivite, ignoreErreurVts=True).lwm, axis=1)
dfEmissionTheorique = calculEmissionTheorique(df6MinParSens, 'vers bordeaux', 0, 0, 0, 0, 'r1', 's')
# mis en forme pour graph
dfChartEmission = dfEmissionTheorique.melt(id_vars=['date_heure', 'sens', 'heure_minute', 'jour', 'jour_sort'], 
                                           value_vars=['PL', 'VL', 'vitessePL', 'vitesseVL', 'emission_bruit'],
                                           var_name='indicateur', value_name='valeur')
# emission par sens et ajout de la'ttribut pour filtre des catégorie de jours
dfChartEmission = dfChartEmission.assign(jour_semaine=dfChartEmission.date_heure.dt.dayofweek)
dfChartEmissionJoursOuvres = dfChartEmission.loc[(dfChartEmission.indicateur == 'emission_bruit') & (~dfChartEmission.jour_sort.isin((108, 109, 110)))
                    & (dfChartEmission.jour_semaine.isin(range(5)))]
dfChartEmissionSamedi = dfChartEmission.loc[(dfChartEmission.indicateur == 'emission_bruit') & (~dfChartEmission.jour_sort.isin((108, 109, 110)))
                    & (dfChartEmission.jour_semaine == 5)]
dfChartEmissionDimanche = dfChartEmission.loc[(dfChartEmission.indicateur == 'emission_bruit') & (~dfChartEmission.jour_sort.isin((108, 109, 110)))
                    & (dfChartEmission.jour_semaine == 6)]
dfChartEmission2Sens = dfChartEmission.loc[dfChartEmission.indicateur == 'emission_bruit'].groupby(
            ['date_heure', 'heure_minute', 'jour', 'jour_sort','jour_semaine', 'indicateur']).valeur.apply(
            lambda x : sommeEnergetique(*x)).reset_index()
dfChartEmission2SensJoursOuvres = dfChartEmission2Sens.loc[(dfChartEmission2Sens.indicateur == 'emission_bruit') & (~dfChartEmission2Sens.jour_sort.isin((108, 109, 110)))
                    & (dfChartEmission2Sens.jour_semaine.isin(range(5)))]
dfChartEmission2SensSamedi = dfChartEmission2Sens.loc[(dfChartEmission2Sens.indicateur == 'emission_bruit') & (~dfChartEmission2Sens.jour_sort.isin((108, 109, 110)))
                    & (dfChartEmission2Sens.jour_semaine == 5)]
dfChartEmission2SensDimanche = dfChartEmission2Sens.loc[(dfChartEmission2Sens.indicateur == 'emission_bruit') & (~dfChartEmission2Sens.jour_sort.isin((108, 109, 110)))
                    & (dfChartEmission2Sens.jour_semaine == 6)]


# inclinaison rocade
dfInclinaisonS43 = pd.read_csv(r'C:\Users\martin.schoreisz\Box\Cerema\3E-Prod_Env_Risq\E6-Nuisances\E61-Acoustique\60-Etudes_Locales\2022-BruitRessentiBdxMet\4-Travaux_en_cours\donnees_produites\datas\inclinaison_rocade_S43.csv')
dfInclinaisonS44 = pd.read_csv(r'C:\Users\martin.schoreisz\Box\Cerema\3E-Prod_Env_Risq\E6-Nuisances\E61-Acoustique\60-Etudes_Locales\2022-BruitRessentiBdxMet\4-Travaux_en_cours\donnees_produites\datas\inclinaison_rocade_S44-S45.csv')
( alt.Chart(dfInclinaisonS43, title='Déclivité de la voie ; Rocade Sud', width=400, height=150).mark_line().encode(
    x=alt.X('sum:O', title='distance (m)', axis=alt.Axis(format=".2f", labelOverlap=True)),
    y=alt.Y('st_z:Q', title='altitude (m)')) | 
  alt.Chart(dfInclinaisonS44, title='Déclivité de la voie ; Rocade Nord', width=400, height=150).mark_line().encode(
    x=alt.X('sum:O', title='distance (m)', axis=alt.Axis(format=".2f", labelOverlap=True)),
    y=alt.Y('st_z:Q', title='altitude (m)')))


# graph emission avec params
domainBruit = (35,75)
graphTraficVitesseEmission2SensSepares(dfChartEmission, titre="Section courante Rocade Nord",largeur=800, hauteur=200, jour=104,
                                       listSens=('vers bordeaux', 'vers libourne'), domainBruit=domainBruit, domaintraficMax=300)


# Graph emission 2 sens
graphEmissionBruitSensSepares(dfChartEmission, largeur=400, hauteur=250, jour=104, domainBruit=domainBruit)


# graph de l'emission 2 sens pour l'ensemble des journées
graphEmissionBruitTousJours(dfChartEmission2SensDimanche, "Émission de bruit 2 sens confondus ; Dimanche", domainBruit=domainBruit )


# densité de répartition 
graphDensiteBruitSelonSelection(pd.concat([dfChartEmission2SensJoursOuvres, dfChartEmission2SensSamedi, dfChartEmission2SensDimanche]),
                                "Dispersion de l'émission de bruit 2 sens confondus ; jours ouvrés",
                                errorBandType='stdev', domainBruit=(48, 78), )


# vérif des calculs en calculant l'émission par voie puis en sommant
df6MinParSens = recupTraficEtVitesse6MinParSens(7, ['voie lente', 'voie médiane', 'voie rapide'])
dfNbVLPL6min = recupVlPl6min(7, sens=None, voie=['voie lente', 'voie médiane', 'voie rapide'])
dfVitesse = recupVitesseTV6min(7, sens=None, voie=['voie lente', 'voie médiane', 'voie rapide'])


# correction des vitesses du dico
dfVitesse.loc[((dfVitesse.id_instru_site == 7) & (dfVitesse.sens == 'sens exter') & (dfVitesse.voie == 'voie lente')) &
                  (dfVitesse.date_heure.dt.strftime("%Y-%m-%d").isin(['2022-03-28', '2022-04-14', '2022-04-15', '2022-03-29'])), 'valeur'
             ] = dfVitesse.loc[((dfVitesse.id_instru_site == 7) & (dfVitesse.sens == 'sens exter') & (dfVitesse.voie == 'voie médiane')) &
                  (dfVitesse.date_heure.dt.strftime("%Y-%m-%d").isin(['2022-03-28', '2022-04-14', '2022-04-15', '2022-03-29']))
             ].valeur
dfVitesse.loc[((dfVitesse.id_instru_site == 7) & (dfVitesse.sens == 'sens inter') & (dfVitesse.voie == 'voie médiane')) &
                  (dfVitesse.date_heure.dt.strftime("%Y-%m-%d").isin(['2022-04-16', '2022-04-17', '2022-04-18'])), 'valeur'
             ] = dfVitesse.loc[((dfVitesse.id_instru_site == 7) & (dfVitesse.sens == 'sens exter') & (dfVitesse.voie == 'voie lente')) &
                  (dfVitesse.date_heure.dt.strftime("%Y-%m-%d").isin(['2022-04-16', '2022-04-17', '2022-04-18']))
             ].valeur


# correction des vitesses à 0
dfVitesse.loc[((dfVitesse.id_instru_site == 7) & (dfVitesse.sens == 'sens exter') & (dfVitesse.voie == 'voie lente')) &
              (dfVitesse.valeur == 0), 'valeur'] = dfVitesse.loc[(dfVitesse.date_heure.isin(dfVitesse.loc[((dfVitesse.id_instru_site == 7) & (dfVitesse.sens == 'sens exter') & (dfVitesse.voie == 'voie rapide')) &
              (dfVitesse.valeur == 0)].date_heure.tolist()) ) & (dfVitesse.id_instru_site == 7) & (dfVitesse.sens == 'sens exter') & (dfVitesse.voie == 'voie médiane')
                                                              ].valeur
dfVitesse.loc[((dfVitesse.id_instru_site == 7) & (dfVitesse.sens == 'sens exter') & (dfVitesse.voie == 'voie médiane')) &
              (dfVitesse.valeur == 0), 'valeur'] = dfVitesse.loc[(dfVitesse.date_heure.isin(dfVitesse.loc[((dfVitesse.id_instru_site == 7) & (dfVitesse.sens == 'sens exter') & (dfVitesse.voie == 'voie rapide')) &
              (dfVitesse.valeur == 0)].date_heure.tolist()) ) & (dfVitesse.id_instru_site == 7) & (dfVitesse.sens == 'sens exter') & (dfVitesse.voie == 'voie lente')
                                                              ].valeur
dfVitesse.loc[((dfVitesse.id_instru_site == 7) & (dfVitesse.sens == 'sens exter') & (dfVitesse.voie == 'voie rapide')) &
              (dfVitesse.valeur == 0), 'valeur'] = dfVitesse.loc[(dfVitesse.date_heure.isin(dfVitesse.loc[((dfVitesse.id_instru_site == 7) & (dfVitesse.sens == 'sens exter') & (dfVitesse.voie == 'voie rapide')) &
              (dfVitesse.valeur == 0)].date_heure.tolist()) ) & (dfVitesse.id_instru_site == 7) & (dfVitesse.sens == 'sens exter') & (dfVitesse.voie == 'voie médiane')
                                                              ].valeur
dfVitesse.loc[((dfVitesse.id_instru_site == 7) & (dfVitesse.sens == 'sens inter') & (dfVitesse.voie == 'voie lente')) &
              (dfVitesse.valeur == 0), 'valeur'] = dfVitesse.loc[(dfVitesse.date_heure.isin(dfVitesse.loc[((dfVitesse.id_instru_site == 7) & (dfVitesse.sens == 'sens exter') & (dfVitesse.voie == 'voie rapide')) &
              (dfVitesse.valeur == 0)].date_heure.tolist()) ) & (dfVitesse.id_instru_site == 7) & (dfVitesse.sens == 'sens exter') & (dfVitesse.voie == 'voie médiane')
                                                              ].valeur
dfVitesse.loc[((dfVitesse.id_instru_site == 7) & (dfVitesse.sens == 'sens inter') & (dfVitesse.voie == 'voie médiane')) &
              (dfVitesse.valeur == 0), 'valeur'] = dfVitesse.loc[(dfVitesse.date_heure.isin(dfVitesse.loc[((dfVitesse.id_instru_site == 7) & (dfVitesse.sens == 'sens exter') & (dfVitesse.voie == 'voie rapide')) &
              (dfVitesse.valeur == 0)].date_heure.tolist()) ) & (dfVitesse.id_instru_site == 7) & (dfVitesse.sens == 'sens exter') & (dfVitesse.voie == 'voie lente')
                                                              ].valeur
dfVitesse.loc[((dfVitesse.id_instru_site == 7) & (dfVitesse.sens == 'sens inter') & (dfVitesse.voie == 'voie rapide')) &
              (dfVitesse.valeur == 0), 'valeur'] = dfVitesse.loc[(dfVitesse.date_heure.isin(dfVitesse.loc[((dfVitesse.id_instru_site == 7) & (dfVitesse.sens == 'sens exter') & (dfVitesse.voie == 'voie rapide')) &
              (dfVitesse.valeur == 0)].date_heure.tolist()) ) & (dfVitesse.id_instru_site == 7) & (dfVitesse.sens == 'sens exter') & (dfVitesse.voie == 'voie médiane')
                                                              ].valeur


# verifs
dfVitesse.loc[((dfVitesse.id_instru_site == 7) & (dfVitesse.sens == 'sens inter') & (dfVitesse.voie == 'voie rapide')) &
              (dfVitesse.valeur == 0)]


# calcul emission par voie
dfParamsEmission = dfNbVLPL6min.pivot(index=['date_heure', 'id_instru_site', 'jour', 'voie', 'sens'], columns='indicateur', values='valeur'
                   ).reset_index().merge(dfVitesse, on = ['date_heure', 'id_instru_site', 'voie', 'sens']
                                        ).rename(columns={'valeur': 'vitesseTV'}).drop(['id', 'indicateur', 'period_agreg'], axis=1, errors='ignore')
dfParamsEmission['declivite'] = dfParamsEmission.apply(lambda x: -3 if x.sens == 'sens inter' else 3, axis=1)
dfParamsEmission['age_rvt'] = dfParamsEmission.apply(lambda x: 6 if x.sens == 'sens inter' else 5, axis=1)
dfParamsEmission['emission_bruit'] = dfParamsEmission.apply(
    lambda x : Route(x.VL, x.PL, x.vitesseTV, x.vitesseTV, 'r3', x.age_rvt, 's', x.declivite, ignoreErreurVts=True).lwm, axis=1)
dfNivEmissionVoie = dfParamsEmission.pivot(index=['date_heure', 'jour', 'sens'], columns='voie', values='emission_bruit').reset_index()
dfNivEmissionVoie['emission_bruit'] = dfNivEmissionVoie.apply(lambda x: sommeEnergetique(x['voie lente'], x['voie médiane'], x['voie rapide']), axis=1)


# verif : peu de différence
jour = 92
heure = 17
dfChartEmission.loc[(dfChartEmission.date_heure.dt.dayofyear == jour) & (dfChartEmission.date_heure.dt.hour == heure) & 
                     (dfChartEmission.indicateur == 'emission_bruit')].merge(
dfNivEmissionVoie.loc[(dfNivEmissionVoie.date_heure.dt.dayofyear == jour) & (dfNivEmissionVoie.date_heure.dt.hour == heure)],
on=['date_heure', 'sens'], suffixes=('_old', '_new'))


# partie Trafic
# récupération des données 6 minutes de trafic (un peu long donc passé en comm)
df6MinParSens = recupTraficEtVitesse6MinParSens(6, ['section courante',])
dfEmissionTheorique = calculEmissionTheorique(df6MinParSens, 'sens inter', -3, 3, 5, 6, 'r1', 's')
# partie bruit
df6MinBruit = recupDonneesAgregees(1, '6 min').rename(columns={'leq_a': 'valeur'})
# partie météo
# meteo
dfMeteoBase = recupDonneesMeteoBase()


meteo = DonneesMeteo(dfMeteoBase, 1, 3, 18, '2022-03-21 13:00:00', 3)


angleEmmeteurRecepteur1 = 180
dfMeteo, dfAnglesOrienteRecepteurs = meteo.propagationSourceRecepteurRiverain(meteo.dfAngleGradient, angleEmmeteurRecepteur1)
dfBruitTraficMeteo, dfMeteo = fusionnerDfSources(dfEmissionTheorique, dfMeteo, df6MinBruit)


# params et data
idInstruSite1_joursBruitHeteroGene = ([101, 103, 96], "Comparaison de jours avec niveaux de bruit mesurés fort, moyen et faible")
idInstruSite8_joursBruitFort = ([101, 102], "Comparaison de jours avec niveaux de bruit mesurés fort")
Samedi = ([85, 92, 99, 106], "Comparaison des Samedis") 
# chart
graphCroiseBruitMeteoTrafic(dfBruitTraficMeteo, dfMeteo, idInstruSite1_joursBruitHeteroGene[1], idInstruSite1_joursBruitHeteroGene[0], domainBruit=(35, 75))


graphCroiseBruitMeteoTrafic(dfBruitTraficMeteo, dfMeteo, Samedi[1], Samedi[0], domainBruit=(45, 90))


# Corrélation
# préparation des données
dfCorrelation = creerCorrelation(dfBruitTraficMeteo)


# corrélations
dfCorrelations = pd.concat([dfCorrelation.loc[~dfCorrelation.date_heure.dt.dayofyear.isin((108, 109, 110))].corr(numeric_only=True).assign(cas="tous jours"), 
                            dfCorrelation.loc[(dfCorrelation.date_heure.dt.dayofweek.isin(range(5)))
                                              & (~dfCorrelation.date_heure.dt.dayofyear.isin((108, 109, 110)))].corr(numeric_only=True).assign(
                                cas="jours ouvrés"),
                            dfCorrelation.loc[(dfCorrelation.date_heure.dt.dayofweek == 5)].corr(numeric_only=True).assign(cas="samedi"),
                            dfCorrelation.loc[(dfCorrelation.date_heure.dt.dayofweek == 6)].corr(numeric_only=True).assign(cas="dimanche")])


dfChartCorrelation = dfCorrelations.loc['Mesure de bruit'].reset_index(
    drop=True).reset_index().melt(id_vars='cas', value_vars=
                                  ['Force de propagation du son', 'Émission de la route'], var_name='Paramètre', value_name='Corrélation')


sortCas=["tous jours", ["tous jours", "sans grand vent"], ["jours ouvrés", "sans grand vent"], "samedi", "dimanche"]
alt.Chart(dfChartCorrelation.loc[dfChartCorrelation.cas.isin(('tous jours', 'jours ouvrés'))].replace({'Force de propagation du son': 'Force de_propagation_du son', 
                                      'Émission de la route': 'Émission_de la route'}, regex=True)).mark_bar().encode(
    x=alt.X('Paramètre', title=None, axis=alt.Axis(labelAngle=45, labels=False)), 
    y=alt.Y('Corrélation', scale=alt.Scale(domainMax=1)),
    color=alt.Color('Paramètre', legend=alt.Legend(title=None, labelExpr="split(datum.value, '_')")),
    column=alt.Column('cas', spacing=50, sort=[0], title=["Corrélation entre le bruit mesuré, la force de propagation", "et l'émission de la route"]))


dfCorrelations


dfBruitTraficMeteo.loc[(dfBruitTraficMeteo.date_heure.dt.hour >= 6) & (dfBruitTraficMeteo.date_heure.dt.hour <= 22)]



