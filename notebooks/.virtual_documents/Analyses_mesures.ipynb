get_ipython().run_line_magic("load_ext", " autoreload")
get_ipython().run_line_magic("autoreload", " 2")


import sys
sys.path.append(r'C:\Users\martin.schoreisz\git\otv\otv\Transfert_Donnees')
sys.path.append(r'C:\Users\\martin.schoreisz\git\Outils\Outils\src')
sys.path.append(r'C:\Users\martin.schoreisz\Box\Cerema\3E-Prod_Env_Risq\E6-Nuisances\E61-Acoustique\60-Etudes_Locales\2022-BruitRessentiBdxMet\4-Travaux_en_cours\donnees_produites\Codes\src\Carac_situ_acoustiq')
sys.path.append(r'C:\Users\martin.schoreisz\Box\Cerema\3E-Prod_Env_Risq\E6-Nuisances\E61-Acoustique\60-Etudes_Locales\2022-BruitRessentiBdxMet\4-Travaux_en_cours\donnees_produites\Codes\src')

import pandas as pd
import altair as alt
import numpy as np
import os
from Import_stockage_donnees.Import_export_bdd import ResultatsEnquete
from Import_stockage_donnees.Params import bdd, startDateMesure, endDateMesure, dicoInstruSite
from Expoitation_mesures.Acoustique import recupDonneesAcoustiqueSiteInstru, recupDonneesAgregees, categorie_jour, recupFractileAgregees
from Expoitation_mesures.Meteo import (recupDonneesMeteoBase, creerGraphMeteo, recupDonneesMeteofranceBase, 
                                       creerGraphCompVentSiteMeteoFrance, concatMeteoFranceEtSite, creerGraphCompConditionsPropa)
from Expoitation_mesures.Trafic import (recupVlPl6min, recupDonneesTraficBase, recupPourcentagePL, recupVlPl6min2Sens)
from Expoitation_mesures.Analyses_croises import graphCroiseBruitMeteo1Jour, graphCroiseBruitMeteoPlusieursJour
import Connexions.Connexion_Transfert as ct
from Bruit.Niveaux import indexPeriodesReglementaires, agregationTemporelle, niveau2Pression, moyenneQuadratiquePression, pression2Niveau, calculLden, calculTNI
from Bruit.Meteo import (DonneesMeteo, dfAngle, conditionPropagation, forcePropagation, calculConditionPropagationMeteoFranceQualitatif, correctionVitesseVentMeteoFrance,
                         graphCompTempMesureeHautBas)
from Trafic.Trafic_Routier import graphDebitVitesse1jour, graphDebitVitesseplusieursjour
from datetime import datetime, date, time, timezone
import locale
import matplotlib.pyplot as plt
from math import log
import Outils as O

locale.setlocale(locale.LC_ALL, 'fr_FR')
pd.set_option('display.max_rows', 100)
pd.set_option('display.max_columns', 50)
pd.set_option('display.max_colwidth', 100)
alt.data_transformers.disable_max_rows()
# alt.data_transformers.enable('json')


tableMesuresBruitParSite = 'mesures_physiques.niveau_bruit_site'
attributSite = 'id_site'


resultats = ResultatsEnquete()
resultats.creationCharts(export=False)
# si export = True, alors les données sont excportées dans le dossier dossierExportChartsRessenti du module Params


# exemple
resultats.dicoCharts['localisation_gene']['chart']


# récupérer les données
dfReglementaireMoyen = pd.concat([recupDonneesAgregees(i, 'reg_lden_jour_moyen').drop_duplicates('leq_a').assign(
    periode=['Jour Ouvrés 6h-18h', 'Jour Ouvrés 18h-22h', 'Jour Ouvrés 22h-6h',
             'Samedi 6h-18h', 'Samedi 18h-22h', 'Samedi 22h-6h',
             'Dimanche 6h-18h', 'Dimanche 18h-22h', 'Dimanche 22h-6h']) for i in range(1, 5)]).replace({'id_instru_site': dicoInstruSite})


alt.Chart(dfReglementaireMoyen, title=['Niveaux reglementaires moyens', '']).mark_bar().encode(
    x=alt.X('id_instru_site:N', title=None, sort=['Ladoumègue', 'Noyers', 'Villon', 'Ronsard']),
    y=alt.Y('leq_a:Q', title='Niveau de bruit', axis=alt.Axis(labelFontSize=15, titleFontSize=15)),
    color=alt.Color('id_instru_site:N', title='Sites', sort=['Ladoumègue', 'Noyers', 'Villon', 'Ronsard'], legend=alt.Legend(labelFontSize=12, titleFontSize=14)), 
    column=alt.Column('periode:N', spacing=40, sort=['Jour Ouvrés 6h-18h'], title=None, header=alt.Header(labelFontSize=12))).properties(width=75).configure_title(
        align='center', anchor='middle', fontSize=20).configure_axisX(disable=True)


dfLden = dfReglementaireMoyen.pivot(index=['id_instru_site'], columns=['periode'], values='leq_a').reset_index()
dfLden['Jours ouvrés'] = dfLden.apply(lambda x: calculLden(x['Jour Ouvrés 6h-18h'], x['Jour Ouvrés 18h-22h'], x['Jour Ouvrés 22h-6h']), axis=1)
dfLden['Samedi'] = dfLden.apply(lambda x: calculLden(x['Samedi 6h-18h'], x['Samedi 18h-22h'], x['Samedi 22h-6h']), axis=1)
dfLden['Dimanche'] = dfLden.apply(lambda x: calculLden(x['Dimanche 6h-18h'], x['Dimanche 18h-22h'], x['Dimanche 22h-6h']), axis=1)
alt.Chart(dfLden.melt(id_vars='id_instru_site', value_vars=['Jours ouvrés', 'Samedi', 'Dimanche'], value_name='Niveau de bruit'),
          title=['Indicateur Lden moyen', '']).mark_bar().encode(
                        x=alt.X('id_instru_site', title=None, sort=['Ladoumègue', 'Noyers', 'Villon', 'Ronsard']),
                        y=alt.Y('Niveau de bruit', axis=alt.Axis(labelFontSize=15, titleFontSize=15)),
                        color=alt.Color('id_instru_site', sort=['Ladoumègue', 'Noyers', 'Villon', 'Ronsard'], title='Sites',
                                        legend=alt.Legend(labelFontSize=12, titleFontSize=14)),
                        column=alt.Column('periode', sort=['Jours ouvrés', 'Samedi', 'Dimanche'], spacing=40, title=None, header=alt.Header(labelFontSize=12))).properties(width=100).configure_title(
        align='center', anchor='middle', fontSize=20).configure_axisX(disable=True)


dfReglementaireMoyen


dfReglementaireParJour = pd.concat([recupDonneesAgregees(i, 'reglementaire_lden').set_index('date_heure').resample('60T').asfreq().bfill().reset_index()
                                    for i in range(1, 5)]).replace({'id_instru_site': dicoInstruSite})
dfReglementaireMoyen = pd.concat([recupDonneesAgregees(i, 'reg_lden_jour_moyen').set_index('date_heure').resample('60T').asfreq().bfill().reset_index() 
                                  for i in range(1, 5)]).replace({'id_instru_site': dicoInstruSite})
dfCompJourMoyRgelementaire = dfReglementaireParJour.merge(dfReglementaireMoyen, on=['date_heure', 'id_instru_site'], suffixes=['_jour', '_moy']
                             )
dfCompJourMoyRgelementaire['écart'] = dfCompJourMoyRgelementaire.leq_a_moy - dfCompJourMoyRgelementaire.leq_a_jour


chartEvolutionNiveau = alt.Chart(dfReglementaireParJour, title=['Évolution des niveaux reglementaires', 'selon la journée']).mark_line().encode(
    x=alt.X('date_heure:T', title='jour', axis=alt.Axis(labelAngle=320)),
    y=alt.Y('leq_a:Q', title='niveau de bruit équivalent', scale=alt.Scale(domain=(35, 70)), axis=alt.Axis(labelFontSize=15, titleFontSize=15)),
    color=alt.Color('id_instru_site:N', sort=['Ladoumègue', 'Noyers', 'Villon', 'Ronsard'], title='Sites',
                    legend=alt.Legend(labelFontSize=12, titleFontSize=14))).properties(width=800)
chartEcart = alt.Chart(dfCompJourMoyRgelementaire, title=['Écart entre les moyennes des niveaux et', 'les niveaux réglementaire par jour']).mark_line().encode(
    x=alt.X('date_heure:T', title='jour', axis=alt.Axis(labelAngle=320)),
    y=alt.Y('écart:Q', title='écart de niveau', scale=alt.Scale(domain=(-8, 8), clamp=True), axis=alt.Axis(labelFontSize=15, titleFontSize=15)),
    color=alt.Color('id_instru_site:N', sort=['Ladoumègue', 'Noyers', 'Villon', 'Ronsard'], title='Sites',
                    legend=alt.Legend(labelFontSize=12, titleFontSize=14))).properties(width=800)
alt.vconcat(chartEvolutionNiveau, chartEcart).configure_title(
        align='center', anchor='middle', fontSize=20)


((alt.Chart(dfCompJourMoyRgelementaire.loc[(dfCompJourMoyRgelementaire.id_instru_site == 'Ronsard') &
                                          (dfCompJourMoyRgelementaire.date_heure.dt.dayofweek.isin(range(5))) &
                                          (dfCompJourMoyRgelementaire.date_heure.dt.hour.isin(range(6,19)))], title='Ronsard').transform_density(
    'écart', as_=['écart', 'density']).mark_area().encode(
    x="écart:Q",
    y='density:Q',) | 
 alt.Chart(dfCompJourMoyRgelementaire.loc[(dfCompJourMoyRgelementaire.id_instru_site == 'Villon') & 
                                          (dfCompJourMoyRgelementaire.date_heure.dt.dayofweek.isin(range(5))) &
                                          (dfCompJourMoyRgelementaire.date_heure.dt.hour.isin(range(6,19)))], title='Villon').transform_density(
    'écart', as_=['écart', 'density']).mark_area().encode(
    x="écart:Q",
    y='density:Q',)) & (
 alt.Chart(dfCompJourMoyRgelementaire.loc[(dfCompJourMoyRgelementaire.id_instru_site == 'Ladoumègue') & 
                                          (dfCompJourMoyRgelementaire.date_heure.dt.dayofweek.isin(range(5))) &
                                          (dfCompJourMoyRgelementaire.date_heure.dt.hour.isin(range(6,19)))], title='Ladoumègue').transform_density(
    'écart', as_=['écart', 'density']).mark_area().encode(
    x="écart:Q",
    y='density:Q',) | 
 alt.Chart(dfCompJourMoyRgelementaire.loc[(dfCompJourMoyRgelementaire.id_instru_site == 'Noyers') & 
                                          (dfCompJourMoyRgelementaire.date_heure.dt.dayofweek.isin(range(5))) &
                                          (dfCompJourMoyRgelementaire.date_heure.dt.hour.isin(range(6,19)))], title='Noyers').transform_density(
    'écart', as_=['écart', 'density']).mark_area().encode(
    x="écart:Q",
    y=alt.Y('density:Q')))).properties(title=['Répartition des écarts entre niveaux journalier et', 'niveaux moyens']).configure_title(align='center', anchor='middle', fontSize=20)


dfHoraire = recupDonneesAgregees(4, '30 min')
dfHoraire = dfHoraire.assign(heure_minute=dfHoraire.date_heure.apply(lambda x: f"{x.strftime('%H:%M')}"),
                        jour=dfHoraire.date_heure.apply(lambda x: x.strftime('%A %d %B %Y')),
                        jour_sort=dfHoraire.date_heure.dt.dayofyear)


alt.Chart(dfHoraire, title=['Évolution du niveau de bruit', 'par pas de 30 minutes ; rue Jule Ladoumègue']).mark_rect().encode(
    alt.X('heure_minute', title='Heure'),
    alt.Y('jour', sort=alt.EncodingSortField('jour_sort'), title='Jour'),
    color=alt.Color('leq_a:Q', legend=alt.Legend(title='Niveau de bruit'), scale=alt.Scale(bins=[c for c in range(50, 67, 2)],
                                                                                           domain=(50, 65)))).configure_title(
        align='center', anchor='middle', fontSize=20)


df6Min = recupDonneesAgregees(4, '6 min')
df6Min['jour'] = df6Min.date_heure.dt.strftime('%Y-%m-%d _ %A')
dfReglementaireParJour = recupDonneesAgregees(4, 'reglementaire_lden').set_index('date_heure').resample('6T').asfreq().bfill().reset_index(
    ).replace({'periode_agreg': {'6 min': '6 minutes', 'reglementaire_lden': 'periode reglementaire'}})
dfReglementaireParJour['jour'] = dfReglementaireParJour.date_heure.dt.strftime('%Y-%m-%d _ %A')


listJour = (88, 102, 101)
alt.Chart(pd.concat([df6Min.loc[df6Min.date_heure.dt.dayofyear.isin(listJour)],
           dfReglementaireParJour.loc[dfReglementaireParJour.date_heure.dt.dayofyear.isin(listJour)]]),
          title=["Évolution du niveau sonore selon la durée d'agrégation", "rue Jules Ladoumègue"]).mark_line().encode(
    x=alt.X('hoursminutes(date_heure):T'), 
    y=alt.Y('leq_a', scale=alt.Scale(domain=[49,66]), axis=alt.Axis(labelFontSize=13, titleFontSize=12, title='Niveau de bruit')),
    color=alt.Color('periode_agreg:N', legend=alt.Legend(title="Durée d'agrégation")),
    row=alt.Row('jour', header=alt.Header(labelFontSize=12), title=None)).properties(width=600, height=150).configure_title(
        align='center', anchor='middle', fontSize=20)


# dico des  datas
dicoChartsEcart={'6h-18h': {'bounds': range(7, 18)}, 
                 '18h-22h': {'bounds': range(19, 21)}, 
                 '22h-6h':{'bounds': [c for c in range(0,6)] + [23,] }}
# exmple de variation de niveau sur la période 6-18h, pour chaque jour de mesure
for k in dicoChartsEcart.keys():
    dicoChartsEcart[k]['df'] = df6Min.loc[(df6Min.date_heure.dt.hour.isin(dicoChartsEcart[k]['bounds']))].groupby(
        df6Min.date_heure.dt.dayofyear)['leq_a'].agg([min, max]).reset_index(
        ).merge(dfReglementaireParJour.loc[(dfReglementaireParJour.date_heure.dt.hour.isin(dicoChartsEcart[k]['bounds']))].groupby(
            dfReglementaireParJour.date_heure.dt.dayofyear)['leq_a'].agg(['mean']).reset_index().rename(columns={'mean': 'leq_reg'}), on='date_heure'
               ).sort_values('date_heure')
    dicoChartsEcart[k]['df']['écart Min-Max'] = dicoChartsEcart[k]['df']['max'] - dicoChartsEcart[k]['df']['min']
    dicoChartsEcart[k]['df']['jour'] = dicoChartsEcart[k]['df'].date_heure.apply(lambda x: datetime.strptime('2022' + "-" + str(x).rjust(3, '0'), "%Y-%j").strftime('%a %d %b'))
    base = alt.Chart(dicoChartsEcart[k]['df'], title=["Évolution de l'écart entre le minimum et le maximum", 
                                                      f"des niveauxde bruit agrégés par période de 6 minute ; rue Jules Ladoumègue, {k}"]).encode(
        alt.X('jour', sort=alt.EncodingSortField('date_heure'),
              axis=alt.Axis(labelFontSize=13, titleFontSize=12, labelAngle=320)))
    dicoChartsEcart[k]['chartEcart'] = base.mark_line(color='green').encode(
        y=alt.Y('écart Min-Max',
                axis=alt.Axis(labelFontSize=13, titleFontSize=12, title='Écart min - max (db(A))', titleColor='green'),
                scale=alt.Scale(domain=(0, 20))))
    dicoChartsEcart[k]['chartReg'] = base.mark_line().encode(
        y=alt.Y('leq_reg',
                axis=alt.Axis(labelFontSize=13, titleFontSize=12, title=['Niveau sur la', 'période réglementaire'], titleColor='blue'),
                scale=alt.Scale(domain=(40, 70))))
    dicoChartsEcart[k]['chart'] = (dicoChartsEcart[k]['chartEcart'] + dicoChartsEcart[k]['chartReg']).resolve_scale(y='independent').properties(height=100)


dicoChartsEcart['6h-18h']['chart'] & dicoChartsEcart['18h-22h']['chart'] & dicoChartsEcart['22h-6h']['chart']


# recup des donnees
dfPeriodeRegl = recupDonneesAgregees(4, 'reglementaire_lden')
df6Min = recupDonneesAgregees(4, '6 min')
df6Min['jour'] = df6Min.date_heure.dt.strftime('%Y-%m-%d _ %A')
dfPeriodeRegl['jour'] = dfPeriodeRegl.date_heure.dt.strftime('%Y-%m-%d _ %A')


# visu
dfCompare6minRegl = pd.concat([pd.concat([dfPeriodeRegl.set_index('date_heure').resample('6T').asfreq().bfill().reset_index(), 
                               df6Min.reset_index()]).rename(
    columns={'day': 'jour', 'quantile': 'periode_agreg', 'value': 'leq_a'})])


alt.Chart(dfCompare6minRegl).mark_line().encode(
    x=alt.X('hoursminutes(date_heure):T'), 
    y=alt.Y('leq_a', scale=alt.Scale(domain=[40,75])),
    color='periode_agreg:N').properties(width=300, height=250).facet('jour:N', columns=3).configure_axis(labelFontSize=13, titleFontSize=12)


dfFractileReg = recupFractileAgregees(4, 'reglementaire_lden')
dfFractileRegWide = dfFractileReg.pivot('date_heure', 'indicateur', 'valeur').reset_index()
dfFractileRegWide['diffL10L90'] = dfFractileRegWide.L10 - dfFractileRegWide.L90


(dfFractileReg.set_index(['date_heure', 'indicateur'])
     .unstack(level=1).resample('60T')
     .bfill()
     .reset_index()
     .drop(['id', 'periode_agreg', 'id_instru_site'], axis=1, level=0)
     .T.reset_index(drop=True).T
     .rename(columns={0: 'date_heure', 1: 'L10', 2: 'L50', 3: 'L90'}))


dfReglementaireParJour.loc[dfReglementaireParJour.replace({'id_instru_site': dicoInstruSite}).id_instru_site == 'Ladoumègue']


# variation des indicateurs fractile selon la journée et la période
df = (dfFractileReg.set_index(['date_heure', 'indicateur'])
                 .unstack(level=1).resample('60T')
                 .bfill()
                 .reset_index()
                 .drop(['id', 'periode_agreg', 'id_instru_site'], axis=1, level=0)
                 .T.reset_index(drop=True).T
                 .rename(columns={0: 'date_heure', 1: 'L10', 2: 'L50', 3: 'L90'}).merge(
                     dfReglementaireParJour.loc[dfReglementaireParJour.replace({'id_instru_site': dicoInstruSite}).id_instru_site == 'Ladoumègue'], on='date_heure').melt(
                     id_vars='date_heure', value_vars=['L10', 'L50', 'L90', 'leq_a'], value_name='Niveau'))
base = alt.Chart(df,
                 title=["Évolutions des indicateurs L90 et L10 par période réglementaire ;", "rue Jules Ladoumègue"], width=600).encode(
        x=alt.X('date_heure:T', axis=alt.Axis(labelFontSize=13, titleFontSize=12, title='Jour')),
        color=alt.Color('variable', title='Indicateurs'))
evolRegFractile = base.mark_line().encode(
    y=alt.Y('Niveau',
            scale=alt.Scale(zero=False),
            axis=alt.Axis(labelFontSize=13, titleFontSize=12, title='Niveau de bruit'))).transform_filter(
    "(datum.variable == 'L10') | (datum.variable == 'L90')").properties(width=800)
evolLeqReg = alt.Chart(df.loc[(df.variable == 'leq_a')]).mark_bar(width=0.5, color='grey').encode(
    x=alt.X('date_heure:T', axis=alt.Axis(labelFontSize=13, titleFontSize=12, title='Jour')),
    y=alt.Y('Niveau', scale=alt.Scale(zero=False), axis=alt.Axis(labelFontSize=13, titleFontSize=12, title='Niveau de bruit')))
chartEcart = alt.Chart(dfFractileRegWide, height=100, width=800, title="Différence L10 - L90").mark_line(color='green').encode(
    x=alt.X('date_heure:T', axis=alt.Axis(labelFontSize=13, titleFontSize=12, title='Jour')),
    y=alt.Y('diffL10L90',
            scale=alt.Scale(),
            axis=alt.Axis(labelFontSize=13, titleFontSize=12, title='Écart L10 - L90')))
((evolRegFractile + evolLeqReg) & chartEcart).configure_title(
        align='center', anchor='middle', fontSize=20)


# répartition de l'écart entre L10 et L90
alt.hconcat(*[alt.Chart(dfFractileRegWide.loc[dfFractileRegWide.date_heure.dt.hour == hd],
                        title=["Répartition de l'écart entre les bruits majeurs", "et le bruit de fond ; rue Jules Ladoumègue ;", f"période {hd}h-{hf}h"]).transform_density(
    'diffL10L90', as_=['diffL10L90', 'density']).mark_area().encode(
    x=alt.X("diffL10L90:Q", title='Écart L10 - L90'),
    y=alt.Y('density:Q', title='densité')).properties(width=300, height=200) for hd, hf in ((6, 18), (18, 22), (22, 6))])


dfFractileHoraire = recupFractileAgregees(4, '1 h')
dfFractileHoraireWide = dfFractileHoraire.pivot('date_heure', 'indicateur', 'valeur').reset_index()
dfFractileHoraireWide['diffL10L90'] = dfFractileHoraireWide.L10 - dfFractileHoraireWide.L90


df = dfFractileHoraireWide.merge(
                     dfReglementaireParJour.loc[dfReglementaireParJour.replace({'id_instru_site': dicoInstruSite}).id_instru_site == 'Ladoumègue'], on='date_heure').melt(
                     id_vars='date_heure', value_vars=['L10', 'L50', 'L90', 'leq_a'], value_name='Niveau')
base = alt.Chart(df,
                 title=["Évolutions des indicateurs L90 et L10 par période de 1 heure ;", "rue Jules Ladoumègue"], width=600).encode(
        x=alt.X('date_heure:T', axis=alt.Axis(labelFontSize=13, titleFontSize=12, title='Jour')),
        color=alt.Color('variable', title='Indicateurs'))
evolRegFractile = base.mark_line().encode(
    y=alt.Y('Niveau',
            scale=alt.Scale(zero=False),
            axis=alt.Axis(labelFontSize=13, titleFontSize=12, title='Niveau de bruit'))).transform_filter(
    "(datum.variable == 'L10') | (datum.variable == 'L90')").properties(width=800)
evolLeqReg = alt.Chart(df.loc[(df.variable == 'leq_a')]).mark_bar(width=0.5, color='grey').encode(
    x=alt.X('date_heure:T', axis=alt.Axis(labelFontSize=13, titleFontSize=12, title='Jour')),
    y=alt.Y('Niveau', scale=alt.Scale(zero=False), axis=alt.Axis(labelFontSize=13, titleFontSize=12, title='Niveau de bruit')))
chartEcart = alt.Chart(dfFractileHoraireWide, height=100, width=800, title="Différence L10 - L90").mark_line(color='green').encode(
    x=alt.X('date_heure:T', axis=alt.Axis(labelFontSize=13, titleFontSize=12, title='Jour')),
    y=alt.Y('diffL10L90',
            scale=alt.Scale(),
            axis=alt.Axis(labelFontSize=13, titleFontSize=12, title='Écart L10 - L90')))
((evolRegFractile + evolLeqReg) & chartEcart).configure_title(
        align='center', anchor='middle', fontSize=20)


# répartition de l'écart entre L10 et L90
alt.hconcat(*[alt.Chart(dfFractileHoraireWide.loc[dfFractileHoraireWide.date_heure.dt.hour == hd],
                        title=["Répartition de l'écart entre les bruits majeurs", "et le bruit de fond ; rue Jules Ladoumègue ;", f"période {hd}h-{hf}h"]).transform_density(
    'diffL10L90', as_=['diffL10L90', 'density']).mark_area().encode(
    x=alt.X("diffL10L90:Q", title='Écart L10 - L90'),
    y=alt.Y('density:Q', title='densité')).properties(width=300, height=200) for hd, hf in ((6, 18), (18, 22), (22, 6))])


dfFractile30Min = recupFractileAgregees(4, '30 min')
dfFractile30MinWide = dfFractile30Min.pivot('date_heure', 'indicateur', 'valeur').reset_index()
dfFractile30MinWide['diffL10L90'] = dfFractile30MinWide.L10 - dfFractile30MinWide.L90


df = dfFractile30MinWide.merge(
    dfReglementaireParJour.loc[dfReglementaireParJour.replace({'id_instru_site': dicoInstruSite}).id_instru_site == 'Ladoumègue'].set_index('date_heure').resample('30T').bfill().reset_index(), on='date_heure').melt(
    id_vars='date_heure', value_vars=['L10', 'L50', 'L90', 'leq_a', 'diffL10L90'], value_name='Niveau')


base = alt.Chart(df,
                 title=["Évolutions des indicateurs L90 et L10 par périodes de 30 minutes ;", "rue Jules Ladoumègue"], width=600).encode(
        x=alt.X('date_heure:T', axis=alt.Axis(labelFontSize=13, titleFontSize=12, title='Jour')),
        color=alt.Color('variable', title='Indicateurs'))
evolRegFractile = base.mark_line().encode(
    y=alt.Y('Niveau',
            scale=alt.Scale(zero=False),
            axis=alt.Axis(labelFontSize=13, titleFontSize=12, title='Niveau de bruit'))).transform_filter(
    "(datum.variable == 'L10') | (datum.variable == 'L90')").properties(width=800)
evolLeqReg = alt.Chart(df.loc[(df.variable == 'leq_a')]).mark_bar(width=0.5, color='grey').encode(
    x=alt.X('date_heure:T', axis=alt.Axis(labelFontSize=13, titleFontSize=12, title='Jour')),
    y=alt.Y('Niveau', scale=alt.Scale(zero=False), axis=alt.Axis(labelFontSize=13, titleFontSize=12, title='Niveau de bruit')))
chartEcart = alt.Chart(dfFractile30MinWide, height=100, width=800, title="Différence L10 - L90").mark_line(color='green').encode(
    x=alt.X('date_heure:T', axis=alt.Axis(labelFontSize=13, titleFontSize=12, title='Jour')),
    y=alt.Y('diffL10L90',
            scale=alt.Scale(),
            axis=alt.Axis(labelFontSize=13, titleFontSize=12, title='Écart L10 - L90')))
((evolRegFractile + evolLeqReg) & chartEcart).configure_title(
        align='center', anchor='middle', fontSize=20)


# répartition de l'écart entre L10 et L90
alt.hconcat(*[alt.Chart(dfFractile30MinWide.loc[dfFractile30MinWide.date_heure.dt.hour == hd],
                        title=["Répartition de l'écart entre les bruits majeurs", "et le bruit de fond ; rue Jules Ladoumègue ;", f"période {hd}h-{hf}h"]).transform_density(
    'diffL10L90', as_=['diffL10L90', 'density']).mark_area().encode(
    x=alt.X("diffL10L90:Q", title='Écart L10 - L90'),
    y=alt.Y('density:Q', title='densité')).properties(width=300, height=200) for hd, hf in ((6, 18), (18, 22), (22, 6))])


dfChart = df.pivot('date_heure', 'variable', 'Niveau').reset_index().assign(heure_minute=df.date_heure.apply(lambda x: f"{x.strftime('%H:%M')}"),
                        jour=df.date_heure.apply(lambda x: x.strftime('%A %d %B %Y')),
                        jour_sort=df.date_heure.dt.dayofyear)
for c in ['L90', 'L10', 'diffL10L90']:
    dfChart[c] = dfChart[c].astype(int)
base = alt.Chart(dfChart).mark_rect().encode(
    alt.X('heure_minute:N', title='Heure'),
    alt.Y('jour', sort=alt.EncodingSortField('jour_sort'), title='Jour'),
    color=alt.Color('L90:Q', legend=alt.Legend(title=['Niveau de bruit', 'de fond']), scale=alt.Scale(bins=[c for c in range(50, 67, 2)],
                                                                                           domain=(50, 65))))
text = base.mark_text(baseline='middle').encode(
    text='diffL10L90:Q',
    color=alt.condition(
        alt.datum.diffL10L90 >= 10,
        alt.value('red'),
        alt.value('black')))
(base + text).properties(width=1000, title=['Niveaux de bruit de fond et différence bruit de fond - bruit forts ;', 'par jour et par 30 minutes, pour les riverains de la rue Jules Ladoumegue']).configure_title(
        align='center', anchor='middle', fontSize=20)


dfFractile6Min = recupFractileAgregees(4, '6 min')
dfFractile6MinWide = dfFractile6Min.pivot('date_heure', 'indicateur', 'valeur').reset_index()
dfFractile6MinWide['diffL10L90'] = dfFractile6MinWide.L10 - dfFractile6MinWide.L90


df = dfFractile6MinWide.merge(
    dfReglementaireParJour.loc[dfReglementaireParJour.replace({'id_instru_site': dicoInstruSite}).id_instru_site == 'Ladoumègue'].set_index('date_heure').resample('6T').bfill().reset_index(), on='date_heure').melt(
    id_vars='date_heure', value_vars=['L10', 'L50', 'L90', 'leq_a', 'diffL10L90'], value_name='Niveau')


base = alt.Chart(df,
                 title=["Évolutions des indicateurs L90 et L10 par périodes de 30 minutes ;", "rue Jules Ladoumègue"], width=600).encode(
        x=alt.X('date_heure:T', axis=alt.Axis(labelFontSize=13, titleFontSize=12, title='Jour')),
        color=alt.Color('variable', title='Indicateurs'))
evolRegFractile = base.mark_line().encode(
    y=alt.Y('Niveau',
            scale=alt.Scale(domain=(35,75), clamp=True),
            axis=alt.Axis(labelFontSize=13, titleFontSize=12, title='Niveau de bruit'))).transform_filter(
    "(datum.variable == 'L10') | (datum.variable == 'L90')").properties(width=1500)
evolLeqReg = alt.Chart(df.loc[(df.variable == 'leq_a')]).mark_bar(width=0.1, color='grey').encode(
    x=alt.X('date_heure:T', axis=alt.Axis(labelFontSize=13, titleFontSize=12, title='Jour')),
    y=alt.Y('Niveau', scale=alt.Scale(zero=False), axis=alt.Axis(labelFontSize=13, titleFontSize=12, title='Niveau de bruit')))
chartEcart = alt.Chart(dfFractile6MinWide, height=100, width=1500, title="Différence L10 - L90").mark_line(color='green').encode(
    x=alt.X('date_heure:T', axis=alt.Axis(labelFontSize=13, titleFontSize=12, title='Jour')),
    y=alt.Y('diffL10L90',
            scale=alt.Scale(),
            axis=alt.Axis(labelFontSize=13, titleFontSize=12, title='Écart L10 - L90')))
((evolRegFractile + evolLeqReg) & chartEcart).configure_title(
        align='center', anchor='middle', fontSize=20)


# répartition de l'écart entre L10 et L90
alt.hconcat(*[alt.Chart(dfFractile6MinWide.loc[dfFractile6MinWide.date_heure.dt.hour == hd],
                        title=["Répartition de l'écart entre les bruits majeurs", "et le bruit de fond ; rue Jules Ladoumègue ;", f"période {hd}h-{hf}h"]).transform_density(
    'diffL10L90', as_=['diffL10L90', 'density']).mark_area().encode(
    x=alt.X("diffL10L90:Q", title='Écart L10 - L90'),
    y=alt.Y('density:Q', title='densité')).properties(width=300, height=200) for hd, hf in ((6, 18), (18, 22), (22, 6))])


dfFractileRegWide['TNI'] = dfFractileRegWide.apply(lambda x: calculTNI(x.L10, x.L90), axis=1)


df = (dfFractileRegWide.merge(dfReglementaireParJour.loc[dfReglementaireParJour.replace({'id_instru_site': dicoInstruSite}).id_instru_site == 'Ladoumègue'], on='date_heure')
          .set_index('date_heure')
          .resample('60T')
          .bfill()
          .reset_index()
          .melt(id_vars='date_heure', value_vars=['L10', 'L50', 'L90', 'leq_a', 'TNI'], value_name='Niveau'))
baseTNI = alt.Chart(df,
                    title=["Évolutions des indicateurs TNI et Laeq par période réglementaire ;", "rue Jules Ladoumègue"], width=600).encode(
        x=alt.X('date_heure:T', axis=alt.Axis(labelFontSize=13, titleFontSize=12, title='Jour')),
        color=alt.Color('variable', title='Indicateurs', legend=alt.Legend(labelFontSize=12, titleFontSize=14)))
evolRegTNI = baseTNI.mark_line().encode(
    y=alt.Y('Niveau',
            scale=alt.Scale(zero=False),
            axis=alt.Axis(labelFontSize=13, titleFontSize=12, title='Niveau de bruit'))).transform_filter(
    "(datum.variable == 'TNI') | (datum.variable == 'leq_a')").properties(width=800).configure_title(
        align='center', anchor='middle', fontSize=20)


evolRegTNI


# exempe des données 6 minutes
# import des données 
df6MinSite = recupDonneesAgregees(3, '6 min')


def depassementSeuilReglementaire(horodate, niveau, typeReglementation='france'):
    """
    renvoyer un booleen si un niveau depasse un seuil reglementaire, en fonoction du type de reglementation
    in : 
        horodate : datetime. moment dans une journée.
        niveau : numeric. niveaude bruit, peu importe l'indicateur
        typeReglementation : string. 'france' ou 'europe'.
    """
    if typeReglementation == 'france':
        if (time(6, 0, 0) <= horodate.time() <= time(22, 0, 0)) and niveau >= 70:
            return True
        elif (horodate.time() <= time(6, 0, 0) or horodate.time() > time(22, 0, 0)) and niveau >= 65:
            return True
        else:
            return False
df6MinSite['depassement_reglementaire'] = df6MinSite.apply(lambda x: depassementSeuilReglementaire(x.date_heure, x.leq_a), axis=1)


df6MinSite.loc[df6MinSite.depassement_reglementaire == True]


dfMeteoFranceBx = recupDonneesMeteofranceBase().set_index('date_3heures').resample('30T').bfill().reset_index()
dfMeteoFranceBx = dfMeteoFranceBx.loc[dfMeteoFranceBx.date_3heures.isin(pd.date_range('2022-03-21', '2022-04-19', freq='30T'))].copy()
dfMeteoFranceBx = calculConditionPropagationMeteoFranceQualitatif(dfMeteoFranceBx, 90, (7, 30), (20, 30)).rename(columns={'date_3heures': 'date_heure'})


# récupération des données sources
dfMeteoBase = recupDonneesMeteoBase()
# intialisation de l'objet
meteo = DonneesMeteo(dfMeteoBase, 1, 3, 30, '2022-03-21 13:30:00', 3)
# analyse selon les angles source recepteur# dans le cas du site id_instru_site = 4 : la liaison émetteeur - recepteur est à 90, ou 120 pour la partie visible au sud
angleEmmeteurRecepteur1, angleEmmeteurRecepteur2 = 90, 135
dfMeteo = meteo.propagationSourceRecepteurRiverain(meteo.dfAngleGradient, angleEmmeteurRecepteur1, angleEmmeteurRecepteur2)
#  si besoin ajoter cette condition pour prise en compte du 2ème angle possibl e : | (dfAngleGradient.apply(lambda x: x.angle_min <= abs(x.dir_vent_haut - angleEmmeteurRecepteur2) <= x.angle_max, axis=1))


# graphs conditions météo (posiblede générer pour un jour ou plusieurs)
creerGraphMeteo(dfMeteo, jour=101)


# pour info, graph de variation de température
graphCompTempMesureeHautBas(dfMeteo, 300, 150)


# pour info
dfMeteoCompRiverain = concatMeteoFranceEtSite(dfMeteo, dfMeteoFranceBx)
creerGraphCompConditionsPropa(dfMeteo, dfMeteoFranceBx, 1200)


dfMeteoCompRiverain


creerGraphCompVentSiteMeteoFrance(dfMeteoCompRiverain, jour=None, largeur=800, hauteur=150)


# récupération des données
# bruit
dfBruit = recupDonneesAgregees(4, '30 min')
# meteo
dfMeteoBase = recupDonneesMeteoBase()
meteo = DonneesMeteo(dfMeteoBase, 1, 3, 30, '2022-03-21 13:00:00', 3)
angleEmmeteurRecepteur1, angleEmmeteurRecepteur2 = 90, 135
dfMeteo = meteo.propagationSourceRecepteurRiverain(meteo.dfAngleGradient, angleEmmeteurRecepteur1, angleEmmeteurRecepteur2)


dfBruitMeteo = (dfBruit[['date_heure', 'leq_a']]
                .assign(heure_minute=dfBruit.date_heure.apply(lambda x: f"{x.strftime('%H:%M')}"),
                        jour=dfBruit.date_heure.apply(lambda x: x.strftime('%A %d %B %Y')),
                        jour_sort=dfBruit.date_heure.dt.dayofyear)
                .merge(dfMeteo[['date_heure', 'ConditionPropagation', 'grad_moy', 'temp_haut', 'dir_vent_haut',
                                'forcePropagation_txt', 'forcePropagation_num', 'vts_vent_haut', 'pluie', 'rayonnement']], on='date_heure')) 


# graph de relation bruit / météo
# paramètres
domainBruit = (48, 68)
largeur = 450
hauteur = 200
rangeMin = dfBruitMeteo.forcePropagation_num.min() * 8000
rangeMax = dfBruitMeteo.forcePropagation_num.max() * 20
domainMax = dfBruitMeteo.forcePropagation_num.max()


# graphs sur 1 jour
graphCroiseBruitMeteo1Jour(dfBruitMeteo, 104, domainBruit, rangeMin, rangeMax, domainMax,
                                   largeur, hauteur, configure=True)


# graphs de comparaison (si besoin de 1 seul jour utilisé graphCroiseBruitMeteo1Jour()) sur des jousr choisis
jour1, jour2 = 104, 105
graphCroiseBruitMeteoPlusieursJour(dfBruitMeteo, [jour1, jour2], domainBruit, rangeMin, rangeMax, domainMax,
                                   largeur, hauteur, configure=True)


# graphs de comparaison (si besoin de 1 seul jour utilisé graphCroiseBruitMeteo1Jour()) sur l'ensemble des jours
graphCroiseBruitMeteoPlusieursJour(dfBruitMeteo, [e for e in range(80,108)], domainBruit, rangeMin, rangeMax, domainMax,
                                   largeur, hauteur, configure=True)


# récupération d'un site instrumenté et mise en forme des données
dfDebitVitesseVoiesBdd = recupDonneesTraficBase(7, voie=['voie lente', 'voie médiane', 'voie rapide'], indicateur=['TV', 'Vmoy_TV'])
dfDebitVitesseVoiesBddWide = dfDebitVitesseVoiesBdd.pivot(index=['date_heure', 'voie', 'sens'], columns='indicateur', values='valeur').reset_index()


# analyse d'une journée
graphDebitVitesse1jour(dfDebitVitesseVoiesBddWide, 80, ('voie lente', 'voie médiane', 'voie rapide'), 'sens exter')


# analyse de l'ensemble des journée
graphDebitVitesseplusieursjour(dfDebitVitesseVoiesBddWide, [j for j in range(80, 109)], ('voie lente', 'voie médiane', 'voie rapide'), 'sens exter', largeur=300, hauteur=150)


# création du dictionnaire des mesures présentant des valeurs aberrantes
dicoJourSensVoieKO: {'compteur': 'S43', "sens": {'sensExter':
                                                     {'voie lente': ['2022-03-28', '2022-04-14', '2022-04-15', '2022-03-29']},
                                                 'sensInter': 
                                                     {'voie médiane': ['2022-04-16', '2022-04-17', '2022-04-18']}}}


dfNbVLPL6min = recupVlPl6min(7)


dfTraficParSens = recupDonneesTraficVlPl(7, '6 min')
dfTrafic2Sens = recupDonneesTraficVlPl2Sens(7)
dfTrafic2Sens = dfTrafic2Sens.assign(heure_minute=dfTrafic2Sens.date_heure.apply(lambda x: f"{x.strftime('%H:%M')}"),
                                                     jour=dfTrafic2Sens.date_heure.apply(lambda x: x.strftime('%A %d %B %Y')),
                                                     jour_sort=dfTrafic2Sens.date_heure.dt.dayofyear)


slider = alt.binding_range(min=80, max=109, step=1)
select_day = alt.selection_single(name="jour_sort", fields=['jour_sort'],
                                   bind=slider1, init={'jour_sort': 80})


base2Sens = alt.Chart(dfTrafic2Sens.loc[(dfTrafic2Sens.jour_sort.notna())], title=['Volume et vitesse de trafics, tout sens confondus ;', 'Section courante rocade Sud']).encode(
    x=alt.X('hoursminutes(date_heure):T', title='Heure'),
    color=alt.Color('indicateur', title='Indicateur'))
nbVeh2Sens = base2Sens.mark_bar(size=4, opacity=0.75).encode(
    y=alt.Y('valeur', title='Nombre de véhicules', scale=alt.Scale(domainMax=1100))).transform_filter(alt.FieldOneOfPredicate(field='indicateur', oneOf=['VL', 'PL']))
vts2Sens = base2Sens.mark_line().encode(
    y=alt.Y('valeur', title= 'Vitesse moyenne')).transform_filter(alt.FieldOneOfPredicate(field='indicateur', oneOf=['Vmoy_VL', 'Vmoy_PL']))
(nbVeh2Sens + vts2Sens).resolve_scale(y='independent').add_selection(select_day).transform_filter(select_day).properties(width=1000).configure_title(
        align='center', anchor='middle', fontSize=20)


(nbVeh2Sens + vts2Sens).resolve_scale(y='independent').add_selection(select_day).transform_filter(select_day).properties(width=1000).configure_title(
        align='center', anchor='middle', fontSize=20)


dfTraficParSens = dfTraficParSens.assign(heure_minute=dfTraficParSens.date_heure.apply(lambda x: f"{x.strftime('%H:%M')}"),
                                                     jour=dfTraficParSens.date_heure.apply(lambda x: x.strftime('%A %d %B %Y')),
                                                     jour_sort=dfTraficParSens.date_heure.dt.dayofyear)


baseParSens = alt.Chart(dfTraficParSens.loc[(dfTraficParSens.jour_sort.notna())]).encode(
    x=alt.X('hoursminutes(date_heure):T', title='Heure'),
    color=alt.Color('indicateur', title='Indicateur'))
nbVehSensExt = baseParSens.mark_bar(size=4, opacity=0.75).encode(
    y=alt.Y('valeur', title='Nombre de véhicules', scale=alt.Scale(domainMax=600))).transform_filter(
    "(indexof(['VL', 'PL'], datum.indicateur) != -1) & (datum.sens == 'sens exter')").add_selection(select_day).transform_filter(select_day)
vtsSensExt = baseParSens.mark_line().encode(
    y=alt.Y('valeur', title='Vitesse moyenne', scale=alt.Scale(domain=(20, 120), clamp=True))).transform_filter(
    "(indexof(['Vmoy_VL', 'Vmoy_PL'], datum.indicateur) != -1) & (datum.sens == 'sens exter')")
nbVehSensInt = baseParSens.mark_bar(size=4, opacity=0.75).encode(
    y=alt.Y('valeur', title='Nombre de véhicules', scale=alt.Scale(domainMax=600))).transform_filter(
    "(indexof(['VL', 'PL'], datum.indicateur) != -1) & (datum.sens == 'sens inter')").add_selection(select_day).transform_filter(select_day)
vtsSensInt = baseParSens.mark_line().encode(
    y=alt.Y('valeur', title='Vitesse moyenne', scale=alt.Scale(domain=(20, 120), clamp=True))).transform_filter(
    "(indexof(['Vmoy_VL', 'Vmoy_PL'], datum.indicateur) != -1) & (datum.sens == 'sens inter')")


nbVehParSens = baseParSens.mark_bar(size=4, opacity=0.75).encode(
    y=alt.Y('valeur', title='Nombre de véhicules', scale=alt.Scale(domainMax=600))).transform_filter(
    alt.FieldOneOfPredicate(field='indicateur', oneOf=['VL', 'PL'])).add_selection(select_day).transform_filter(select_day).properties(width=1000)
vtsParSens = baseParSens.mark_line().encode(
    y=alt.Y('valeur', title= 'Vitesse moyenne')).transform_filter(alt.FieldOneOfPredicate(field='indicateur', oneOf=['Vmoy_VL', 'Vmoy_PL']))


alt.vconcat((
     (nbVehSensExt + vtsSensExt)
     .resolve_scale(y='independent')
     .add_selection(select_day)
     .transform_filter(select_day)
     .properties(width=1000, title=['Volume et vitesse de trafics, sens exterieur ;', 'Section courante rocade Sud'])
     ),
     ((nbVehSensInt + vtsSensInt)
         .resolve_scale(y='independent')
         .add_selection(select_day)
         .transform_filter(select_day)
         .properties(width=1000, title=['Volume et vitesse de trafics, sens interieur ;', 'Section courante rocade Sud']))
    ).configure_title(align='center', anchor='middle', fontSize=20)


dossier = r'C:\Users\martin.schoreisz\Box\Cerema\3E-Prod_Env_Risq\E6-Nuisances\E61-Acoustique\60-Etudes_Locales\2022-BruitRessentiBdxMet\4-Travaux_en_cours\mesures\trafic\Rocade'
fichiers = ['6Min_20220321-20220419_S43-0.xls', '6Min_20220321-20220419_S43-1.xls']
dfS43Brute = pd.concat([pd.read_excel(os.path.join(dossier, f)) for f in fichiers])
dfDebitVitesseVoies = dfS43Brute.loc[(dfS43Brute['Code Canal'].isin((2, 3, 4))) & dfS43Brute['nature de mesure'].isin(('Débit', 'Vitesse'))].copy()
dfDebitVitesseVoies['date_heure'] = dfDebitVitesseVoies.apply(lambda x: pd.to_datetime(f'{x.jour} {x.sequence}') + pd.to_timedelta('1 s'), axis=1)
dfDebitVitesseVoiesWide = dfDebitVitesseVoies.pivot(index=['date_heure', 'Code Canal'], columns='nature de mesure', values='mesure').reset_index()


alt.Chart(dfDebitVitesseVoiesWide.loc[(dfDebitVitesseVoiesWide.date_heure.dt.dayofyear == 105) & (dfDebitVitesseVoiesWide['Code Canal'] == 2)],
          title = [datetime.strptime('2022' + "-" + '105'.rjust(3, '0'), "%Y-%j").strftime("%Y-%m-%d"),
                  "Code Canal = 4"]).mark_circle().encode(
    x=alt.X('Vitesse'),
    y=alt.Y('Débit')
    )
chart# + chart.transform_loess('Vitesse', 'Débit').mark_line()



