get_ipython().run_line_magic("load_ext", " autoreload")
get_ipython().run_line_magic("autoreload", " 2")


import sys
sys.path.append(r'C:\Users\martin.schoreisz\git\otv\otv\Transfert_Donnees')
sys.path.append(r'C:\Users\\martin.schoreisz\git\Outils\Outils\Martin_Perso')
sys.path.append(r'C:\Users\martin.schoreisz\Box\Cerema\3E-Prod_Env_Risq\E6-Nuisances\E61-Acoustique\60-Etudes_Locales\2022-BruitRessentiBdxMet\4-Travaux_en_cours\donnees_produites\Python\src\Carac_situ_acoustiq')
sys.path.append(r'C:\Users\martin.schoreisz\Box\Cerema\3E-Prod_Env_Risq\E6-Nuisances\E61-Acoustique\60-Etudes_Locales\2022-BruitRessentiBdxMet\4-Travaux_en_cours\donnees_produites\Python\src')

import pandas as pd
import altair as alt
import numpy as np
from Import_stockage_donnees.Import_export_bdd import ResultatsEnquete
from Import_stockage_donnees.Params import bdd, startDateMesure, endDateMesure
from Expoitation_mesures.acoustique import recupDonneesAcoustiqueSiteInstru, recupDonneesAgregees, categorie_jour
from Expoitation_mesures.Meteo import recupDonneesMeteoBase
from Expoitation_mesures.Trafic import recupDonneesTraficVlPl, recupDonneesTraficVlPl2Sens
import Connexion_Transfert as ct
from Bruit.Niveaux import indexPeriodesReglementaires, agregationTemporelle, niveau2Pression, moyenneQuadratiquePression, pression2Niveau
from Bruit.Meteo import DonneesMeteo, dfAngle, conditionPropagation
from datetime import datetime, date, time, timezone
import locale
import matplotlib.pyplot as plt
from math import log
import Outils as O

locale.setlocale(locale.LC_ALL, 'fr_FR')
pd.set_option('display.max_rows', 100)
pd.set_option('display.max_columns', 50)
pd.set_option('display.max_colwidth', 100)
alt.data_transformers.disable_max_rows()
# alt.data_transformers.enable('json')


tableMesuresBruitParSite = 'mesures_physiques.niveau_bruit_site'
attributSite = 'id_site'


resultats = ResultatsEnquete()
resultats.creationCharts(export=False)
# si export = True, alors les données sont excportées dans le dossier dossierExportChartsRessenti du module Params


# exemple
resultats.dicoCharts['localisation_gene']['chart']


# preparer la gestion des temps en creant un index sur les periodes reglementaires
limiteTempsReglementaire = indexPeriodesReglementaires(startDateMesure, endDateMesure)


get_ipython().run_cell_magic("time", "", """# agregation et moyenne des pressions et des niveaux sonores sur les periodes reglementaires et 6 min
dfPeriodeRegl = agregationTemporelle(startDateMesure, endDateMesure, None, dfDonneesBrutes, 'leq_a', True)
df6Min = agregationTemporelle(startDateMesure, endDateMesure, 60, dfDonneesBrutes, 'leq_a')
dfPeriodeRegl['id_instru_site'] = site
dfPeriodeRegl['jour'] = dfPeriodeRegl.date_heure.dt.strftime('%Y-%m-%d')
df6Min['id_instru_site'] = site
df6Min['jour'] = df6Min.date_heure.dt.strftime('%Y-%m-%d')""")


# indicateurs fractiles sur les périodes réglementares, agreges ou non par type de journée (JO, samedi, dimanche)
listDfGlobale = []
listDfBrute = []
for i in range(1, 5):
    site = i
    dfDonneesBrutes = recupDonneesAcoustiqueSiteInstru(site)
    dfDonneesBrutes['id_instru_site'] = site
    listDfBrute.append(dfDonneesBrutes)
    dfDonneesBrutes['agreg_jour'] = dfDonneesBrutes.date_heure.apply(lambda x: categorie_jour(x))
    dfFractileRegJourMoyen = dfDonneesBrutes.groupby('agreg_jour').agg(L10_reg_lden_jour_moyen=pd.NamedAgg(column="leq_a", aggfunc=lambda x: np.percentile(x, 90)),
                                                L90_reg_lden_jour_moyen=pd.NamedAgg(column="leq_a", aggfunc=lambda x: np.percentile(x, 10)),
                                                L50_reg_lden_jour_moyen=pd.NamedAgg(column="leq_a", aggfunc=lambda x: np.percentile(x, 50))).reset_index()
    dfFractileReg = dfDonneesBrutes.groupby(limiteTempsReglementaire[limiteTempsReglementaire.searchsorted(
        dfDonneesBrutes.set_index('date_heure').index)]).leq_a.quantile([0.9, 0.1, 0.5])
    dfFractileReg.index.rename(['date_heure', 'quantile'], inplace=True)
    dfFractileReg = dfFractileReg.reset_index()
    dfFractileReg['agreg_jour'] = dfFractileReg.date_heure.apply(lambda x: categorie_jour(x))
    dfFractileReg = dfFractileReg.pivot(index=['date_heure', 'agreg_jour'], columns=['quantile'], values='leq_a').reset_index().rename(
        columns={0.1: 'L90_reglementaire_lden', 0.9: 'L10_reglementaire_lden', 0.5:'L50_reglementaire_lden'})
    dfFractileTot = dfFractileReg.merge(dfFractileRegJourMoyen[['agreg_jour', 'L10_reg_lden_jour_moyen', 'L90_reg_lden_jour_moyen', 'L50_reg_lden_jour_moyen']], on = 'agreg_jour'
                   ).sort_values('date_heure').melt(id_vars=['date_heure'], value_vars=['L90_reglementaire_lden', 'L50_reglementaire_lden', 'L10_reglementaire_lden',
                                                                                        'L10_reg_lden_jour_moyen', 'L90_reg_lden_jour_moyen', 'L50_reg_lden_jour_moyen'],
                                                   value_name='valeur', var_name='indicateur')
    dfFractileTot['id_instru_site'] = site
    dfFractileTot['periode_agreg'] = dfFractileTot.indicateur.apply(lambda x: '_'.join(x.split('_')[1:]))
    dfFractileTot['indicateur'] = dfFractileTot.indicateur.apply(lambda x: x.split('_')[0])  
    listDfGlobale.append(dfFractileTot)
dfFinale = pd.concat(listDfGlobale)
dfVierge = pd.concat(listDfBrute)


# indicateurs fractile sur période glissante 
pasTemporelMinute = 6
indexDate = pd.date_range(startDateMesure, endDateMesure, freq=f'{pasTemporelMinute}T')
test = dfVierge.groupby([indexDate[indexDate.searchsorted(
        dfVierge.set_index('date_heure').index)], 'id_instru_site']).leq_a.quantile([0.9, 0.1, 0.5])
test.index.rename(['date_heure','id_instru_site', 'quantile'], inplace=True)
test = test.reset_index()
test['quantile'].replace({0.9: 'L10', 0.5: 'L50', 0.1: 'L90'}, inplace=True)
test.rename(columns={'quantile': 'indicateur', 'leq_a': 'valeur'}, inplace=True)
test['periode_agreg'] = '6 min'


# transfert Bdd
with ct.ConnexionBdd(bdd) as c: 
    test.to_sql('indic_fractile', c.sqlAlchemyConn, schema='agreg_bruit', if_exists='append', index=False)


# exempe des données 6 minutes
# import des données 
df6MinSite = recupDonneesAgregees(3, '6 min')


def depassementSeuilReglementaire(horodate, niveau, typeReglementation='france'):
    """
    renvoyer un booleen si un niveau depasse un seuil reglementaire, en fonoction du type de reglementation
    in : 
        horodate : datetime. moment dans une journée.
        niveau : numeric. niveaude bruit, peu importe l'indicateur
        typeReglementation : string. 'france' ou 'europe'.
    """
    if typeReglementation == 'france':
        if (time(6, 0, 0) <= horodate.time() <= time(22, 0, 0)) and niveau >= 70:
            return True
        elif (horodate.time() <= time(6, 0, 0) or horodate.time() > time(22, 0, 0)) and niveau >= 65:
            return True
        else:
            return False
df6MinSite['depassement_reglementaire'] = df6MinSite.apply(lambda x: depassementSeuilReglementaire(x.date_heure, x.leq_a), axis=1)


df6MinSite.loc[df6MinSite.depassement_reglementaire == True]


locale.setlocale(locale.LC_ALL, 'fr_FR')


# recup des donnees
dfPeriodeRegl = recupDonneesAgregees(3, 'reglementaire_lden')
df6Min = recupDonneesAgregees(3, '6 min')
df6Min['jour'] = df6Min.date_heure.dt.strftime('%Y-%m-%d _ %A')
dfPeriodeRegl['jour'] = dfPeriodeRegl.date_heure.dt.strftime('%Y-%m-%d _ %A')


dfCompare6minRegl


# visu
dfCompare6minRegl = pd.concat([pd.concat([dfPeriodeRegl.set_index('date_heure').resample('6T').asfreq().bfill().reset_index(), 
                               df6Min.reset_index()]), dfFractile.loc[dfFractile['quantile'] != 'diffL10_L90'].rename(
    columns={'jour':'date_heure', 'day': 'jour', 'quantile': 'periode_agreg', 'value': 'leq_a'})])
alt.Chart(dfCompare6minRegl).mark_line().encode(
    x=alt.X('hoursminutes(date_heure):T'), 
    y=alt.Y('leq_a', scale=alt.Scale(domain=[40,75])),
    color='periode_agreg:N').properties(width=300, height=250).facet('jour:N', columns=3)


# récupération des données sources
dfMeteoBase = recupDonneesMeteoBase()
# intialisation de l'objet
meteo = DonneesMeteo(dfMeteoBase, 1, 3, 6, '2022-03-21 13:30:00')
# calcul des gradient vitesse et température à une hauteur données
dfGradient3m = meteo.calculGradient(meteo.dfPente, 3)
# ajout de toute les possibilité de différence angulatire possible
dfAngleGradient = meteo.analyseAngulaire(dfGradient3m)
dfAngleGradient['ConditionPropagation'] = dfAngleGradient.grad_moy.apply(lambda x: conditionPropagation(x))


angleEmmeteurRecepteur1, angleEmmeteurRecepteur2 = 90, 135
# dans le cas du site id_instru_site = 4 : la liaison émetteeur - recepteur est à 90, ou 120 pour la partie visible au sud
dfAnglesOrienteRecepteurs = dfAngleGradient.loc[(dfAngleGradient.apply(lambda x: x.angle_min <= abs(x.dir_vent_haut - angleEmmeteurRecepteur1) <= x.angle_max, axis=1))].copy()
#  si besoin ajoter cette condition pour prise en compte du 2ème angle possibl e : | (dfAngleGradient.apply(lambda x: x.angle_min <= abs(x.dir_vent_haut - angleEmmeteurRecepteur2) <= x.angle_max, axis=1))


# représentation de la météo jour par jour
slider = alt.binding_range(min=80, max=109, step=1)
select_day = alt.selection_single(name="jour", fields=['jour'],
                                   bind=slider, init={'jour': 81})
base = (alt.Chart(dfAnglesOrienteRecepteurs
                  .assign(vitesseVentKmH=dfAnglesOrienteRecepteurs.vts_vent_haut*3.6,
                          homogeneHaut=0.015,
                          homogeneBas=-0.015,
                          jour=dfAnglesOrienteRecepteurs.date_heure.dt.dayofyear))
        .encode(
            x=alt.X('hoursminutes(date_heure):T', title='Heure')))
ligne1 = base.mark_line(color='black').encode(y='homogeneHaut')
ligne2 = base.mark_line(color='black').encode(y='homogeneBas')
texte1 = alt.Chart({'values': [{'x': '2022-01-01 22:00:00', 'y': 0.3}]}).mark_text(text=['Conditions', 'défavorables'], 
                                                                                   fontSize=15, dy=50,
                                                                                   fontWeight="bold").encode(
    x='hoursminutes(x):T', y=alt.Y('y:Q'))
texte2 = alt.Chart({'values': [{'x': '2022-01-01 22:00:00', 'y': -0.3}]}).mark_text(text=['Conditions', 'favorables'], 
                                                                                   fontSize=15, dy=-50,
                                                                                   fontWeight="bold").encode(x='hoursminutes(x):T', 
                                                                                                             y=alt.Y('y:Q'))
temperature = base.mark_line(color='Grey').encode(y=alt.Y('temp_haut', title='Temperature', scale=alt.Scale(domainMax=24)))
vent = base.mark_point(shape="wedge", opacity=1).encode(
    y=alt.Y('grad_moy', title='Gradient de célérité du son', scale=alt.Scale(domainMin=-0.5, domainMax=0.5)),
                color=alt.Color("vitesseVentKmH:Q", scale=alt.Scale(scheme='turbo', domainMin=-1, domainMax=30), legend=alt.Legend(title='vitesse du vent (km/h)')),
                size=alt.Size('vitesseVentKmH', scale=alt.Scale(rangeMax=4000, rangeMin=-10, domainMin=-1, domainMax=30), legend=None),
                angle=alt.Angle("dir_vent_haut", scale=alt.Scale(domain=[0, 360], range=[180, 540])))
alt.vconcat((vent + ligne1 + ligne2 + texte1 + texte2).properties(width=600, height=300).add_selection(select_day).transform_filter(select_day),
            temperature.properties(width=600, height=100).add_selection(select_day).transform_filter(select_day))


# récupération des données
# bruit
dfBruit = recupDonneesAgregees(4, '1 h')
# meteo
dfMeteoBase = recupDonneesMeteoBase()
meteo = DonneesMeteo(dfMeteoBase, 1, 3, 60, '2022-03-21 13:00:00')
dfGradient3m = meteo.calculGradient(meteo.dfPente, 3)
dfAngleGradient = meteo.analyseAngulaire(dfGradient3m)
dfAngleGradient['ConditionPropagation'] = dfAngleGradient.grad_moy.apply(lambda x: conditionPropagation(x))
angleEmmeteurRecepteur1, angleEmmeteurRecepteur2 = 90, 135
dfAnglesOrienteRecepteurs = dfAngleGradient.loc[(dfAngleGradient.apply(lambda x: x.angle_min <= abs(x.dir_vent_haut - angleEmmeteurRecepteur1) <= x.angle_max, axis=1)) |
                                                (dfAngleGradient.apply(lambda x: x.angle_min <= abs(x.dir_vent_haut - angleEmmeteurRecepteur2) <= x.angle_max, axis=1))].copy()
dfMeteo = dfAnglesOrienteRecepteurs.loc[dfAnglesOrienteRecepteurs.grad_moy == dfAnglesOrienteRecepteurs.groupby('date_heure')['grad_moy'].
                                        transform('max')].drop_duplicates(['date_heure', 'grad_moy'])


dfBruitMeteo = (dfBruit[['date_heure', 'leq_a']]
                .assign(heure_minute=df6MinBruit.date_heure.apply(lambda x: f"{x.strftime('%H:%M')}"),
                        jour=df6MinBruit.date_heure.apply(lambda x: x.strftime('%A %d %B %Y')),
                        jour_sort=df6MinBruit.date_heure.dt.dayofyear)
                .merge(dfMeteo[['date_heure', 'ConditionPropagation']], on='date_heure')
                .replace({'ConditionPropagation':{'très défavorable': '- -', 'favorable': '+', "très favorable": '+ +', 'défavorable': '-', 'homogene': 'z'}}))


base = alt.Chart(dfBruitMeteo).mark_rect().encode(
    alt.X('heure_minute', title='Heure'),
    alt.Y('jour', sort=alt.EncodingSortField('jour_sort'), title='Jour' ),
    color='leq_a:Q')
text = base.mark_text(baseline='middle').encode(
    text='ConditionPropagation:N',
    color=alt.condition(
        alt.datum.leq_a < 60,
        alt.value('black'),
        alt.value('white')))
(base + text).properties(title=['Niveaux sonores par jour et par heure', 'pour les riverains de la rue Jules Ladoumegue'])


dfTrafic = recupDonneesTraficVlPl2Sens(7)
dfTrafic = dfTrafic.assign(heure_minute=dfTrafic.date_heure.apply(lambda x: f"{x.strftime('%H:%M')}"),
                                                     jour=dfTrafic.date_heure.apply(lambda x: x.strftime('%A %d %B %Y')),
                                                     jour_sort=dfTrafic.date_heure.dt.dayofyear)


slider = alt.binding_range(min=80, max=109, step=1)
select_day = alt.selection_single(name="jour_sort", fields=['jour_sort'],
                                   bind=slider, init={'jour_sort': 81})


base = alt.Chart(dfTrafic.loc[(dfTrafic.jour_sort.notna())]).encode(
    x=alt.X('hoursminutes(date_heure):T', title='Heure'),
    color='indicateur')
nbVeh = base.mark_bar(size=4, opacity=0.75).encode(
    y=alt.Y('valeur', title='Nombre de véhicules')).transform_filter(alt.FieldOneOfPredicate(field='indicateur', oneOf=['VL', 'PL']))
vts = base.mark_line().encode(
    y=alt.Y('valeur', title= 'Vitesse moyenne')).transform_filter(alt.FieldOneOfPredicate(field='indicateur', oneOf=['Vmoy_VL', 'Vmoy_PL']))
(nbVeh + vts).resolve_scale(y='independent').add_selection(select_day).transform_filter(select_day).properties(width=1200)
