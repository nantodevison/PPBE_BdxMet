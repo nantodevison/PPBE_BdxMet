get_ipython().run_line_magic("load_ext", " autoreload")
get_ipython().run_line_magic("autoreload", " 2")


import sys
sys.path.append(r'C:\Users\martin.schoreisz\git\otv\otv\Transfert_Donnees')
sys.path.append(r'C:\Users\\martin.schoreisz\git\Outils\Outils\Martin_Perso')
sys.path.append(r'C:\Users\martin.schoreisz\git\PPBE_BdxMet\src\Carac_situ_acoustiq')
sys.path.append(r'C:\Users\martin.schoreisz\git\PPBE_BdxMet\src')

import pandas as pd
import altair as alt
import numpy as np
from datetime import datetime, date, time, timezone
import locale, os
from math import log
import Outils as O

locale.setlocale(locale.LC_ALL, 'fr_FR')
pd.set_option('display.max_rows', 100)
pd.set_option('display.max_columns', 50)
pd.set_option('display.max_colwidth', 100)
alt.data_transformers.disable_max_rows()
# alt.data_transformers.enable('json')


dicoColonneMeteoFrance = {'numer_sta': 'station',
                          'date': 'date_3heures',
                          'dd': 'dir_vent_moy_10min',
                          'ff': 'vit_vent_moy_10min',
                          't': 'temperature',
                          'u': 'hygrometrie',
                          'n': 'nebulosite',
                          'nbas': 'nebulosite_nuage_inferieur',
                          'rr1': 'pluie_derniere_heure',
                          'rr3': 'pluie_3_dernieres_heures',
                          'rr6': 'pluie_6_dernieres_heures',
                          'rr12': 'pluie_12_dernieres_heures',
                          'rr24': 'pluie_24_dernieres_heures',}
numStationMerignac = 7510
listeColonnesMeteoFrance = [0, 1, 5, 6, 7, 9, 14, 15, 38, 39, 40, 41, 42]
conditionQualitativeVentFort = [3, 999]
conditionQualitativeVentMoyen = [1, 3]
conditionQualitativeVentFaible = [0, 1]
conditionQualitativeRayonnementFort = [400, 1000000]
conditionQualitativeRayonnementMoyen = [40, 400]
conditionQualitativeRayonnementFaible = [0, 40]
conditionQualitativeCouvNuageuseNuageux = [3, 9]
conditionQualitativeCouvNuageuseDégagé = [0, 2.99]
dicoSecteurAngulaire = {'portant': {'meteoFrance': [340, 0, 20], 'anemometre': [331, 31]},
                        'peu portant': {'meteoFrance': [40, 60, 330, 320], 'anemometre': [31, 71, 291, 331]},
                        'travers': {'meteoFrance': [80, 100, 260, 280], 'anemometre': [71, 111, 251, 291]},
                        'peu contraire': {'meteoFrance': [120, 140, 220, 240], 'anemometre': [111, 151, 211, 251]},
                        'contraire': {'meteoFrance': [160, 180, 200], 'anemometre': [151, 211]}}


dossier = r'C:\Users\martin.schoreisz\Downloads\MeteoFrance-selected'
fichiersMesures = ['synop.202203.csv',  'synop.202204.csv']
dfMeteoFranceAll = pd.concat([pd.read_csv(os.path.join(dossier, f),
                                          sep=';',
                                          usecols=listeColonnesMeteoFrance,
                                          parse_dates=[1]) for f in fichiersMesures]).rename(columns=dicoColonneMeteoFrance)
dfMeteoFranceBx = dfMeteoFranceAll.loc[dfMeteoFranceAll.station == numStationMerignac].copy()


dfMeteoFranceBx



