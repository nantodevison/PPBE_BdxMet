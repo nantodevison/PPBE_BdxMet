get_ipython().run_line_magic("load_ext", " autoreload")
get_ipython().run_line_magic("autoreload", " 2")


import sys
sys.path.append(r'C:\Users\martin.schoreisz\git\otv\otv\Transfert_Donnees')
sys.path.append(r'C:\Users\\martin.schoreisz\git\Outils\Outils\Martin_Perso')
sys.path.append(r'C:\Users\martin.schoreisz\git\PPBE_BdxMet\src\Carac_situ_acoustiq')
sys.path.append(r'C:\Users\martin.schoreisz\git\PPBE_BdxMet\src')

import pandas as pd
import altair as alt
from Import_stockage_donnees.Import_export_bdd import ResultatsEnquete
from Import_stockage_donnees.Params import bdd, startDateMesure, endDateMesure
import Connexion_Transfert as ct
from Bruit.Niveaux import niveau2Pression, pression2Niveau, moyenneQuadratiquePression

pd.set_option('display.max_rows', 100)
pd.set_option('display.max_columns', 50)
pd.set_option('display.max_colwidth', 100)
# alt.data_transformers.disable_max_rows()
# alt.data_transformers.enable('json')


with ct.ConnexionBdd(bdd) as c : 
    dfDonneesBrutes = pd.read_sql(
        f"SELECT * FROM mesures_physiques.niveau_bruit WHERE id_materiel = 1 ORDER BY date_heure", 
        c.sqlAlchemyConn)



