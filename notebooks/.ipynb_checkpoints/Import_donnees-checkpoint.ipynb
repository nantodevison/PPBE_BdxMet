{
 "cells": [
  {
   "cell_type": "markdown",
   "id": "cae1c377-6c75-4f50-80b5-d07e842fb30d",
   "metadata": {},
   "source": [
    "***IMPORT DES DONNEES DE TRAFIC, BRUIT, METEO ET SONDAGE***"
   ]
  },
  {
   "cell_type": "code",
   "execution_count": 1,
   "id": "df4708c3-4965-4f3b-b74e-14da1d848db0",
   "metadata": {},
   "outputs": [],
   "source": [
    "%load_ext autoreload\n",
    "%autoreload 2"
   ]
  },
  {
   "cell_type": "code",
   "execution_count": 2,
   "id": "9c66970b-150b-4c04-ba1e-1e0aafe707ef",
   "metadata": {},
   "outputs": [],
   "source": [
    "import sys\n",
    "sys.path.append(r'C:\\Users\\martin.schoreisz\\git\\otv\\otv\\Transfert_Donnees')\n",
    "sys.path.append(r'C:\\Users\\\\martin.schoreisz\\git\\Outils\\Outils\\Martin_Perso')\n",
    "sys.path.append(r'C:\\Users\\martin.schoreisz\\git\\PPBE_BdxMet\\src\\Carac_situ_acoustiq')\n",
    "sys.path.append(r'C:\\Users\\martin.schoreisz\\git\\PPBE_BdxMet\\src')\n",
    "\n",
    "import os \n",
    "from datetime import datetime\n",
    "import pandas as pd\n",
    "import Connexion_Transfert as ct\n",
    "from Import_stockage_donnees.Import_export_bdd import FichierMesureBruitCsv, transfertFichierMesure2Bdd"
   ]
  },
  {
   "cell_type": "markdown",
   "id": "58f22b36-d663-4edd-9c7e-5364d99684b2",
   "metadata": {},
   "source": [
    "# DONNEES BRUIT"
   ]
  },
  {
   "cell_type": "markdown",
   "id": "936232c1-c322-45dc-a7d0-ba370601de8c",
   "metadata": {},
   "source": [
    "## Lecture des fichiers ods"
   ]
  },
  {
   "cell_type": "code",
   "execution_count": 4,
   "id": "a2704a05-061d-4b35-96d6-135d5d92fec5",
   "metadata": {},
   "outputs": [],
   "source": [
    "# exemple de lecture \n",
    "test = FichierMesureBruitCsv(r'C:\\Users\\martin.schoreisz\\Documents\\temp\\BruitRessenti\\mesures\\CSV\\sono1_10RuePierreRonsard\\sono1_02-04-2022.csv')\n",
    "# test.dfNiveauSpectre.head(10)"
   ]
  },
  {
   "cell_type": "code",
   "execution_count": null,
   "id": "85227ee2-a3da-4ae7-80ab-89e6942a61b3",
   "metadata": {},
   "outputs": [],
   "source": [
    "# transfert vers Bdd par dossier\n",
    "dossierSrc = r'C:\\Users\\martin.schoreisz\\Documents\\temp\\BruitRessenti\\mesures\\CSV\\sono4_26RueFrancoisVillon'\n",
    "transfertFichierMesure2Bdd(dossierSrc)"
   ]
  }
 ],
 "metadata": {
  "kernelspec": {
   "display_name": "Python 3 (ipykernel)",
   "language": "python",
   "name": "python3"
  },
  "language_info": {
   "codemirror_mode": {
    "name": "ipython",
    "version": 3
   },
   "file_extension": ".py",
   "mimetype": "text/x-python",
   "name": "python",
   "nbconvert_exporter": "python",
   "pygments_lexer": "ipython3",
   "version": "3.9.6"
  },
  "toc-autonumbering": true
 },
 "nbformat": 4,
 "nbformat_minor": 5
}
