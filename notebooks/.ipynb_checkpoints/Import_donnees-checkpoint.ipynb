{
 "cells": [
  {
   "cell_type": "markdown",
   "id": "cae1c377-6c75-4f50-80b5-d07e842fb30d",
   "metadata": {},
   "source": [
    "***IMPORT DES DONNEES DE TRAFIC, BRUIT, METEO ET SONDAGE***"
   ]
  },
  {
   "cell_type": "code",
   "execution_count": 2,
   "id": "df4708c3-4965-4f3b-b74e-14da1d848db0",
   "metadata": {},
   "outputs": [],
   "source": [
    "%load_ext autoreload\n",
    "%autoreload 2"
   ]
  },
  {
   "cell_type": "code",
   "execution_count": 23,
   "id": "9c66970b-150b-4c04-ba1e-1e0aafe707ef",
   "metadata": {},
   "outputs": [],
   "source": [
    "import sys\n",
    "sys.path.append(r'C:\\Users\\martin.schoreisz\\git\\otv\\otv\\Transfert_Donnees')\n",
    "sys.path.append(r'C:\\Users\\\\martin.schoreisz\\git\\Outils\\Outils\\Martin_Perso')\n",
    "\n",
    "import os \n",
    "from datetime import datetime\n",
    "import pandas as pd\n",
    "import Connexion_Transfert as ct"
   ]
  },
  {
   "cell_type": "markdown",
   "id": "58f22b36-d663-4edd-9c7e-5364d99684b2",
   "metadata": {},
   "source": [
    "# DONNEES BRUIT"
   ]
  },
  {
   "cell_type": "markdown",
   "id": "936232c1-c322-45dc-a7d0-ba370601de8c",
   "metadata": {},
   "source": [
    "## Lecture des fichiers ods"
   ]
  },
  {
   "cell_type": "code",
   "execution_count": 36,
   "id": "e8d8eb1d-66f4-4180-a3c8-957834090e66",
   "metadata": {},
   "outputs": [],
   "source": [
    "# test de formatage sur un fichier\n",
    "dossier = r'C:\\Users\\martin.schoreisz\\Documents\\temp\\BruitRessenti\\mesures\\CSV\\sono1_10RuePierreRonsard'\n",
    "nomFichier = 'sono1_01-04-2022.csv'\n",
    "fichier = os.path.join(dossier, nomFichier)"
   ]
  },
  {
   "cell_type": "code",
   "execution_count": 54,
   "id": "f728f80c-67ae-49d2-96b8-38919870c6aa",
   "metadata": {},
   "outputs": [],
   "source": [
    "# options de formatage\n",
    "def conversionNumerique(numTexte):\n",
    "    return float(numTexte.replace(',','.'))\n",
    "\n",
    "\n",
    "def conversionDate(dateTexte):\n",
    "    return datetime.strptime(dateTexte, \"%H:%M:%S:%f %d/%m/%Y\")\n",
    "\n",
    "\n",
    "colonnes = ['date_heure', 'leq_a', 'leq_lin', 'crete_c', 'fast_inst_a', 'fast_max_a', 'fast_min_a', 6, 8, 10, 12, 16,\n",
    "            20, 25, 31, 40, 50, 63, 80, 100, 125, 160, 200, 250, 315, 400, 500,\n",
    "            630, 800, 1000, 1250, 1600, 2000, 2500, 3150, 4000, 5000, 6300, 8000, 10000,\n",
    "            12500, 16000, 20000]\n",
    "converters = {'leq_a': conversionNumerique, 'leq_lin': conversionNumerique, 'crete_c': conversionNumerique, 'fast_inst_a': conversionNumerique, \n",
    "              'fast_max_a': conversionNumerique, 'fast_min_a': conversionNumerique, 'to_6.3': conversionNumerique, 'to_8': conversionNumerique,\n",
    "              'to_10': conversionNumerique, 'to_12': conversionNumerique, 'to_16': conversionNumerique, 'to_20': conversionNumerique, \n",
    "              'to_25': conversionNumerique, 'to_31': conversionNumerique, 'to_40': conversionNumerique, 'to_50': conversionNumerique, 'to_63': conversionNumerique,\n",
    "              'to_80': conversionNumerique, 'to_100': conversionNumerique, 'to_125': conversionNumerique, 'to_160': conversionNumerique, 'to_200': conversionNumerique,\n",
    "              'to_250': conversionNumerique, 'to_315': conversionNumerique, 'to_400': conversionNumerique, 'to_500': conversionNumerique,'to_630': conversionNumerique,\n",
    "              'to_800': conversionNumerique, 'to_1000': conversionNumerique, 'to_1250': conversionNumerique, 'to_1600': conversionNumerique,\n",
    "              'to_2000': conversionNumerique, 'to_2500': conversionNumerique, 'to_3150': conversionNumerique,'to_4000': conversionNumerique,\n",
    "              'to_5000': conversionNumerique, 'to_6300': conversionNumerique, 'to_8000': conversionNumerique, 'to_10000': conversionNumerique,\n",
    "              'to_12500': conversionNumerique, 'to_16000': conversionNumerique, 'to_20000': conversionNumerique}\n",
    "# lecture\n",
    "dfBruteFichier = pd.read_csv(fichier, skiprows=49, names=colonnes, parse_dates=[0], dayfirst=True, date_parser=conversionDate, converters=converters)"
   ]
  },
  {
   "cell_type": "code",
   "execution_count": 59,
   "id": "22814953-663d-4b06-b426-41e6e7e57354",
   "metadata": {},
   "outputs": [],
   "source": [
    "# mise en forme\n",
    "dfSpectreBrute = dfBruteFichier[[c for c in dfBruteFichier.columns if isinstance(c, int)]].stack().reset_index()\n",
    "dfSpectreBrute.columns = ['id', 'freq', 'valeur']"
   ]
  },
  {
   "cell_type": "code",
   "execution_count": 48,
   "id": "58cef798-e4ee-49fd-89e7-a9ad6ff6a3a1",
   "metadata": {},
   "outputs": [],
   "source": [
    "dfSpectreBrute.freq = dfSpectreBrute.freq.str[3:]"
   ]
  },
  {
   "cell_type": "code",
   "execution_count": 50,
   "id": "8bdf0c59-32d1-4313-ab28-72908f17c00e",
   "metadata": {},
   "outputs": [
    {
     "data": {
      "text/plain": [
       "id          int64\n",
       "freq       object\n",
       "valeur    float64\n",
       "dtype: object"
      ]
     },
     "execution_count": 50,
     "metadata": {},
     "output_type": "execute_result"
    }
   ],
   "source": [
    "dfSpectreBrute.dtypes"
   ]
  },
  {
   "cell_type": "code",
   "execution_count": 60,
   "id": "69833488-12e8-403c-ba13-a8c9fbfe1f8c",
   "metadata": {},
   "outputs": [
    {
     "data": {
      "text/html": [
       "<div>\n",
       "<style scoped>\n",
       "    .dataframe tbody tr th:only-of-type {\n",
       "        vertical-align: middle;\n",
       "    }\n",
       "\n",
       "    .dataframe tbody tr th {\n",
       "        vertical-align: top;\n",
       "    }\n",
       "\n",
       "    .dataframe thead th {\n",
       "        text-align: right;\n",
       "    }\n",
       "</style>\n",
       "<table border=\"1\" class=\"dataframe\">\n",
       "  <thead>\n",
       "    <tr style=\"text-align: right;\">\n",
       "      <th></th>\n",
       "      <th>id</th>\n",
       "      <th>freq</th>\n",
       "      <th>valeur</th>\n",
       "    </tr>\n",
       "  </thead>\n",
       "  <tbody>\n",
       "    <tr>\n",
       "      <th>0</th>\n",
       "      <td>0</td>\n",
       "      <td>6</td>\n",
       "      <td>37,6</td>\n",
       "    </tr>\n",
       "    <tr>\n",
       "      <th>1</th>\n",
       "      <td>0</td>\n",
       "      <td>8</td>\n",
       "      <td>45</td>\n",
       "    </tr>\n",
       "    <tr>\n",
       "      <th>2</th>\n",
       "      <td>0</td>\n",
       "      <td>10</td>\n",
       "      <td>28,4</td>\n",
       "    </tr>\n",
       "    <tr>\n",
       "      <th>3</th>\n",
       "      <td>0</td>\n",
       "      <td>12</td>\n",
       "      <td>7,7</td>\n",
       "    </tr>\n",
       "    <tr>\n",
       "      <th>4</th>\n",
       "      <td>0</td>\n",
       "      <td>16</td>\n",
       "      <td>58,2</td>\n",
       "    </tr>\n",
       "  </tbody>\n",
       "</table>\n",
       "</div>"
      ],
      "text/plain": [
       "   id  freq valeur\n",
       "0   0     6   37,6\n",
       "1   0     8     45\n",
       "2   0    10   28,4\n",
       "3   0    12    7,7\n",
       "4   0    16   58,2"
      ]
     },
     "execution_count": 60,
     "metadata": {},
     "output_type": "execute_result"
    }
   ],
   "source": [
    "dfSpectreBrute.head(5)"
   ]
  },
  {
   "cell_type": "code",
   "execution_count": null,
   "id": "d8955a13-37ca-4cb6-869f-c1c622ea90a7",
   "metadata": {},
   "outputs": [],
   "source": []
  }
 ],
 "metadata": {
  "kernelspec": {
   "display_name": "Python 3 (ipykernel)",
   "language": "python",
   "name": "python3"
  },
  "language_info": {
   "codemirror_mode": {
    "name": "ipython",
    "version": 3
   },
   "file_extension": ".py",
   "mimetype": "text/x-python",
   "name": "python",
   "nbconvert_exporter": "python",
   "pygments_lexer": "ipython3",
   "version": "3.9.6"
  },
  "toc-autonumbering": true
 },
 "nbformat": 4,
 "nbformat_minor": 5
}
