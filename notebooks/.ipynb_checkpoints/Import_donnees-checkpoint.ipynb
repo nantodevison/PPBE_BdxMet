{
 "cells": [
  {
   "cell_type": "markdown",
   "id": "cae1c377-6c75-4f50-80b5-d07e842fb30d",
   "metadata": {},
   "source": [
    "***IMPORT DES DONNEES DE TRAFIC, BRUIT, METEO ET SONDAGE***"
   ]
  },
  {
   "cell_type": "code",
   "execution_count": 1,
   "id": "df4708c3-4965-4f3b-b74e-14da1d848db0",
   "metadata": {},
   "outputs": [],
   "source": [
    "%load_ext autoreload\n",
    "%autoreload 2"
   ]
  },
  {
   "cell_type": "code",
   "execution_count": 2,
   "id": "9c66970b-150b-4c04-ba1e-1e0aafe707ef",
   "metadata": {},
   "outputs": [],
   "source": [
    "import sys\n",
    "sys.path.append(r'C:\\Users\\martin.schoreisz\\git\\otv\\otv\\Transfert_Donnees')\n",
    "sys.path.append(r'C:\\Users\\\\martin.schoreisz\\git\\Outils\\Outils\\Martin_Perso')\n",
    "sys.path.append(r'C:\\Users\\martin.schoreisz\\git\\PPBE_BdxMet\\src\\Carac_situ_acoustiq')\n",
    "sys.path.append(r'C:\\Users\\martin.schoreisz\\git\\PPBE_BdxMet\\src')\n",
    "\n",
    "import re\n",
    "import pandas as pd\n",
    "import Connexion_Transfert as ct\n",
    "from Outils import checkParamValues\n",
    "from Import_stockage_donnees.Import_export_bdd import FichierMesureBruitCsv, transfertFichierMesureBruit2Bdd, FichierCsvEnquete\n",
    "\n",
    "pd.set_option('display.max_rows', 100)"
   ]
  },
  {
   "cell_type": "markdown",
   "id": "58f22b36-d663-4edd-9c7e-5364d99684b2",
   "metadata": {},
   "source": [
    "# DONNEES BRUIT"
   ]
  },
  {
   "cell_type": "markdown",
   "id": "936232c1-c322-45dc-a7d0-ba370601de8c",
   "metadata": {},
   "source": [
    "> ## Lecture des fichiers ods"
   ]
  },
  {
   "cell_type": "code",
   "execution_count": 4,
   "id": "a2704a05-061d-4b35-96d6-135d5d92fec5",
   "metadata": {},
   "outputs": [],
   "source": [
    "# exemple de lecture \n",
    "test = FichierMesureBruitCsv(r'C:\\Users\\martin.schoreisz\\Documents\\temp\\BruitRessenti\\mesures\\CSV\\sono1_10RuePierreRonsard\\sono1_02-04-2022.csv')\n",
    "# test.dfNiveauSpectre.head(10)"
   ]
  },
  {
   "cell_type": "code",
   "execution_count": null,
   "id": "0a2a85c6-d8fa-4c73-974f-955948864874",
   "metadata": {},
   "outputs": [],
   "source": [
    "# transfert vers Bdd par dossier\n",
    "dossierSrc = r'C:\\Users\\martin.schoreisz\\Documents\\temp\\BruitRessenti\\mesures\\CSV\\sono4_26RueFrancoisVillon'\n",
    "transfertFichierMesure2Bdd(dossierSrc)"
   ]
  },
  {
   "cell_type": "markdown",
   "id": "4918f688-e406-4683-8e1d-05f1342658f0",
   "metadata": {},
   "source": [
    "# DONNEES RESSENTI"
   ]
  },
  {
   "cell_type": "markdown",
   "id": "a4e87229-3da9-4d08-8eaa-19160e4f1e33",
   "metadata": {},
   "source": [
    "> ## Import des données brutes  \n",
    "Il s'agit de lire le fichier, de le nettoyer puis de le rendre plus compréhensible.  \n",
    "Comme le fichier mélange des données fournies par les riverains directement par LimeSurvey et d'autre issus du transfert depuis des questionnaires papiers, il faut également s'assurer de la présence d'un identifiant unique par riverains, en créant des adresses mail factice pour les réoponses issues de questionaire papier."
   ]
  },
  {
   "cell_type": "code",
   "execution_count": 4,
   "id": "2b994588-ae3d-4c01-b83c-2465a202b8e6",
   "metadata": {},
   "outputs": [],
   "source": [
    "ressenti = FichierCsvEnquete(r'C:\\Users\\martin.schoreisz\\Box\\Cerema\\3E-Prod_Env_Risq\\E6-Nuisances\\E61-Acoustique\\60-Etudes_Locales\\2022-BruitRessentiBdxMet\\4-Travaux_en_cours\\Enquete_LimeSurvey\\resultats_LimeSurvey_Bruts\\resultats_complets_enquete_avec_papier.csv')"
   ]
  },
  {
   "cell_type": "code",
   "execution_count": 13,
   "id": "9957e519-5313-4bb6-8af4-910319e61e95",
   "metadata": {},
   "outputs": [
    {
     "data": {
      "text/plain": [
       "Index(['id', 'adresse', 'genre', 'age', 'emploi', 'sensibilite_bruit',\n",
       "       'periode_travail', 'periode_travail_autre', 'sensib_bruit_travail',\n",
       "       'gene_long_terme', 'gene_long_terme_6-18', 'gene_long_terme_18_22',\n",
       "       'gene_long_terme_22_6', 'bati_type', 'bati_annee', 'debut_gene',\n",
       "       'fin_gene', 'duree_gene', 'note_gene', 'comment', 'nom', 'prenom',\n",
       "       'mail', 'qualif_bruit', 'localisation_gene', 'vehicule_source',\n",
       "       'route_source', 'route_source_comment', 'source_bruit',\n",
       "       'source_bruit_comment', 'perturbation'],\n",
       "      dtype='object')"
      ]
     },
     "execution_count": 13,
     "metadata": {},
     "output_type": "execute_result"
    }
   ],
   "source": [
    "ressenti.dfDeclarationGene.columns"
   ]
  },
  {
   "cell_type": "code",
   "execution_count": null,
   "id": "af7824ad-e7e2-4d5e-bd77-4d798cf3fa1f",
   "metadata": {},
   "outputs": [],
   "source": []
  }
 ],
 "metadata": {
  "kernelspec": {
   "display_name": "Python 3 (ipykernel)",
   "language": "python",
   "name": "python3"
  },
  "language_info": {
   "codemirror_mode": {
    "name": "ipython",
    "version": 3
   },
   "file_extension": ".py",
   "mimetype": "text/x-python",
   "name": "python",
   "nbconvert_exporter": "python",
   "pygments_lexer": "ipython3",
   "version": "3.9.6"
  },
  "toc-autonumbering": true
 },
 "nbformat": 4,
 "nbformat_minor": 5
}
