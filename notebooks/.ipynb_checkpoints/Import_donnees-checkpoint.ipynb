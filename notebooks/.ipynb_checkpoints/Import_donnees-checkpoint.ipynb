{
 "cells": [
  {
   "cell_type": "markdown",
   "id": "cae1c377-6c75-4f50-80b5-d07e842fb30d",
   "metadata": {},
   "source": [
    "***IMPORT DES DONNEES DE TRAFIC, BRUIT, METEO ET SONDAGE***"
   ]
  },
  {
   "cell_type": "code",
   "execution_count": 1,
   "id": "df4708c3-4965-4f3b-b74e-14da1d848db0",
   "metadata": {},
   "outputs": [],
   "source": [
    "%load_ext autoreload\n",
    "%autoreload 2"
   ]
  },
  {
   "cell_type": "code",
   "execution_count": 2,
   "id": "9c66970b-150b-4c04-ba1e-1e0aafe707ef",
   "metadata": {},
   "outputs": [],
   "source": [
    "import sys\n",
    "sys.path.append(r'C:\\Users\\martin.schoreisz\\git\\otv\\otv\\Transfert_Donnees')\n",
    "sys.path.append(r'C:\\Users\\\\martin.schoreisz\\git\\Outils\\Outils\\Martin_Perso')\n",
    "sys.path.append(r'C:\\Users\\martin.schoreisz\\git\\PPBE_BdxMet\\src\\Carac_situ_acoustiq')\n",
    "sys.path.append(r'C:\\Users\\martin.schoreisz\\git\\PPBE_BdxMet\\src')\n",
    "\n",
    "import os \n",
    "from datetime import datetime\n",
    "import pandas as pd\n",
    "import Connexion_Transfert as ct\n",
    "from Import_stockage_donnees.Import_export_bdd import FichierMesureBruitCsv"
   ]
  },
  {
   "cell_type": "markdown",
   "id": "58f22b36-d663-4edd-9c7e-5364d99684b2",
   "metadata": {},
   "source": [
    "# DONNEES BRUIT"
   ]
  },
  {
   "cell_type": "markdown",
   "id": "936232c1-c322-45dc-a7d0-ba370601de8c",
   "metadata": {},
   "source": [
    "## Lecture des fichiers ods"
   ]
  },
  {
   "cell_type": "code",
   "execution_count": 3,
   "id": "53a20c8e-a1ad-4cbf-b5f1-1e76643ca2dc",
   "metadata": {},
   "outputs": [],
   "source": [
    "# test de formatage sur un fichier\n",
    "dossier = r'C:\\Users\\martin.schoreisz\\Documents\\temp\\BruitRessenti\\mesures\\CSV\\sono1_10RuePierreRonsard'\n",
    "nomFichier = 'sono1_01-04-2022.csv'\n",
    "cheminFichier = os.path.join(dossier, nomFichier)"
   ]
  },
  {
   "cell_type": "code",
   "execution_count": 37,
   "id": "106232fc-a9df-4e21-9f70-1a1561ecd99c",
   "metadata": {
    "jupyter": {
     "source_hidden": true
    },
    "tags": []
   },
   "outputs": [],
   "source": [
    "def conversionNumerique(numTexte):\n",
    "    \"\"\"\n",
    "    conversion des donnees texte dans les fichiers acoustiques\n",
    "    \"\"\"\n",
    "    return float(numTexte.replace(',','.'))\n",
    "\n",
    "\n",
    "def conversionDate(dateTexte):\n",
    "    \"\"\"\n",
    "    convertir le format de date des fichiers acoustiques de mesure\n",
    "    \"\"\"\n",
    "    return datetime.strptime(dateTexte, \"%H:%M:%S:%f %d/%m/%Y\")\n",
    "\n",
    "\n",
    "colonnesFichierMesureBruit = ['date_heure', 'leq_a', 'leq_lin', 'crete_c', 'fast_inst_a', 'fast_max_a', 'fast_min_a', 'to_6',\n",
    "                              'to_8', 'to_10', 'to_12', 'to_16','to_20', 'to_25', 'to_31', 'to_40', 'to_50', 'to_63', 'to_80', 'to_100',\n",
    "                              'to_125', 'to_160', 'to_200', 'to_250', 'to_315', 'to_400', 'to_500', 'to_630', 'to_800', 'to_1000',\n",
    "                              'to_1250', 'to_1600','to_2000', 'to_2500', 'to_3150', 'to_4000', 'to_5000', 'to_6300', 'to_8000',\n",
    "                              'to_10000', 'to_12500', 'to_16000', 'to_20000']\n",
    "converters = {'leq_a': conversionNumerique, 'leq_lin': conversionNumerique, 'crete_c': conversionNumerique, 'fast_inst_a': conversionNumerique, \n",
    "              'fast_max_a': conversionNumerique, 'fast_min_a': conversionNumerique, 'to_6': conversionNumerique, 'to_8': conversionNumerique,\n",
    "              'to_10': conversionNumerique, 'to_12': conversionNumerique, 'to_16': conversionNumerique, 'to_20': conversionNumerique,\n",
    "              'to_25': conversionNumerique, 'to_31': conversionNumerique, 'to_40': conversionNumerique, 'to_50': conversionNumerique, 'to_63': conversionNumerique,\n",
    "              'to_80': conversionNumerique, 'to_100': conversionNumerique, 'to_125': conversionNumerique, 'to_160': conversionNumerique, 'to_200': conversionNumerique,\n",
    "              'to_250': conversionNumerique, 'to_315': conversionNumerique, 'to_400': conversionNumerique, 'to_500': conversionNumerique, 'to_630': conversionNumerique,\n",
    "              'to_800': conversionNumerique, 'to_1000': conversionNumerique, 'to_1250': conversionNumerique, 'to_1600': conversionNumerique,\n",
    "              'to_2000': conversionNumerique, 'to_2500': conversionNumerique, 'to_3150': conversionNumerique, 'to_4000': conversionNumerique,\n",
    "              'to_5000': conversionNumerique, 'to_6300': conversionNumerique, 'to_8000': conversionNumerique, 'to_10000': conversionNumerique,\n",
    "              'to_12500': conversionNumerique, 'to_16000': conversionNumerique, 'to_20000': conversionNumerique}\n",
    "dicoMatosBruit_mesure = {'sono1': 1, 'sono2': 2, 'sono3': 3, 'sono4': 1}\n",
    "dossierBoxCsv = 'https://cerema.app.box.com/folder/164712899904'"
   ]
  },
  {
   "cell_type": "code",
   "execution_count": null,
   "id": "52a30008-7b9b-4375-8cf3-1828f3ded780",
   "metadata": {
    "jupyter": {
     "source_hidden": true
    },
    "tags": []
   },
   "outputs": [],
   "source": [
    "pd.read_csv(cheminFichier, skiprows=49, names=colonnesFichierMesureBruit, parse_dates=[0], dayfirst=True, date_parser=conversionDate, converters=converters)"
   ]
  },
  {
   "cell_type": "code",
   "execution_count": 5,
   "id": "1b3c1772-d4fa-48e6-84a6-c0f5eebe5ee9",
   "metadata": {},
   "outputs": [],
   "source": [
    "fichier = FichierMesureBruitCsv(cheminFichier)"
   ]
  },
  {
   "cell_type": "code",
   "execution_count": 27,
   "id": "ba78f6b9-08c3-4b9f-b94b-26049aa0634d",
   "metadata": {},
   "outputs": [
    {
     "name": "stdout",
     "output_type": "stream",
     "text": [
      "fichier C:\\Users\\martin.schoreisz\\Documents\\temp\\BruitRessenti\\mesures\\CSV\\sono1_10RuePierreRonsard\\sono1_01-04-2022.csv, avant calcul 2022-06-07 17:28:57.092078\n",
      "avant transfert niveaux 2022-06-07 17:29:16.042221\n",
      "avant transfert spectre 2022-06-07 17:29:38.762391\n"
     ]
    }
   ],
   "source": [
    "with ct.ConnexionBdd('ech24') as c:\n",
    "    for r, d, files in os.walk(r'C:\\Users\\martin.schoreisz\\Documents\\temp\\BruitRessenti\\mesures\\CSV\\sono1_10RuePierreRonsard'):\n",
    "        for f in files:\n",
    "            if f .endswith('.csv'):\n",
    "                cheminFichier = os.path.join(r, f)\n",
    "                timerAvantCalcul = datetime.now()\n",
    "                print(f\"fichier {cheminFichier}, avant calcul {datetime.now()}\")\n",
    "                fichier = FichierMesureBruitCsv(cheminFichier)\n",
    "                timerApresCalcul = datetime.now()\n",
    "                print(f\"duree calcul : {timerAvantCalcul-timerApresCalcul}\")\n",
    "                fichier.dfNiveauSpectre.to_sql(schema='mesures_physiques', name='niveau_bruit', con=c.sqlAlchemyConn, if_exists='append', index=False)\n",
    "                timerApresNiveaux = datetime.now()\n",
    "                print(f\"duree transfert spectre {timerApresCalcul-timerApresNiveaux}\")\n",
    "            break\n",
    "        break"
   ]
  },
  {
   "cell_type": "code",
   "execution_count": 28,
   "id": "8d5c6da0-25a6-46b0-a6f1-3e7d0f957705",
   "metadata": {},
   "outputs": [
    {
     "data": {
      "text/html": [
       "<div>\n",
       "<style scoped>\n",
       "    .dataframe tbody tr th:only-of-type {\n",
       "        vertical-align: middle;\n",
       "    }\n",
       "\n",
       "    .dataframe tbody tr th {\n",
       "        vertical-align: top;\n",
       "    }\n",
       "\n",
       "    .dataframe thead th {\n",
       "        text-align: right;\n",
       "    }\n",
       "</style>\n",
       "<table border=\"1\" class=\"dataframe\">\n",
       "  <thead>\n",
       "    <tr style=\"text-align: right;\">\n",
       "      <th></th>\n",
       "      <th>id_niveau_bruit</th>\n",
       "      <th>freq</th>\n",
       "      <th>valeur</th>\n",
       "      <th>type_freq</th>\n",
       "    </tr>\n",
       "  </thead>\n",
       "  <tbody>\n",
       "    <tr>\n",
       "      <th>0</th>\n",
       "      <td>1</td>\n",
       "      <td>6</td>\n",
       "      <td>37.6</td>\n",
       "      <td>tiers octave</td>\n",
       "    </tr>\n",
       "    <tr>\n",
       "      <th>1</th>\n",
       "      <td>1</td>\n",
       "      <td>8</td>\n",
       "      <td>45.0</td>\n",
       "      <td>tiers octave</td>\n",
       "    </tr>\n",
       "    <tr>\n",
       "      <th>2</th>\n",
       "      <td>1</td>\n",
       "      <td>10</td>\n",
       "      <td>28.4</td>\n",
       "      <td>tiers octave</td>\n",
       "    </tr>\n",
       "    <tr>\n",
       "      <th>3</th>\n",
       "      <td>1</td>\n",
       "      <td>12</td>\n",
       "      <td>7.7</td>\n",
       "      <td>tiers octave</td>\n",
       "    </tr>\n",
       "    <tr>\n",
       "      <th>4</th>\n",
       "      <td>1</td>\n",
       "      <td>16</td>\n",
       "      <td>58.2</td>\n",
       "      <td>tiers octave</td>\n",
       "    </tr>\n",
       "    <tr>\n",
       "      <th>...</th>\n",
       "      <td>...</td>\n",
       "      <td>...</td>\n",
       "      <td>...</td>\n",
       "      <td>...</td>\n",
       "    </tr>\n",
       "    <tr>\n",
       "      <th>24873691</th>\n",
       "      <td>690936</td>\n",
       "      <td>8000</td>\n",
       "      <td>28.0</td>\n",
       "      <td>tiers octave</td>\n",
       "    </tr>\n",
       "    <tr>\n",
       "      <th>24873692</th>\n",
       "      <td>690936</td>\n",
       "      <td>10000</td>\n",
       "      <td>25.3</td>\n",
       "      <td>tiers octave</td>\n",
       "    </tr>\n",
       "    <tr>\n",
       "      <th>24873693</th>\n",
       "      <td>690936</td>\n",
       "      <td>12500</td>\n",
       "      <td>20.4</td>\n",
       "      <td>tiers octave</td>\n",
       "    </tr>\n",
       "    <tr>\n",
       "      <th>24873694</th>\n",
       "      <td>690936</td>\n",
       "      <td>16000</td>\n",
       "      <td>15.3</td>\n",
       "      <td>tiers octave</td>\n",
       "    </tr>\n",
       "    <tr>\n",
       "      <th>24873695</th>\n",
       "      <td>690936</td>\n",
       "      <td>20000</td>\n",
       "      <td>12.2</td>\n",
       "      <td>tiers octave</td>\n",
       "    </tr>\n",
       "  </tbody>\n",
       "</table>\n",
       "<p>24873696 rows × 4 columns</p>\n",
       "</div>"
      ],
      "text/plain": [
       "          id_niveau_bruit   freq  valeur     type_freq\n",
       "0                       1      6    37.6  tiers octave\n",
       "1                       1      8    45.0  tiers octave\n",
       "2                       1     10    28.4  tiers octave\n",
       "3                       1     12     7.7  tiers octave\n",
       "4                       1     16    58.2  tiers octave\n",
       "...                   ...    ...     ...           ...\n",
       "24873691           690936   8000    28.0  tiers octave\n",
       "24873692           690936  10000    25.3  tiers octave\n",
       "24873693           690936  12500    20.4  tiers octave\n",
       "24873694           690936  16000    15.3  tiers octave\n",
       "24873695           690936  20000    12.2  tiers octave\n",
       "\n",
       "[24873696 rows x 4 columns]"
      ]
     },
     "execution_count": 28,
     "metadata": {},
     "output_type": "execute_result"
    }
   ],
   "source": [
    "fichier.dfSpectre"
   ]
  }
 ],
 "metadata": {
  "kernelspec": {
   "display_name": "Python 3 (ipykernel)",
   "language": "python",
   "name": "python3"
  },
  "language_info": {
   "codemirror_mode": {
    "name": "ipython",
    "version": 3
   },
   "file_extension": ".py",
   "mimetype": "text/x-python",
   "name": "python",
   "nbconvert_exporter": "python",
   "pygments_lexer": "ipython3",
   "version": "3.9.6"
  },
  "toc-autonumbering": true
 },
 "nbformat": 4,
 "nbformat_minor": 5
}
