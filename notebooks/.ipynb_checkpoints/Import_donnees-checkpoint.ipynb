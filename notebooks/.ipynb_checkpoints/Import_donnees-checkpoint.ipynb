{
 "cells": [
  {
   "cell_type": "markdown",
   "id": "cae1c377-6c75-4f50-80b5-d07e842fb30d",
   "metadata": {},
   "source": [
    "***IMPORT DES DONNEES DE TRAFIC, BRUIT, METEO ET SONDAGE***"
   ]
  },
  {
   "cell_type": "code",
   "execution_count": 1,
   "id": "df4708c3-4965-4f3b-b74e-14da1d848db0",
   "metadata": {},
   "outputs": [],
   "source": [
    "%load_ext autoreload\n",
    "%autoreload 2"
   ]
  },
  {
   "cell_type": "code",
   "execution_count": 2,
   "id": "9c66970b-150b-4c04-ba1e-1e0aafe707ef",
   "metadata": {},
   "outputs": [],
   "source": [
    "import sys\n",
    "sys.path.append(r'C:\\Users\\martin.schoreisz\\git\\otv\\otv\\Transfert_Donnees')\n",
    "sys.path.append(r'C:\\Users\\\\martin.schoreisz\\git\\Outils\\Outils\\Martin_Perso')\n",
    "sys.path.append(r'C:\\Users\\martin.schoreisz\\git\\PPBE_BdxMet\\src\\Carac_situ_acoustiq')\n",
    "sys.path.append(r'C:\\Users\\martin.schoreisz\\git\\PPBE_BdxMet\\src')\n",
    "\n",
    "import os, re\n",
    "import pandas as pd\n",
    "import numpy as np\n",
    "import altair as alt\n",
    "from Import_stockage_donnees.Import_export_bdd import FichierMesureBruitCsv, FichierCsvEnquete\n",
    "\n",
    "pd.set_option('display.max_rows', 100)\n",
    "pd.set_option('display.max_columns', 50)"
   ]
  },
  {
   "cell_type": "markdown",
   "id": "58f22b36-d663-4edd-9c7e-5364d99684b2",
   "metadata": {},
   "source": [
    "# DONNEES BRUIT"
   ]
  },
  {
   "cell_type": "markdown",
   "id": "936232c1-c322-45dc-a7d0-ba370601de8c",
   "metadata": {},
   "source": [
    "> ## Lecture des fichiers ods"
   ]
  },
  {
   "cell_type": "code",
   "execution_count": 36,
   "id": "a2704a05-061d-4b35-96d6-135d5d92fec5",
   "metadata": {},
   "outputs": [],
   "source": [
    "# exemple de lecture \n",
    "test = FichierMesureBruitCsv(r'C:\\Users\\martin.schoreisz\\Documents\\temp\\BruitRessenti\\mesures\\CSV\\sono1_10RuePierreRonsard\\sono1_02-04-2022.csv')\n",
    "# test.dfNiveauSpectre.head(10)"
   ]
  },
  {
   "cell_type": "code",
   "execution_count": null,
   "id": "0a2a85c6-d8fa-4c73-974f-955948864874",
   "metadata": {},
   "outputs": [],
   "source": [
    "# transfert vers Bdd par dossier\n",
    "dossierSrc = r'C:\\Users\\martin.schoreisz\\Documents\\temp\\BruitRessenti\\mesures\\CSV\\sono4_26RueFrancoisVillon'\n",
    "transfertFichierMesure2Bdd(dossierSrc)"
   ]
  },
  {
   "cell_type": "markdown",
   "id": "4918f688-e406-4683-8e1d-05f1342658f0",
   "metadata": {},
   "source": [
    "# DONNEES RESSENTI"
   ]
  },
  {
   "cell_type": "markdown",
   "id": "a4e87229-3da9-4d08-8eaa-19160e4f1e33",
   "metadata": {
    "tags": []
   },
   "source": [
    "## Import des données brutes  \n",
    "Il s'agit de lire le fichier, de le nettoyer puis de le rendre plus compréhensible.  \n",
    "Comme le fichier mélange des données fournies par les riverains directement par LimeSurvey et d'autre issus du transfert depuis des questionnaires papiers, il faut également s'assurer de la présence d'un identifiant unique par riverains, en créant des adresses mail factice pour les réoponses issues de questionaire papier."
   ]
  },
  {
   "cell_type": "code",
   "execution_count": 3,
   "id": "2b994588-ae3d-4c01-b83c-2465a202b8e6",
   "metadata": {},
   "outputs": [],
   "source": [
    "ressenti = FichierCsvEnquete(r'C:\\Users\\martin.schoreisz\\Box\\Cerema\\3E-Prod_Env_Risq\\E6-Nuisances\\E61-Acoustique\\60-Etudes_Locales\\2022-BruitRessentiBdxMet\\4-Travaux_en_cours\\Enquete_LimeSurvey\\resultats_LimeSurvey_Bruts\\resultats_complets_enquete_avec_papier.csv')"
   ]
  },
  {
   "cell_type": "markdown",
   "id": "be101c2b-066c-467f-ac85-a6baba4d115b",
   "metadata": {
    "tags": []
   },
   "source": [
    "## Analyse des données de participants et déclarations  \n",
    "Il s'agit de fournir des indicateurs de répartition des différentes valeurs de contexte et de déclaration fournies par les participants. Attention, les formulaires papiers ne permettaient pas de remplir tout les informations de contexte"
   ]
  },
  {
   "cell_type": "markdown",
   "id": "a6ccac3f-5a77-466a-8e61-404fe468e6a6",
   "metadata": {
    "tags": []
   },
   "source": [
    "<div class=\"alert alert-block alert-warning\"><b>Attention:</b> Il n'y a pas d'analyse des commentaires réalisée pour le moment.</div>"
   ]
  },
  {
   "cell_type": "code",
   "execution_count": 16,
   "id": "e53db6ba-5cc2-4dc5-ba4c-6cb3c3f5d2ea",
   "metadata": {},
   "outputs": [],
   "source": [
    "#creation des donnees\n",
    "dicoCharts = ressenti.creationDfAnalyseRetour()\n",
    "# creation des charts, avec ou sans export\n",
    "ressenti.creationCharts(dicoCharts, export=False)"
   ]
  },
  {
   "cell_type": "code",
   "execution_count": 21,
   "id": "b28c671d-3342-4358-94b7-19a2c2c37420",
   "metadata": {},
   "outputs": [
    {
     "data": {
      "text/html": [
       "\n",
       "<div id=\"altair-viz-b207a534113942e0b259d02c0e3e449e\"></div>\n",
       "<script type=\"text/javascript\">\n",
       "  var VEGA_DEBUG = (typeof VEGA_DEBUG == \"undefined\") ? {} : VEGA_DEBUG;\n",
       "  (function(spec, embedOpt){\n",
       "    let outputDiv = document.currentScript.previousElementSibling;\n",
       "    if (outputDiv.id !== \"altair-viz-b207a534113942e0b259d02c0e3e449e\") {\n",
       "      outputDiv = document.getElementById(\"altair-viz-b207a534113942e0b259d02c0e3e449e\");\n",
       "    }\n",
       "    const paths = {\n",
       "      \"vega\": \"https://cdn.jsdelivr.net/npm//vega@5?noext\",\n",
       "      \"vega-lib\": \"https://cdn.jsdelivr.net/npm//vega-lib?noext\",\n",
       "      \"vega-lite\": \"https://cdn.jsdelivr.net/npm//vega-lite@4.17.0?noext\",\n",
       "      \"vega-embed\": \"https://cdn.jsdelivr.net/npm//vega-embed@6?noext\",\n",
       "    };\n",
       "\n",
       "    function maybeLoadScript(lib, version) {\n",
       "      var key = `${lib.replace(\"-\", \"\")}_version`;\n",
       "      return (VEGA_DEBUG[key] == version) ?\n",
       "        Promise.resolve(paths[lib]) :\n",
       "        new Promise(function(resolve, reject) {\n",
       "          var s = document.createElement('script');\n",
       "          document.getElementsByTagName(\"head\")[0].appendChild(s);\n",
       "          s.async = true;\n",
       "          s.onload = () => {\n",
       "            VEGA_DEBUG[key] = version;\n",
       "            return resolve(paths[lib]);\n",
       "          };\n",
       "          s.onerror = () => reject(`Error loading script: ${paths[lib]}`);\n",
       "          s.src = paths[lib];\n",
       "        });\n",
       "    }\n",
       "\n",
       "    function showError(err) {\n",
       "      outputDiv.innerHTML = `<div class=\"error\" style=\"color:red;\">${err}</div>`;\n",
       "      throw err;\n",
       "    }\n",
       "\n",
       "    function displayChart(vegaEmbed) {\n",
       "      vegaEmbed(outputDiv, spec, embedOpt)\n",
       "        .catch(err => showError(`Javascript Error: ${err.message}<br>This usually means there's a typo in your chart specification. See the javascript console for the full traceback.`));\n",
       "    }\n",
       "\n",
       "    if(typeof define === \"function\" && define.amd) {\n",
       "      requirejs.config({paths});\n",
       "      require([\"vega-embed\"], displayChart, err => showError(`Error loading script: ${err.message}`));\n",
       "    } else {\n",
       "      maybeLoadScript(\"vega\", \"5\")\n",
       "        .then(() => maybeLoadScript(\"vega-lite\", \"4.17.0\"))\n",
       "        .then(() => maybeLoadScript(\"vega-embed\", \"6\"))\n",
       "        .catch(showError)\n",
       "        .then(() => displayChart(vegaEmbed));\n",
       "    }\n",
       "  })({\"config\": {\"view\": {\"continuousWidth\": 400, \"continuousHeight\": 300}, \"legend\": {\"labelLimit\": 0}}, \"layer\": [{\"mark\": {\"type\": \"arc\", \"cornerRadius\": 50, \"outerRadius\": 120}, \"encoding\": {\"color\": {\"field\": \"valeurs\", \"scale\": {\"scheme\": \"category20\"}, \"sort\": \"ascending\", \"type\": \"nominal\"}, \"theta\": {\"field\": \"nb_valeurs\", \"sort\": \"ascending\", \"stack\": true, \"type\": \"quantitative\"}}, \"title\": \"Repartition des participants selon leur sensibilite au bruit\"}, {\"mark\": {\"type\": \"text\", \"angle\": 45, \"fontStyle\": \"bold\", \"radius\": 155, \"size\": 15}, \"encoding\": {\"color\": {\"field\": \"valeurs\", \"scale\": {\"scheme\": \"category20\"}, \"sort\": \"ascending\", \"type\": \"nominal\"}, \"text\": {\"field\": \"pctag\", \"type\": \"nominal\"}, \"theta\": {\"field\": \"nb_valeurs\", \"sort\": \"ascending\", \"stack\": true, \"type\": \"quantitative\"}}, \"title\": \"Repartition des participants selon leur sensibilite au bruit\"}], \"data\": {\"name\": \"data-b1a19abcd1780100706a34b4b56b7abe\"}, \"$schema\": \"https://vega.github.io/schema/vega-lite/v4.17.0.json\", \"datasets\": {\"data-b1a19abcd1780100706a34b4b56b7abe\": [{\"valeurs\": 0, \"nb_valeurs\": 2, \"test\": \"sensibilite_bruit\", \"pctag\": \"2 (2%)\"}, {\"valeurs\": 10, \"nb_valeurs\": 6, \"test\": \"sensibilite_bruit\", \"pctag\": \"6 (8%)\"}, {\"valeurs\": \"2\", \"nb_valeurs\": 3, \"test\": \"sensibilite_bruit\", \"pctag\": \"3 (4%)\"}, {\"valeurs\": \"3\", \"nb_valeurs\": 2, \"test\": \"sensibilite_bruit\", \"pctag\": \"2 (2%)\"}, {\"valeurs\": \"4\", \"nb_valeurs\": 8, \"test\": \"sensibilite_bruit\", \"pctag\": \"8 (10%)\"}, {\"valeurs\": \"5\", \"nb_valeurs\": 16, \"test\": \"sensibilite_bruit\", \"pctag\": \"16 (21%)\"}, {\"valeurs\": \"6\", \"nb_valeurs\": 7, \"test\": \"sensibilite_bruit\", \"pctag\": \"7 (9%)\"}, {\"valeurs\": \"7\", \"nb_valeurs\": 8, \"test\": \"sensibilite_bruit\", \"pctag\": \"8 (10%)\"}, {\"valeurs\": \"8\", \"nb_valeurs\": 10, \"test\": \"sensibilite_bruit\", \"pctag\": \"10 (13%)\"}, {\"valeurs\": \"9\", \"nb_valeurs\": 7, \"test\": \"sensibilite_bruit\", \"pctag\": \"7 (9%)\"}, {\"valeurs\": \"inconnu\", \"nb_valeurs\": 6, \"test\": \"sensibilite_bruit\", \"pctag\": \"6 (8%)\"}]}}, {\"mode\": \"vega-lite\"});\n",
       "</script>"
      ],
      "text/plain": [
       "alt.LayerChart(...)"
      ]
     },
     "execution_count": 21,
     "metadata": {},
     "output_type": "execute_result"
    }
   ],
   "source": [
    "# exemple\n",
    "dicoCharts['sensibilite']['data']\n",
    "dicoCharts['sensibilite']['chart']"
   ]
  },
  {
   "cell_type": "markdown",
   "id": "7f898f11-80d4-4ed2-8f24-26e81faddcae",
   "metadata": {},
   "source": [
    "# DONNEES MÉTÉO\n",
    "L'objectif est double : \n",
    "1. fournir des rose des vents selon une période de temps définie\n",
    "1. fournir le statut de propagation acoustique (favorable / défavorable) selon l'angle et une période de temps définie"
   ]
  },
  {
   "cell_type": "markdown",
   "id": "01448ae7-382e-417b-8241-d1bd4ad08f52",
   "metadata": {
    "tags": []
   },
   "source": [
    "## Import des données brutes  \n",
    "Les données sont réparties sur 2 fichiers dans le dossier suivant C:\\Users\\martin.schoreisz\\Box\\Cerema\\3E-Prod_Env_Risq\\E6-Nuisances\\E61-Acoustique\\60-Etudes_Locales\\2022-BruitRessentiBdxMet\\4-Travaux_en_cours\\mesures\\station_meteo\\datas"
   ]
  },
  {
   "cell_type": "code",
   "execution_count": 23,
   "id": "048b74fc-951d-4cad-b7b5-372ba43e3f79",
   "metadata": {},
   "outputs": [],
   "source": [
    "dossier = r'C:\\Users\\martin.schoreisz\\Box\\Cerema\\3E-Prod_Env_Risq\\E6-Nuisances\\E61-Acoustique\\60-Etudes_Locales\\2022-BruitRessentiBdxMet\\4-Travaux_en_cours\\mesures\\station_meteo\\datas'\n",
    "files = ['Mesures_Ech24_21-03-2022_04-04-2022.csv', 'Mesures_Ech24_04-04-2022_19-04-2022.csv']"
   ]
  },
  {
   "cell_type": "code",
   "execution_count": 27,
   "id": "fddb6f6d-ab3f-4eff-9fa7-0d3a63da086f",
   "metadata": {},
   "outputs": [],
   "source": [
    "dfBrute = pd.read_csv(os.path.join(dossier, files[0]), skiprows=2, usecols=[0, 1, 2, 4, 5, 6, 9, 10, 11, 13, 14, 15],\n",
    "                      names=['rowNum', 'dateHeure', 'vtsVentHaut', 'rayonnement', 'tempHaut', 'hygroHaut', \n",
    "                            'dirVentHaut', 'dirVentBas', 'vitVentBas', 'pluie', 'tempBas', 'hygroBas'],\n",
    "                     parse_dates=[1], dayfirst=True)"
   ]
  },
  {
   "cell_type": "code",
   "execution_count": 26,
   "id": "2c8d7133-b289-4981-8401-b6076946b73d",
   "metadata": {},
   "outputs": [
    {
     "data": {
      "text/html": [
       "<div>\n",
       "<style scoped>\n",
       "    .dataframe tbody tr th:only-of-type {\n",
       "        vertical-align: middle;\n",
       "    }\n",
       "\n",
       "    .dataframe tbody tr th {\n",
       "        vertical-align: top;\n",
       "    }\n",
       "\n",
       "    .dataframe thead th {\n",
       "        text-align: right;\n",
       "    }\n",
       "</style>\n",
       "<table border=\"1\" class=\"dataframe\">\n",
       "  <thead>\n",
       "    <tr style=\"text-align: right;\">\n",
       "      <th></th>\n",
       "      <th>rowNum</th>\n",
       "      <th>dateHeure</th>\n",
       "      <th>vtsVentHaut</th>\n",
       "      <th>rayonnement</th>\n",
       "      <th>tempHaut</th>\n",
       "      <th>hygoHaut</th>\n",
       "      <th>dirVentHaut</th>\n",
       "      <th>dirVentBas</th>\n",
       "      <th>vitVentBas</th>\n",
       "      <th>pluie</th>\n",
       "      <th>tempBas</th>\n",
       "      <th>hygoBas</th>\n",
       "    </tr>\n",
       "  </thead>\n",
       "  <tbody>\n",
       "    <tr>\n",
       "      <th>0</th>\n",
       "      <td>1</td>\n",
       "      <td>2022-03-21 13:21:21</td>\n",
       "      <td>2.77</td>\n",
       "      <td>674.4</td>\n",
       "      <td>19.032</td>\n",
       "      <td>54.5</td>\n",
       "      <td>88.4</td>\n",
       "      <td>355.2</td>\n",
       "      <td>1.51</td>\n",
       "      <td>NaN</td>\n",
       "      <td>19.936</td>\n",
       "      <td>55.9</td>\n",
       "    </tr>\n",
       "    <tr>\n",
       "      <th>1</th>\n",
       "      <td>2</td>\n",
       "      <td>2022-03-21 13:22:21</td>\n",
       "      <td>2.77</td>\n",
       "      <td>670.6</td>\n",
       "      <td>18.913</td>\n",
       "      <td>53.3</td>\n",
       "      <td>106.7</td>\n",
       "      <td>355.2</td>\n",
       "      <td>1.26</td>\n",
       "      <td>0.0</td>\n",
       "      <td>19.936</td>\n",
       "      <td>56.2</td>\n",
       "    </tr>\n",
       "    <tr>\n",
       "      <th>2</th>\n",
       "      <td>3</td>\n",
       "      <td>2022-03-21 13:23:21</td>\n",
       "      <td>3.27</td>\n",
       "      <td>669.4</td>\n",
       "      <td>18.866</td>\n",
       "      <td>53.4</td>\n",
       "      <td>85.6</td>\n",
       "      <td>85.6</td>\n",
       "      <td>1.51</td>\n",
       "      <td>0.0</td>\n",
       "      <td>19.770</td>\n",
       "      <td>55.1</td>\n",
       "    </tr>\n",
       "    <tr>\n",
       "      <th>3</th>\n",
       "      <td>4</td>\n",
       "      <td>2022-03-21 13:24:21</td>\n",
       "      <td>3.53</td>\n",
       "      <td>670.6</td>\n",
       "      <td>18.747</td>\n",
       "      <td>53.5</td>\n",
       "      <td>98.3</td>\n",
       "      <td>87.0</td>\n",
       "      <td>1.51</td>\n",
       "      <td>0.0</td>\n",
       "      <td>19.627</td>\n",
       "      <td>55.7</td>\n",
       "    </tr>\n",
       "    <tr>\n",
       "      <th>4</th>\n",
       "      <td>5</td>\n",
       "      <td>2022-03-21 13:25:21</td>\n",
       "      <td>1.76</td>\n",
       "      <td>671.9</td>\n",
       "      <td>18.961</td>\n",
       "      <td>54.0</td>\n",
       "      <td>103.9</td>\n",
       "      <td>99.7</td>\n",
       "      <td>0.76</td>\n",
       "      <td>0.0</td>\n",
       "      <td>19.841</td>\n",
       "      <td>56.9</td>\n",
       "    </tr>\n",
       "    <tr>\n",
       "      <th>...</th>\n",
       "      <td>...</td>\n",
       "      <td>...</td>\n",
       "      <td>...</td>\n",
       "      <td>...</td>\n",
       "      <td>...</td>\n",
       "      <td>...</td>\n",
       "      <td>...</td>\n",
       "      <td>...</td>\n",
       "      <td>...</td>\n",
       "      <td>...</td>\n",
       "      <td>...</td>\n",
       "      <td>...</td>\n",
       "    </tr>\n",
       "    <tr>\n",
       "      <th>20196</th>\n",
       "      <td>20197</td>\n",
       "      <td>2022-04-04 13:57:21</td>\n",
       "      <td>1.76</td>\n",
       "      <td>766.9</td>\n",
       "      <td>10.907</td>\n",
       "      <td>37.0</td>\n",
       "      <td>67.4</td>\n",
       "      <td>57.6</td>\n",
       "      <td>1.26</td>\n",
       "      <td>0.0</td>\n",
       "      <td>12.268</td>\n",
       "      <td>39.2</td>\n",
       "    </tr>\n",
       "    <tr>\n",
       "      <th>20197</th>\n",
       "      <td>20198</td>\n",
       "      <td>2022-04-04 13:58:21</td>\n",
       "      <td>1.01</td>\n",
       "      <td>768.1</td>\n",
       "      <td>10.858</td>\n",
       "      <td>37.6</td>\n",
       "      <td>53.3</td>\n",
       "      <td>39.3</td>\n",
       "      <td>0.50</td>\n",
       "      <td>0.0</td>\n",
       "      <td>12.025</td>\n",
       "      <td>40.0</td>\n",
       "    </tr>\n",
       "    <tr>\n",
       "      <th>20198</th>\n",
       "      <td>20199</td>\n",
       "      <td>2022-04-04 13:59:21</td>\n",
       "      <td>1.26</td>\n",
       "      <td>766.9</td>\n",
       "      <td>10.785</td>\n",
       "      <td>37.5</td>\n",
       "      <td>61.8</td>\n",
       "      <td>73.0</td>\n",
       "      <td>1.01</td>\n",
       "      <td>0.0</td>\n",
       "      <td>11.807</td>\n",
       "      <td>39.8</td>\n",
       "    </tr>\n",
       "    <tr>\n",
       "      <th>20199</th>\n",
       "      <td>20200</td>\n",
       "      <td>2022-04-04 14:00:21</td>\n",
       "      <td>1.51</td>\n",
       "      <td>756.9</td>\n",
       "      <td>10.663</td>\n",
       "      <td>36.9</td>\n",
       "      <td>33.7</td>\n",
       "      <td>30.9</td>\n",
       "      <td>1.26</td>\n",
       "      <td>0.0</td>\n",
       "      <td>11.734</td>\n",
       "      <td>37.6</td>\n",
       "    </tr>\n",
       "    <tr>\n",
       "      <th>20200</th>\n",
       "      <td>20201</td>\n",
       "      <td>2022-04-04 14:01:21</td>\n",
       "      <td>2.01</td>\n",
       "      <td>709.4</td>\n",
       "      <td>10.614</td>\n",
       "      <td>38.2</td>\n",
       "      <td>355.2</td>\n",
       "      <td>341.2</td>\n",
       "      <td>1.51</td>\n",
       "      <td>0.0</td>\n",
       "      <td>11.613</td>\n",
       "      <td>41.0</td>\n",
       "    </tr>\n",
       "  </tbody>\n",
       "</table>\n",
       "<p>20201 rows × 12 columns</p>\n",
       "</div>"
      ],
      "text/plain": [
       "       rowNum           dateHeure  vtsVentHaut  rayonnement  tempHaut  \\\n",
       "0           1 2022-03-21 13:21:21         2.77        674.4    19.032   \n",
       "1           2 2022-03-21 13:22:21         2.77        670.6    18.913   \n",
       "2           3 2022-03-21 13:23:21         3.27        669.4    18.866   \n",
       "3           4 2022-03-21 13:24:21         3.53        670.6    18.747   \n",
       "4           5 2022-03-21 13:25:21         1.76        671.9    18.961   \n",
       "...       ...                 ...          ...          ...       ...   \n",
       "20196   20197 2022-04-04 13:57:21         1.76        766.9    10.907   \n",
       "20197   20198 2022-04-04 13:58:21         1.01        768.1    10.858   \n",
       "20198   20199 2022-04-04 13:59:21         1.26        766.9    10.785   \n",
       "20199   20200 2022-04-04 14:00:21         1.51        756.9    10.663   \n",
       "20200   20201 2022-04-04 14:01:21         2.01        709.4    10.614   \n",
       "\n",
       "       hygoHaut  dirVentHaut  dirVentBas  vitVentBas  pluie  tempBas  hygoBas  \n",
       "0          54.5         88.4       355.2        1.51    NaN   19.936     55.9  \n",
       "1          53.3        106.7       355.2        1.26    0.0   19.936     56.2  \n",
       "2          53.4         85.6        85.6        1.51    0.0   19.770     55.1  \n",
       "3          53.5         98.3        87.0        1.51    0.0   19.627     55.7  \n",
       "4          54.0        103.9        99.7        0.76    0.0   19.841     56.9  \n",
       "...         ...          ...         ...         ...    ...      ...      ...  \n",
       "20196      37.0         67.4        57.6        1.26    0.0   12.268     39.2  \n",
       "20197      37.6         53.3        39.3        0.50    0.0   12.025     40.0  \n",
       "20198      37.5         61.8        73.0        1.01    0.0   11.807     39.8  \n",
       "20199      36.9         33.7        30.9        1.26    0.0   11.734     37.6  \n",
       "20200      38.2        355.2       341.2        1.51    0.0   11.613     41.0  \n",
       "\n",
       "[20201 rows x 12 columns]"
      ]
     },
     "execution_count": 26,
     "metadata": {},
     "output_type": "execute_result"
    }
   ],
   "source": [
    "dfBrute"
   ]
  },
  {
   "cell_type": "code",
   "execution_count": null,
   "id": "984cbf19-502d-4399-8a5c-aa131637ec25",
   "metadata": {},
   "outputs": [],
   "source": []
  }
 ],
 "metadata": {
  "kernelspec": {
   "display_name": "Python 3 (ipykernel)",
   "language": "python",
   "name": "python3"
  },
  "language_info": {
   "codemirror_mode": {
    "name": "ipython",
    "version": 3
   },
   "file_extension": ".py",
   "mimetype": "text/x-python",
   "name": "python",
   "nbconvert_exporter": "python",
   "pygments_lexer": "ipython3",
   "version": "3.9.6"
  },
  "toc-autonumbering": true
 },
 "nbformat": 4,
 "nbformat_minor": 5
}
