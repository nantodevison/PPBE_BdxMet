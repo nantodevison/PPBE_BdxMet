{
 "cells": [
  {
   "cell_type": "code",
   "execution_count": 1,
   "id": "bcb9be54-e239-4f53-9d81-51f90c081993",
   "metadata": {},
   "outputs": [],
   "source": [
    "%load_ext autoreload\n",
    "%autoreload 2"
   ]
  },
  {
   "cell_type": "code",
   "execution_count": null,
   "id": "df897ed3-90e1-4159-b2f7-e81e6c8dca2f",
   "metadata": {},
   "outputs": [],
   "source": [
    "sys.path.append(r'C:\\Users\\martin.schoreisz\\git\\Outils\\Outils\\Martin_Perso\\Bruit')\n",
    "\n",
    "import pandas as pd\n",
    "import altair as alt\n",
    "import datetime as dti\n",
    "import locale\n",
    "from Emission import\n",
    "\n",
    "locale.setlocale(locale.LC_ALL, 'fr_FR')"
   ]
  },
  {
   "cell_type": "markdown",
   "id": "77f20a3b-839b-4f3e-b2d5-005283a8bd11",
   "metadata": {
    "tags": []
   },
   "source": [
    "# ExD936  \n",
    "sur cette voie il va falloir extrapoler des données : \n",
    "- sur la première semaines de mesure\n",
    "- sur un des deux sens pendant la deuxième semaine de mesure"
   ]
  },
  {
   "cell_type": "markdown",
   "id": "5828b632-030a-4f21-bc13-a3359f23aae8",
   "metadata": {
    "tags": []
   },
   "source": [
    "> ## comparaison des données Cerema et BdxMet\n",
    "il s'agit de comparer les données Bdx Met avec les données Cerema, pour pouvoir extrapoler les valeurs sur la 2ème semaine de mesures acoustiques dans les deux sens"
   ]
  },
  {
   "cell_type": "code",
   "execution_count": 3,
   "id": "9a662adf-f83f-4e02-bf0a-3e0f4eda6428",
   "metadata": {},
   "outputs": [],
   "source": [
    "# paramètres \n",
    "fichierCerema = r'C:\\Users\\martin.schoreisz\\Box\\Cerema\\3E-Prod_Env_Risq\\E6-Nuisances\\E61-Acoustique\\60-Etudes_Locales\\2022-BruitRessentiBdxMet\\4-Travaux_en_cours\\mesures\\trafic\\exD936\\du_29-03-2022_au_04-04-2022_Cerema\\Mesures_individuelles.xlsx'\n",
    "fichierBM = r'C:\\Users\\martin.schoreisz\\Box\\Cerema\\3E-Prod_Env_Risq\\E6-Nuisances\\E61-Acoustique\\60-Etudes_Locales\\2022-BruitRessentiBdxMet\\4-Travaux_en_cours\\mesures\\trafic\\exD936\\du_04-04-2022 au 18-04-2022_CEPV\\CSV\\Semaine1\\Vers_Bordeaux\\00030093-20220331123748.CSV'"
   ]
  },
  {
   "cell_type": "code",
   "execution_count": 4,
   "id": "e6f19d62-a951-431e-a961-6d994d893c68",
   "metadata": {},
   "outputs": [],
   "source": [
    "# import des données et mise en forme\n",
    "dfCerema = pd.read_excel(fichierCerema, names=['horodatage', 'voie', 'contresens', 'vitesse', 'longueur', 'classe_veh'])\n",
    "dfBm = pd.read_csv(fichierBM, names=['date', 'heure', 'vitesse', 'longueur', 'div', 'voie', 'reverse'] , skiprows=5)\n",
    "dfBm['horodatage'] = pd.to_datetime(dfBm.date + ' ' + dfBm.heure, dayfirst=True)\n",
    "dfCerema['classe_veh'] = dfCerema.longueur.apply(lambda x: 'vl' if x <= 6 else 'pl')\n",
    "dfBm['classe_veh'] = dfBm.longueur.apply(lambda x: 'vl' if x <= 6 else 'pl')"
   ]
  },
  {
   "cell_type": "code",
   "execution_count": 95,
   "id": "79ae9e2c-fc19-4668-acdd-a93db6c3d125",
   "metadata": {},
   "outputs": [],
   "source": [
    "# Comparaison des données\n",
    "dfBm30min = dfBm.groupby([pd.Grouper(freq='30min', key='horodatage'), 'classe_veh']).date.count().reset_index().rename(\n",
    "    columns={'date': 'nb_veh'}).sort_values(['horodatage', 'classe_veh'])\n",
    "dfCerema30min = dfCerema.groupby([pd.Grouper(freq='30min', key='horodatage'), 'classe_veh']).voie.count().reset_index().rename(\n",
    "    columns={'voie': 'nb_veh'}).sort_values(['horodatage', 'classe_veh'])\n",
    "jointureBmCerema30min = dfBm30min.merge(dfCerema30min, on=['horodatage', 'classe_veh'], suffixes=['_bm', '_cerema'])[2:-2]\n",
    "dfDiffPc = jointureBmCerema30min.groupby('horodatage').apply(\n",
    "        lambda x: 1 - (sum(x.nb_veh_bm) / sum(x.nb_veh_cerema))).reset_index().rename(columns={0: 'pc_diff_bm_cerema'})"
   ]
  },
  {
   "cell_type": "code",
   "execution_count": 163,
   "id": "79fd1720-03ea-4f26-ab13-4695b5a53fe3",
   "metadata": {},
   "outputs": [],
   "source": [
    "# Visualisation\n",
    "dFGraph = pd.melt(jointureBmCerema30min.rename(columns={'nb_veh_bm': 'Bordeaux Metropole', 'nb_veh_cerema': 'Cerema'}),\n",
    "                  id_vars=(['horodatage', 'classe_veh']), value_vars=('Bordeaux Metropole', 'Cerema'),\n",
    "                  var_name='src_mesure')[1:-1]\n",
    "listChart, listChartMirroir = [], []\n",
    "largeurChart = 500\n",
    "formatDate = '%A %d %B'\n",
    "for dateTest in jointureBmCerema30min.horodatage.dt.strftime('%Y-%m-%d').unique():\n",
    "    # graph de comparaison TV\n",
    "    titre = f'Véhicules selon source ; le {dti.datetime.fromisoformat(dateTest).strftime(formatDate)}'\n",
    "    graphNbVeh = alt.Chart(dFGraph.loc[(dFGraph.src_mesure.isin(('Bordeaux Metropole', 'Cerema'))) &\n",
    "                                       (dFGraph.horodatage.dt.date == pd.to_datetime(dateTest))], title=titre, width=largeurChart).mark_line().encode(\n",
    "        x=alt.X('hoursminutes(horodatage):O', title='heure'),\n",
    "        y=alt.Y('sum(value):Q', title='Nombre de véhicules'),\n",
    "        color=alt.Color('src_mesure:N', scale=alt.Scale(scheme='dark2'), legend=alt.Legend(values=['Bordeaux Metropole', 'Cerema'], title=\"Source des mesures\"))\n",
    "    )\n",
    "    graphDiffNbVeh = alt.Chart(dfDiffPc.loc[dfDiffPc.horodatage.dt.date == pd.to_datetime(dateTest)]).mark_bar(opacity=0.3, color='gray').encode(\n",
    "        x=alt.X('hoursminutes(horodatage):O', title='heure'),\n",
    "        y=alt.Y('pc_diff_bm_cerema:Q', title='Pourcentage de variation', axis=alt.Axis(titleColor='gray')))\n",
    "    listChart.append(alt.layer(graphNbVeh, graphDiffNbVeh).resolve_scale(y='independent'))\n",
    "\n",
    "    # graph de comparaison VL / PL\n",
    "    titreMirroir = f'Type de véhicules selon source ; le {dti.datetime.fromisoformat(dateTest).strftime(formatDate)}'\n",
    "    graphMirroir = alt.Chart(dFGraph.loc[dFGraph.horodatage.dt.date == pd.to_datetime(dateTest)].assign(\n",
    "        type_veh=dFGraph.src_mesure+'_'+dFGraph.classe_veh, value=dFGraph.apply(\n",
    "            lambda x: 0-x.value if x.src_mesure == 'Cerema' else x.value, axis=1)), title=titreMirroir, width=largeurChart).mark_bar(\n",
    "    ).encode(\n",
    "    x=alt.X('hoursminutes(horodatage):O', title='Heure'),\n",
    "    y=alt.Y('value:Q', title='Nombre de véhicules', axis=alt.Axis(labelExpr='abs(datum.value)')),\n",
    "    color=alt.Color('type_veh', title='Type de véhicule', legend=alt.Legend(values=['Bordeaux Metropole_pl','Bordeaux Metropole_vl', 'Cerema_pl', 'Cerema_vl'])))\n",
    "    listChartMirroir.append(graphMirroir)\n",
    "\n",
    "graphCompCeremaBdxMet = alt.vconcat(*listChart)\n",
    "graphMirroirComplet = alt.vconcat(*listChartMirroir)\n",
    "graphCompTotalTrafic = (graphCompCeremaBdxMet | graphMirroirComplet).resolve_legend('independent')"
   ]
  },
  {
   "cell_type": "markdown",
   "id": "d68ff950-fb0c-4c92-8fb1-bfac6624bf3a",
   "metadata": {
    "tags": []
   },
   "source": [
    "<div class=\"alert alert-block alert-warning\"><b>Résultats:</b> Il y a une forte divergence des mesures en tout véhicules entre les données fournies par Bordeaux Métropole et celle mesurées par le Cerea, sur la période de recouvrement. Malheureusement cette période ne couvre que du vendredi 01 au lundi 04, mais les résultats sur les heures de pointes indique des variations pouvant aller jusqu'à 50%</div>"
   ]
  },
  {
   "cell_type": "code",
   "execution_count": 165,
   "id": "3a0b37d9-578b-483d-89dc-a353d34357cd",
   "metadata": {},
   "outputs": [
    {
     "data": {
      "text/html": [
       "<div>\n",
       "<style scoped>\n",
       "    .dataframe tbody tr th:only-of-type {\n",
       "        vertical-align: middle;\n",
       "    }\n",
       "\n",
       "    .dataframe tbody tr th {\n",
       "        vertical-align: top;\n",
       "    }\n",
       "\n",
       "    .dataframe thead th {\n",
       "        text-align: right;\n",
       "    }\n",
       "</style>\n",
       "<table border=\"1\" class=\"dataframe\">\n",
       "  <thead>\n",
       "    <tr style=\"text-align: right;\">\n",
       "      <th></th>\n",
       "      <th>horodatage</th>\n",
       "      <th>classe_veh</th>\n",
       "      <th>nb_veh_bm</th>\n",
       "      <th>nb_veh_cerema</th>\n",
       "    </tr>\n",
       "  </thead>\n",
       "  <tbody>\n",
       "    <tr>\n",
       "      <th>2</th>\n",
       "      <td>2022-03-31 13:00:00</td>\n",
       "      <td>pl</td>\n",
       "      <td>36</td>\n",
       "      <td>49</td>\n",
       "    </tr>\n",
       "    <tr>\n",
       "      <th>3</th>\n",
       "      <td>2022-03-31 13:00:00</td>\n",
       "      <td>vl</td>\n",
       "      <td>353</td>\n",
       "      <td>422</td>\n",
       "    </tr>\n",
       "    <tr>\n",
       "      <th>4</th>\n",
       "      <td>2022-03-31 13:30:00</td>\n",
       "      <td>pl</td>\n",
       "      <td>31</td>\n",
       "      <td>45</td>\n",
       "    </tr>\n",
       "    <tr>\n",
       "      <th>5</th>\n",
       "      <td>2022-03-31 13:30:00</td>\n",
       "      <td>vl</td>\n",
       "      <td>412</td>\n",
       "      <td>517</td>\n",
       "    </tr>\n",
       "    <tr>\n",
       "      <th>6</th>\n",
       "      <td>2022-03-31 14:00:00</td>\n",
       "      <td>pl</td>\n",
       "      <td>35</td>\n",
       "      <td>36</td>\n",
       "    </tr>\n",
       "    <tr>\n",
       "      <th>...</th>\n",
       "      <td>...</td>\n",
       "      <td>...</td>\n",
       "      <td>...</td>\n",
       "      <td>...</td>\n",
       "    </tr>\n",
       "    <tr>\n",
       "      <th>349</th>\n",
       "      <td>2022-04-04 09:00:00</td>\n",
       "      <td>vl</td>\n",
       "      <td>446</td>\n",
       "      <td>557</td>\n",
       "    </tr>\n",
       "    <tr>\n",
       "      <th>350</th>\n",
       "      <td>2022-04-04 09:30:00</td>\n",
       "      <td>pl</td>\n",
       "      <td>48</td>\n",
       "      <td>54</td>\n",
       "    </tr>\n",
       "    <tr>\n",
       "      <th>351</th>\n",
       "      <td>2022-04-04 09:30:00</td>\n",
       "      <td>vl</td>\n",
       "      <td>407</td>\n",
       "      <td>501</td>\n",
       "    </tr>\n",
       "    <tr>\n",
       "      <th>352</th>\n",
       "      <td>2022-04-04 10:00:00</td>\n",
       "      <td>pl</td>\n",
       "      <td>42</td>\n",
       "      <td>51</td>\n",
       "    </tr>\n",
       "    <tr>\n",
       "      <th>353</th>\n",
       "      <td>2022-04-04 10:00:00</td>\n",
       "      <td>vl</td>\n",
       "      <td>388</td>\n",
       "      <td>458</td>\n",
       "    </tr>\n",
       "  </tbody>\n",
       "</table>\n",
       "<p>352 rows × 4 columns</p>\n",
       "</div>"
      ],
      "text/plain": [
       "             horodatage classe_veh  nb_veh_bm  nb_veh_cerema\n",
       "2   2022-03-31 13:00:00         pl         36             49\n",
       "3   2022-03-31 13:00:00         vl        353            422\n",
       "4   2022-03-31 13:30:00         pl         31             45\n",
       "5   2022-03-31 13:30:00         vl        412            517\n",
       "6   2022-03-31 14:00:00         pl         35             36\n",
       "..                  ...        ...        ...            ...\n",
       "349 2022-04-04 09:00:00         vl        446            557\n",
       "350 2022-04-04 09:30:00         pl         48             54\n",
       "351 2022-04-04 09:30:00         vl        407            501\n",
       "352 2022-04-04 10:00:00         pl         42             51\n",
       "353 2022-04-04 10:00:00         vl        388            458\n",
       "\n",
       "[352 rows x 4 columns]"
      ]
     },
     "execution_count": 165,
     "metadata": {},
     "output_type": "execute_result"
    }
   ],
   "source": [
    "jointureBmCerema30min"
   ]
  },
  {
   "cell_type": "code",
   "execution_count": null,
   "id": "16a30130-3fc0-4718-a838-a7b92a0c7d56",
   "metadata": {},
   "outputs": [],
   "source": []
  }
 ],
 "metadata": {
  "kernelspec": {
   "display_name": "Python 3 (ipykernel)",
   "language": "python",
   "name": "python3"
  },
  "language_info": {
   "codemirror_mode": {
    "name": "ipython",
    "version": 3
   },
   "file_extension": ".py",
   "mimetype": "text/x-python",
   "name": "python",
   "nbconvert_exporter": "python",
   "pygments_lexer": "ipython3",
   "version": "3.9.6"
  }
 },
 "nbformat": 4,
 "nbformat_minor": 5
}
